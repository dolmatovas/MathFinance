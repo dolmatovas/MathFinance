{
 "cells": [
  {
   "cell_type": "code",
   "execution_count": 1,
   "id": "fee33467",
   "metadata": {},
   "outputs": [],
   "source": [
    "import sys\n",
    "sys.path.append('../SABR')"
   ]
  },
  {
   "cell_type": "code",
   "execution_count": 2,
   "id": "2ece9964",
   "metadata": {},
   "outputs": [],
   "source": [
    "from SABR_montecarlo import *"
   ]
  },
  {
   "cell_type": "code",
   "execution_count": 3,
   "id": "5a624e70",
   "metadata": {},
   "outputs": [],
   "source": [
    "from montecarlo import *\n",
    "from heston import *\n",
    "from sabr_approx import *\n",
    "from implied_volatility import *\n",
    "\n",
    "from matplotlib import pyplot as plt"
   ]
  },
  {
   "cell_type": "code",
   "execution_count": 4,
   "id": "e7fc0103",
   "metadata": {},
   "outputs": [],
   "source": [
    "def getMesh(Nu):\n",
    "    un, h = np.linspace(0, 50, Nu + 1, retstep=True)\n",
    "    un = un[:-1] + (h) / 2\n",
    "    return un, h * np.ones((Nu, ))"
   ]
  },
  {
   "cell_type": "code",
   "execution_count": 5,
   "id": "b5d703e4",
   "metadata": {},
   "outputs": [],
   "source": [
    "def getPhiAB(u, tau, k, sig, theta, rho, v):\n",
    "    \n",
    "    xi = k - sig * rho * u * 1j\n",
    "    d = np.sqrt( xi ** 2 + sig**2 * (1j * u + u ** 2) + 0j)\n",
    "    \n",
    "    s = np.sinh(d*tau/2)\n",
    "    c = np.cosh(d*tau/2)\n",
    "    A1 = (1j*u + u**2)*s\n",
    "    A2 = d*c + xi*s\n",
    "    A = A1 / A2\n",
    "    \n",
    "    D = np.log(d) + (k-d)*tau/2 - np.log((d+xi)/2 + (d-xi)/2*np.exp(-d * tau))\n",
    "    \n",
    "    pred_phi = np.exp(-k * theta * rho * tau * u * 1j / sig - A * v + 2 * k * theta / sig ** 2 * D)\n",
    "    return pred_phi"
   ]
  },
  {
   "cell_type": "code",
   "execution_count": 6,
   "id": "b93c85b1",
   "metadata": {},
   "outputs": [],
   "source": [
    "def getPhiABZeroSigma(u, tau, k, sig, theta, rho, v):\n",
    "    \n",
    "    A = u * (1j + u) / 2 / k * (1 - np.exp(- k * tau))\n",
    "    B = theta * u * (1j + u) / 2 * ( (1-np.exp(-k * tau)) / k - tau )\n",
    "    \n",
    "    pred_phi = np.exp(-A * v + B)\n",
    "    return pred_phi"
   ]
  },
  {
   "cell_type": "code",
   "execution_count": 7,
   "id": "1012a2dc",
   "metadata": {},
   "outputs": [],
   "source": [
    "def getOptionPriceAB(S, K, Nu, tau, r, v, theta, rho, k, sig, isCall=True):\n",
    "    \n",
    "    if not isinstance(S, np.ndarray):\n",
    "        S = np.asarray([S])\n",
    "    if not isinstance(K, np.ndarray):\n",
    "        K = np.asarray([K])\n",
    "    if not isinstance(v, np.ndarray):\n",
    "        v = np.asarray([v])\n",
    "    #dims go as follow:\n",
    "    #K S v u\n",
    "    S = S.reshape(1, -1, 1, 1)\n",
    "    K = K.reshape(-1, 1, 1, 1)\n",
    "    v = v.reshape(1, 1, -1, 1)\n",
    "\n",
    "    Ns = S.size\n",
    "    Nk = K.size\n",
    "    Nv = v.size\n",
    "\n",
    "    un, hn = getMesh(Nu)\n",
    "\n",
    "    un = un.reshape(1, 1, 1, -1)\n",
    "    hn = hn.reshape(1, 1, 1, -1)\n",
    "    \n",
    "    xn = np.log(S * np.exp(r * tau) / K)\n",
    "    \n",
    "\n",
    "    batchSize = 100\n",
    "\n",
    "    I1 = np.zeros((Nk, Ns, Nv, 1))\n",
    "    I2 = np.zeros((Nk, Ns, Nv, 1))\n",
    "    for i in range(Nu // batchSize + 1):\n",
    "        start = i * batchSize\n",
    "        end = start + batchSize\n",
    "        unbatch = un[:, :, :, start:end]\n",
    "        hnbatch = hn[:, :, :, start:end]\n",
    "        \n",
    "        pred_phi = getPhiAB(unbatch, tau, k, sig, theta, rho, v)\n",
    "        pred_phi_tilda = getPhiAB(unbatch - 1j, tau, k, sig, theta, rho, v)\n",
    "\n",
    "        F1 = np.exp(1j * unbatch * xn) * pred_phi / (1j * unbatch)\n",
    "        F2 = np.exp(1j * unbatch * xn) * pred_phi_tilda / (1j * unbatch)\n",
    "        \n",
    "        F1 = F1.real * hnbatch\n",
    "        F2 = F2.real * hnbatch\n",
    "        \n",
    "        #F1 = F1.real * np.sin(hnbatch * xn / 2) * 2 / xn\n",
    "        #F2 = F2.real * np.sin(hnbatch * xn / 2) * 2 / xn\n",
    "\n",
    "        \n",
    "        I1 += np.sum(F1, axis=-1, keepdims=True) / np.pi\n",
    "        I2 += np.sum(F2, axis=-1, keepdims=True) / np.pi\n",
    "    assert I1.shape == (Nk, Ns, Nv, 1)\n",
    "    if isCall:\n",
    "        P1 = 0.5 + I1\n",
    "        P2 = 0.5 + I2\n",
    "        res = S * P2 - np.exp(-r * tau) * K * P1\n",
    "    else:\n",
    "        P1 = 0.5 - I1\n",
    "        P2 = 0.5 - I2\n",
    "        res = np.exp(-r * tau) * K * P1 - S * P2\n",
    "    return res.squeeze()"
   ]
  },
  {
   "cell_type": "code",
   "execution_count": 8,
   "id": "a9153109",
   "metadata": {},
   "outputs": [],
   "source": [
    "def getOptionPriceZeroSigma(S, K, Nu, tau, r, v, theta, rho, k, sig, isCall=True):\n",
    "    if not isinstance(S, np.ndarray):\n",
    "        S = np.asarray([S])\n",
    "    if not isinstance(K, np.ndarray):\n",
    "        K = np.asarray([K])\n",
    "    \n",
    "    S = S.reshape(1, -1)\n",
    "    K = K.reshape(-1, 1)\n",
    "    \n",
    "    xn = np.log(S * np.exp(r * tau) / K)\n",
    "    Ns = S.size\n",
    "    Nk = K.size\n",
    "\n",
    "    sigT = np.sqrt( theta + (v-theta)/(k*tau) * (1 - np.exp(-k * tau)) )\n",
    "\n",
    "    d1 = xn / (sigT * np.sqrt(tau)) + sigT * np.sqrt(tau) / 2\n",
    "    d2 = xn / (sigT * np.sqrt(tau)) - sigT * np.sqrt(tau) / 2\n",
    "    res = S * sps.norm.cdf(d1) - K * np.exp(-r * tau) * sps.norm.cdf(d2)\n",
    "    return res.squeeze()\n",
    "\n",
    "\n",
    "def getOptionPriceABZeroSigma(S, K, Nu, tau, r, v, theta, rho, k, sig):\n",
    "\n",
    "    if not isinstance(S, np.ndarray):\n",
    "        S = np.asarray([S])\n",
    "    if not isinstance(K, np.ndarray):\n",
    "        K = np.asarray([K])\n",
    "    #dims go as follow:\n",
    "    #K S v u\n",
    "    S = S.reshape(1, -1, 1)\n",
    "    K = K.reshape(-1, 1, 1)\n",
    "\n",
    "    Ns = S.size\n",
    "    Nk = K.size\n",
    "\n",
    "    un, hn = getMesh(Nu)\n",
    "\n",
    "    un = un.reshape(1, 1, -1)\n",
    "    hn = hn.reshape(1, 1, -1)\n",
    "\n",
    "    xn = np.log(S * np.exp(r * tau) / K)\n",
    "\n",
    "\n",
    "    batchSize = 100\n",
    "\n",
    "    I1 = np.zeros((Nk, Ns, 1))\n",
    "    I2 = np.zeros((Nk, Ns, 1))\n",
    "    for i in range(Nu // batchSize + 1):\n",
    "        start = i * batchSize\n",
    "        end = start + batchSize\n",
    "        unbatch = un[:, :, start:end]\n",
    "        hnbatch = hn[:, :, start:end]\n",
    "\n",
    "        pred_phi_zero_sig = getPhiABZeroSigma(unbatch, tau, k, sig, theta, rho, v)\n",
    "        pred_phi_tilda_zero_sig = getPhiABZeroSigma(unbatch - 1j, tau, k, sig, theta, rho, v)\n",
    "\n",
    "\n",
    "        F1 = np.exp(1j * unbatch * xn) * (pred_phi_zero_sig) / (1j * unbatch)\n",
    "        F2 = np.exp(1j * unbatch * xn) * (pred_phi_tilda_zero_sig) / (1j * unbatch)\n",
    "\n",
    "        F1 = F1.real * hnbatch\n",
    "        F2 = F2.real * hnbatch\n",
    "\n",
    "        I1 += np.sum(F1, axis=-1, keepdims=True) / np.pi\n",
    "        I2 += np.sum(F2, axis=-1, keepdims=True) / np.pi\n",
    "    assert I1.shape == (Nk, Ns, 1)\n",
    "\n",
    "    P1 = 0.5 + I1\n",
    "    P2 = 0.5 + I2\n",
    "    res = S * P2 - np.exp(-r * tau) * K * P1\n",
    "    return res.squeeze()"
   ]
  },
  {
   "cell_type": "code",
   "execution_count": 9,
   "id": "6b4a5f10",
   "metadata": {},
   "outputs": [],
   "source": [
    "def getOptionPriceABControlVariable(S, K, Nu, tau, r, v, theta, rho, k, sig, isCall=True):\n",
    "\n",
    "    if not isinstance(S, np.ndarray):\n",
    "        S = np.asarray([S])\n",
    "    if not isinstance(K, np.ndarray):\n",
    "        K = np.asarray([K])\n",
    "    if not isinstance(v, np.ndarray):\n",
    "        v = np.asarray([v])\n",
    "    #dims go as follow:\n",
    "    #K S v u\n",
    "    S = S.reshape(1, -1, 1, 1)\n",
    "    K = K.reshape(-1, 1, 1, 1)\n",
    "    v = v.reshape(1, 1, -1, 1)\n",
    "\n",
    "    Ns = S.size\n",
    "    Nk = K.size\n",
    "    Nv = v.size\n",
    "\n",
    "    un, hn = getMesh(Nu)\n",
    "\n",
    "    un = un.reshape(1, 1, 1, -1)\n",
    "    hn = hn.reshape(1, 1, 1, -1)\n",
    "\n",
    "    xn = np.log(S * np.exp(r * tau) / K)\n",
    "\n",
    "\n",
    "    batchSize = 100\n",
    "\n",
    "    I1 = np.zeros((Nk, Ns, Nv, 1))\n",
    "    I2 = np.zeros((Nk, Ns, Nv, 1))\n",
    "    for i in range(Nu // batchSize + 1):\n",
    "        start = i * batchSize\n",
    "        end = start + batchSize\n",
    "        unbatch = un[:, :, :, start:end]\n",
    "        hnbatch = hn[:, :, :, start:end]\n",
    "\n",
    "        pred_phi = getPhiAB(unbatch, tau, k, sig, theta, rho, v)\n",
    "        pred_phi_tilda = getPhiAB(unbatch - 1j, tau, k, sig, theta, rho, v)\n",
    "\n",
    "        pred_phi_zero_sig = getPhiABZeroSigma(unbatch, tau, k, sig, theta, rho, v)\n",
    "        pred_phi_tilda_zero_sig = getPhiABZeroSigma(unbatch - 1j, tau, k, sig, theta, rho, v)\n",
    "\n",
    "\n",
    "\n",
    "        F1 = np.exp(1j * unbatch * xn) * (pred_phi - pred_phi_zero_sig) / (1j * unbatch)\n",
    "        F2 = np.exp(1j * unbatch * xn) * (pred_phi_tilda - pred_phi_tilda_zero_sig) / (1j * unbatch)\n",
    "\n",
    "        #F1 = F1.real * hnbatch\n",
    "        #F2 = F2.real * hnbatch\n",
    "\n",
    "        F1 = F1.real * np.sin(hnbatch * xn / 2) * 2 / xn\n",
    "        F2 = F2.real * np.sin(hnbatch * xn / 2) * 2 / xn\n",
    "\n",
    "\n",
    "        I1 += np.sum(F1, axis=-1, keepdims=True) / np.pi\n",
    "        I2 += np.sum(F2, axis=-1, keepdims=True) / np.pi\n",
    "    assert I1.shape == (Nk, Ns, Nv, 1)\n",
    "\n",
    "    sigT = np.sqrt( theta + (v-theta)/(k*tau) * (1 - np.exp(-k * tau)) )\n",
    "\n",
    "    d1 = xn / (sigT * np.sqrt(tau)) + sigT * np.sqrt(tau) / 2\n",
    "    d2 = xn / (sigT * np.sqrt(tau)) - sigT * np.sqrt(tau) / 2\n",
    "    P10 = sps.norm.cdf(d2)\n",
    "    P20 = sps.norm.cdf(d1)\n",
    "\n",
    "    P1 = P10 + I1\n",
    "    P2 = P20 + I2\n",
    "    res = S * P2 - np.exp(-r * tau) * K * P1\n",
    "    return res.squeeze()"
   ]
  },
  {
   "cell_type": "code",
   "execution_count": 10,
   "id": "27ec17cb",
   "metadata": {},
   "outputs": [],
   "source": [
    "def getPhiABder(u, tau, k, sig, theta, rho, v):\n",
    "    xi = k - sig * rho * u * 1j\n",
    "    d = np.sqrt( xi ** 2 + sig**2 * (1j * u + u ** 2) + 0j)\n",
    "    \n",
    "    \n",
    "    c = np.cosh(d * tau / 2)\n",
    "    s = np.sinh(d * tau / 2)\n",
    "    \n",
    "    A1 = (1j * u + u ** 2) * s\n",
    "    A2 = (d * c + xi * s)\n",
    "    A = A1 / A2\n",
    "    \n",
    "    B = d * np.exp(k * tau / 2) / A2\n",
    "    \n",
    "    D = np.log(d) + (k - d) * tau / 2 - np.log( (d + xi)/2 + (d-xi)/2 * np.exp(-d*tau) )\n",
    "    \n",
    "    pred_phi = np.exp(-k * theta * rho * tau * u * 1j / sig - A * v + 2 * k * theta / sig ** 2 * D)\n",
    "    \n",
    "    der1 = -A\n",
    "    der2 = 2 * k / sig ** 2 * D - k * rho * tau * 1j * u / sig\n",
    "    \n",
    "    d_rho = -1j * u * sig * xi / d\n",
    "\n",
    "    A1_rho = -1j * u * sig * tau * xi / (2 * d) * (u ** 2 + 1j * u) * c\n",
    "    A2_rho = -(2 + xi * tau) * sig * 1j * u / (2 * d) * (xi * c + d * s)\n",
    "    \n",
    "    B_rho = np.exp(k * tau / 2) * (d_rho - d * A2_rho / A2) / A2\n",
    "    A_rho = (A1_rho - A * A2_rho) / A2\n",
    "    \n",
    "    D_rho = B_rho / B\n",
    "       \n",
    "    der3 = -k * theta * tau * 1j * u / sig - v * A_rho + 2 * k * theta / sig **2 * D_rho\n",
    "    \n",
    "    A_k = A_rho * 1j / (u * sig)\n",
    "    B_k = tau / 2 * B + B_rho * 1j / (u * sig)\n",
    "    D_k = B_k / B\n",
    "    \n",
    "    der4 = -theta * rho * tau * 1j * u / sig - v * A_k + 2 * theta / sig**2 * D + 2 * k * theta / sig ** 2 * D_k\n",
    "    \n",
    "    d_sig = (sig * (1j * u + u ** 2) + rho * 1j * u * (sig * rho * 1j * u - k)) / d\n",
    "    A1_sig = (1j * u + u ** 2) * tau / 2 * c * d_sig\n",
    "    A2_sig = d_sig * ( c * (1 + xi * tau / 2) + d * tau / 2 * s) - s * rho * 1j * u\n",
    "    \n",
    "    A_sig = (A1_sig - A * A2_sig) / A2\n",
    "    \n",
    "    D_sig = d_sig / d - A2_sig / A2\n",
    "    \n",
    "    der5 = k * theta * rho * tau * 1j * u / sig ** 2 - v * A_sig - 4 * k * theta / sig**3 * D\\\n",
    "        + 2 * k * theta / sig ** 2 * D_sig\n",
    "    \n",
    "    return pred_phi, der1, der2, der3, der4, der5"
   ]
  },
  {
   "cell_type": "code",
   "execution_count": 11,
   "id": "43e88985",
   "metadata": {},
   "outputs": [],
   "source": [
    "def getPhiABderFinite(u, tau, k, sig, theta, rho, v):\n",
    "    pred_phi = getPhiAB(u, tau, k, sig, theta, rho, v)\n",
    "    \n",
    "    eps = 1e-10\n",
    "    denom = 1 / (2 * eps * pred_phi)\n",
    "    der1 = (getPhiAB(u, tau, k, sig, theta, rho, v + eps) - getPhiAB(u, tau, k, sig, theta, rho, v - eps)) * denom \n",
    "    der2 = (getPhiAB(u, tau, k, sig, theta + eps, rho, v) - getPhiAB(u, tau, k, sig, theta - eps, rho, v)) * denom \n",
    "    der3 = (getPhiAB(u, tau, k, sig, theta, rho + eps, v) - getPhiAB(u, tau, k, sig, theta, rho - eps, v)) * denom \n",
    "    der4 = (getPhiAB(u, tau, k + eps, sig, theta, rho, v) - getPhiAB(u, tau, k - eps, sig, theta, rho, v)) * denom \n",
    "    der5 = (getPhiAB(u, tau, k, sig + eps, theta, rho, v) - getPhiAB(u, tau, k, sig - eps, theta, rho, v)) * denom \n",
    "    return pred_phi, der1, der2, der3, der4, der5"
   ]
  },
  {
   "cell_type": "code",
   "execution_count": 12,
   "id": "366adb3c",
   "metadata": {},
   "outputs": [],
   "source": [
    "def calc_int(F, h, dirs):\n",
    "    I = np.sum( (F * h).real, axis=-1, keepdims=True) / np.pi\n",
    "    Is = []\n",
    "    for i in range(5):\n",
    "        Is.append( np.sum( (F * h * dirs[i]).real, axis=-1, keepdims=True) / np.pi )\n",
    "    return I, Is"
   ]
  },
  {
   "cell_type": "code",
   "execution_count": 13,
   "id": "fd0d74a4",
   "metadata": {},
   "outputs": [],
   "source": [
    "def getOptionPriceABDer(S, K, Nu, tau, r, v, theta, rho, k, sig):\n",
    "    \n",
    "    if not isinstance(S, np.ndarray):\n",
    "        S = np.asarray([S])\n",
    "    if not isinstance(K, np.ndarray):\n",
    "        K = np.asarray([K])\n",
    "    if not isinstance(v, np.ndarray):\n",
    "        v = np.asarray([v])\n",
    "    #dims go as follow:\n",
    "    #K S v u\n",
    "    S = S.reshape(1, -1, 1, 1)\n",
    "    K = K.reshape(-1, 1, 1, 1)\n",
    "    v = v.reshape(1, 1, -1, 1)\n",
    "\n",
    "    Ns = S.size\n",
    "    Nk = K.size\n",
    "    Nv = v.size\n",
    "\n",
    "    un, hn = getMesh(Nu)\n",
    "\n",
    "    un = un.reshape(1, 1, 1, -1)\n",
    "    hn = hn.reshape(1, 1, 1, -1)\n",
    "    \n",
    "    xn = np.log(S * np.exp(r * tau) / K)\n",
    "    \n",
    "\n",
    "    batchSize = 100\n",
    "\n",
    "    I1 = np.zeros((Nk, Ns, Nv, 1))\n",
    "    I2 = np.zeros((Nk, Ns, Nv, 1))\n",
    "    Der1 = []\n",
    "    Der2 = []\n",
    "    for i in range(5):\n",
    "        Der1.append(np.zeros((Nk, Ns, Nv, 1)))\n",
    "        Der2.append(np.zeros((Nk, Ns, Nv, 1)))\n",
    "    params = (tau, k, sig, theta, rho, v)\n",
    "    for i in range(Nu // batchSize + 1):\n",
    "        start = i * batchSize\n",
    "        end = start + batchSize\n",
    "        unbatch = un[:, :, :, start:end]\n",
    "        hnbatch = hn[:, :, :, start:end]\n",
    "        \n",
    "        phi,  dir1,  dir2,  dir3,  dir4,  dir5  = getPhiABder(unbatch, *params)\n",
    "        phiT, dir1T, dir2T, dir3T, dir4T, dir5T = getPhiABder(unbatch - 1j, *params)\n",
    "\n",
    "        F1 = np.exp(1j * unbatch * xn) * phi / (1j * unbatch)\n",
    "        F2 = np.exp(1j * unbatch * xn) * phiT / (1j * unbatch)\n",
    "\n",
    "        I1_, Der1_ = calc_int(F1, hnbatch, [dir1,  dir2,  dir3,  dir4,  dir5])\n",
    "        I2_, Der2_ = calc_int(F2, hnbatch, [dir1T,  dir2T,  dir3T,  dir4T,  dir5T])\n",
    "        I1 += I1_\n",
    "        I2 += I2_\n",
    "        for i in range(5):\n",
    "            Der1[i] += Der1_[i]\n",
    "            Der2[i] += Der2_[i]\n",
    "    \n",
    "    P1 = 0.5 + I1\n",
    "    P2 = 0.5 + I2\n",
    "    res = S * P2 - np.exp(-r * tau) * K * P1\n",
    "    res_dir = []\n",
    "    \n",
    "    for i in range(5):\n",
    "        tmp = S * Der2[i] - np.exp(-r * tau) * K * Der1[i]\n",
    "        res_dir.append( tmp.squeeze() )\n",
    "    return res.squeeze(), res_dir"
   ]
  },
  {
   "cell_type": "code",
   "execution_count": 14,
   "id": "f26e22e7",
   "metadata": {},
   "outputs": [],
   "source": [
    "def getOptionPriceFinite(S, K, Nu, tau, r, k, sig, theta, rho, v):\n",
    "    C = getOptionPrice(S, K, Nu, tau, r, k, sig, theta, rho, v)\n",
    "    \n",
    "    eps = 1e-10\n",
    "    denom = 1 / (2 * eps)\n",
    "    der1 = (getOptionPrice(S, K, Nu, tau, r, k, sig, theta, rho, v+eps) - getOptionPrice(S, K, Nu, tau, r, k, sig, theta, rho, v-eps)) * denom \n",
    "    der2 = (getOptionPrice(S, K, Nu, tau, r, k, sig, theta+eps, rho, v) - getOptionPrice(S, K, Nu, tau, r, k, sig, theta-eps, rho, v)) * denom \n",
    "    der3 = (getOptionPrice(S, K, Nu, tau, r, k, sig, theta, rho+eps, v) - getOptionPrice(S, K, Nu, tau, r, k, sig, theta, rho-eps, v)) * denom \n",
    "    der4 = (getOptionPrice(S, K, Nu, tau, r, k+eps, sig, theta, rho, v) - getOptionPrice(S, K, Nu, tau, r, k-eps, sig, theta, rho, v)) * denom \n",
    "    der5 = (getOptionPrice(S, K, Nu, tau, r, k, sig+eps, theta, rho, v) - getOptionPrice(S, K, Nu, tau, r, k, sig-eps, theta, rho, v)) * denom \n",
    "    return C, [der1, der2, der3, der4, der5]"
   ]
  },
  {
   "cell_type": "code",
   "execution_count": 15,
   "id": "25bb5301",
   "metadata": {},
   "outputs": [],
   "source": [
    "def getOptionSurface(S, Kn, Nu, Tn, r, k, sig, theta, rho, v):\n",
    "    Nk = len(Kn)\n",
    "    Nt = len(Tn)\n",
    "    res = np.zeros((Nk, Nt))\n",
    "    \n",
    "    for t, tau in enumerate(Tn):\n",
    "        res[:, t] = getOptionPriceAB(S, Kn, Nu, tau, r, v, theta, rho, k, sig)\n",
    "    \n",
    "    return res"
   ]
  },
  {
   "cell_type": "code",
   "execution_count": 16,
   "id": "24feae16",
   "metadata": {},
   "outputs": [],
   "source": [
    "def getVolatilitySurface(S, Kn, Nu, Tn, r, k, sig, theta, rho, v):\n",
    "    Nk = len(Kn)\n",
    "    Nt = len(Tn)\n",
    "    C = np.zeros((Nk, Nt))\n",
    "    IV = np.zeros((Nk, Nt))\n",
    "    for t, tau in enumerate(Tn):\n",
    "        C[:, t] = getOptionPrice(S, Kn, Nu, tau, r, k, sig, theta, rho, v0)\n",
    "        IV[:, t] = getIV(C[:, t], Kn, S, r, tau)\n",
    "    return C, IV"
   ]
  },
  {
   "cell_type": "code",
   "execution_count": 17,
   "id": "21bb2cb7",
   "metadata": {},
   "outputs": [],
   "source": [
    "r = 0.0\n",
    "d = 0.55\n",
    "k = 2.5\n",
    "sig = 0.9\n",
    "theta = 0.15\n",
    "rho = -0.8\n",
    "\n",
    "\n",
    "S0 = 1.0\n",
    "K = 1.0\n",
    "T = 1.5\n",
    "\n",
    "Kn = K * np.exp( np.linspace(-np.log(10), np.log(5), 100) )\n",
    "Sn = S0 * np.exp( np.linspace(-np.log(10), np.log(2), 120) )\n",
    "\n",
    "#Kn = Kn.reshape(-1, 1)\n",
    "#Sn = Sn.reshape()\n",
    "\n",
    "\n",
    "Nt = 100\n",
    "Nu = 50\n",
    "tn = np.linspace(0, T, Nt)\n",
    "\n",
    "v0 = 0.175\n",
    "x0 = np.log(S0)"
   ]
  },
  {
   "cell_type": "code",
   "execution_count": 18,
   "id": "5f26a809",
   "metadata": {},
   "outputs": [],
   "source": [
    "C1 = getOptionPrice(S0, Kn, Nu, T, r, k, sig, theta, rho, v0)\n",
    "\n",
    "C2 = getOptionPriceAB(S0, Kn, Nu, T, r, v0, theta, rho, k, sig)"
   ]
  },
  {
   "cell_type": "code",
   "execution_count": 19,
   "id": "896ecfaf",
   "metadata": {},
   "outputs": [],
   "source": [
    "C3 = getOptionPriceABControlVariable(S0, Kn, Nu, T, r, v0, theta, rho, k, sig)"
   ]
  },
  {
   "cell_type": "code",
   "execution_count": 20,
   "id": "5f2ec460",
   "metadata": {},
   "outputs": [],
   "source": [
    "payoff = np.maximum(S0 - Kn, 0.0)"
   ]
  },
  {
   "cell_type": "code",
   "execution_count": 21,
   "id": "6289f183",
   "metadata": {},
   "outputs": [
    {
     "data": {
      "image/png": "[encoded data removed]",
      "text/plain": [
       "<Figure size 720x360 with 1 Axes>"
      ]
     },
     "metadata": {
      "needs_background": "light"
     },
     "output_type": "display_data"
    }
   ],
   "source": [
    "plt.figure(figsize=(10, 5))\n",
    "plt.plot(Kn, C1, label='Old Heston')\n",
    "plt.plot(Kn, C2, label='AB Heston')\n",
    "plt.plot(Kn, C3, label='ABControl Heston')\n",
    "plt.plot(Kn, np.maximum(S0 - Kn, 0.0), c='k', label='payoff')\n",
    "\n",
    "plt.legend(fontsize=15)\n",
    "plt.grid()\n",
    "plt.xlabel(\"Strike\", fontsize=15)\n",
    "plt.ylabel(\"Call price\", fontsize=15)\n",
    "None"
   ]
  },
  {
   "cell_type": "code",
   "execution_count": 22,
   "id": "496cede3",
   "metadata": {},
   "outputs": [
    {
     "data": {
      "text/plain": [
       "0.0022042125302075767"
      ]
     },
     "execution_count": 22,
     "metadata": {},
     "output_type": "execute_result"
    }
   ],
   "source": [
    "np.linalg.norm(C1 - C2)"
   ]
  },
  {
   "cell_type": "code",
   "execution_count": 23,
   "id": "2a26f48d",
   "metadata": {},
   "outputs": [
    {
     "data": {
      "text/plain": [
       "0.0031508073618942978"
      ]
     },
     "execution_count": 23,
     "metadata": {},
     "output_type": "execute_result"
    }
   ],
   "source": [
    "np.linalg.norm(C1 - C3)"
   ]
  },
  {
   "cell_type": "code",
   "execution_count": 24,
   "id": "e697959d",
   "metadata": {},
   "outputs": [
    {
     "data": {
      "text/plain": [
       "0.0018603739498363068"
      ]
     },
     "execution_count": 24,
     "metadata": {},
     "output_type": "execute_result"
    }
   ],
   "source": [
    "np.linalg.norm(C2 - C3)"
   ]
  },
  {
   "cell_type": "code",
   "execution_count": 25,
   "id": "85c53bae",
   "metadata": {},
   "outputs": [
    {
     "data": {
      "image/png": "[encoded data removed]",
      "text/plain": [
       "<Figure size 720x360 with 1 Axes>"
      ]
     },
     "metadata": {
      "needs_background": "light"
     },
     "output_type": "display_data"
    }
   ],
   "source": [
    "C1 = getOptionPrice(Sn, K, Nu, T, r, k, sig, theta, rho, v0)\n",
    "\n",
    "C2 = getOptionPriceAB(Sn, K, Nu, T, r, v0, theta, rho, k, sig)\n",
    "\n",
    "C3 = getOptionPriceABControlVariable(Sn, K, Nu, T, r, v0, theta, rho, k, sig)\n",
    "\n",
    "plt.figure(figsize=(10, 5))\n",
    "plt.plot(Sn, C1, label='Old Heston')\n",
    "plt.plot(Sn, C2, label='AB Heston')\n",
    "plt.plot(Sn, C3, label='AB Heston Control')\n",
    "plt.plot(Sn, np.maximum(Sn - K, 0.0), c='k', label='payoff')\n",
    "\n",
    "plt.legend(fontsize=15)\n",
    "plt.grid()\n",
    "plt.xlabel(\"Stock price\", fontsize=15)\n",
    "plt.ylabel(\"option price\", fontsize=15)\n",
    "None"
   ]
  },
  {
   "cell_type": "code",
   "execution_count": 26,
   "id": "24a89004",
   "metadata": {},
   "outputs": [],
   "source": [
    "r = 0.1\n",
    "\n",
    "k_0 = 2.5\n",
    "sig_0 = 0.9\n",
    "theta_0 = 0.15\n",
    "rho_0 = -0.2\n",
    "v0_0 = 0.175\n",
    "\n",
    "S0 = 1.0\n",
    "K0 = 1.0\n",
    "T = 1.0\n",
    "\n",
    "Nk = 10\n",
    "Kn = K0 + np.linspace(-0.8, 0.8, Nk) ** 3\n",
    "\n",
    "#Kn = Kn.reshape(-1, 1)\n",
    "#Sn = Sn.reshape()\n",
    "\n",
    "\n",
    "Nt = 5\n",
    "Tn = T * np.linspace(0.5, T * 2.0, Nt)\n",
    "\n",
    "Nu = 100\n",
    "\n",
    "payoff = np.maximum(0.0, S0 - Kn).reshape(-1, 1)"
   ]
  },
  {
   "cell_type": "code",
   "execution_count": 27,
   "id": "2684892e",
   "metadata": {},
   "outputs": [],
   "source": [
    "C0 = getOptionSurface(S0, Kn, Nu, Tn, r, k_0, sig_0, theta_0, rho_0, v0_0)"
   ]
  },
  {
   "cell_type": "code",
   "execution_count": 28,
   "id": "06d67137",
   "metadata": {},
   "outputs": [
    {
     "ename": "NameError",
     "evalue": "name 'np' is not defined",
     "output_type": "error",
     "traceback": [
      "\u001b[0;31m---------------------------------------------------------------------------\u001b[0m",
      "\u001b[0;31mNameError\u001b[0m                                 Traceback (most recent call last)",
      "Input \u001b[0;32mIn [28]\u001b[0m, in \u001b[0;36m<cell line: 1>\u001b[0;34m()\u001b[0m\n\u001b[0;32m----> 1\u001b[0m C0, vol0 \u001b[38;5;241m=\u001b[39m \u001b[43mgetVolatilitySurface\u001b[49m\u001b[43m(\u001b[49m\u001b[43mS0\u001b[49m\u001b[43m,\u001b[49m\u001b[43m \u001b[49m\u001b[43mKn\u001b[49m\u001b[43m,\u001b[49m\u001b[43m \u001b[49m\u001b[43mNu\u001b[49m\u001b[43m,\u001b[49m\u001b[43m \u001b[49m\u001b[43mTn\u001b[49m\u001b[43m,\u001b[49m\u001b[43m \u001b[49m\u001b[43mr\u001b[49m\u001b[43m,\u001b[49m\u001b[43m \u001b[49m\u001b[43mk_0\u001b[49m\u001b[43m,\u001b[49m\u001b[43m \u001b[49m\u001b[43msig_0\u001b[49m\u001b[43m,\u001b[49m\u001b[43m \u001b[49m\u001b[43mtheta_0\u001b[49m\u001b[43m,\u001b[49m\u001b[43m \u001b[49m\u001b[43mrho_0\u001b[49m\u001b[43m,\u001b[49m\u001b[43m \u001b[49m\u001b[43mv0_0\u001b[49m\u001b[43m)\u001b[49m\n",
      "Input \u001b[0;32mIn [16]\u001b[0m, in \u001b[0;36mgetVolatilitySurface\u001b[0;34m(S, Kn, Nu, Tn, r, k, sig, theta, rho, v)\u001b[0m\n\u001b[1;32m      6\u001b[0m \u001b[38;5;28;01mfor\u001b[39;00m t, tau \u001b[38;5;129;01min\u001b[39;00m \u001b[38;5;28menumerate\u001b[39m(Tn):\n\u001b[1;32m      7\u001b[0m     C[:, t] \u001b[38;5;241m=\u001b[39m getOptionPrice(S, Kn, Nu, tau, r, k, sig, theta, rho, v0)\n\u001b[0;32m----> 8\u001b[0m     IV[:, t] \u001b[38;5;241m=\u001b[39m \u001b[43mgetIV\u001b[49m\u001b[43m(\u001b[49m\u001b[43mC\u001b[49m\u001b[43m[\u001b[49m\u001b[43m:\u001b[49m\u001b[43m,\u001b[49m\u001b[43m \u001b[49m\u001b[43mt\u001b[49m\u001b[43m]\u001b[49m\u001b[43m,\u001b[49m\u001b[43m \u001b[49m\u001b[43mKn\u001b[49m\u001b[43m,\u001b[49m\u001b[43m \u001b[49m\u001b[43mS\u001b[49m\u001b[43m,\u001b[49m\u001b[43m \u001b[49m\u001b[43mr\u001b[49m\u001b[43m,\u001b[49m\u001b[43m \u001b[49m\u001b[43mtau\u001b[49m\u001b[43m)\u001b[49m\n\u001b[1;32m      9\u001b[0m \u001b[38;5;28;01mreturn\u001b[39;00m C, IV\n",
      "File \u001b[0;32m~/study/vega/stochval/MathFinance/heston/implied_volatility.py:24\u001b[0m, in \u001b[0;36mgetIV\u001b[0;34m(call_prices, Ks, S, r, tau)\u001b[0m\n\u001b[1;32m     22\u001b[0m v0 \u001b[38;5;241m=\u001b[39m \u001b[38;5;241m1e-15\u001b[39m\n\u001b[1;32m     23\u001b[0m v1 \u001b[38;5;241m=\u001b[39m \u001b[38;5;241m100\u001b[39m\n\u001b[0;32m---> 24\u001b[0m br \u001b[38;5;241m=\u001b[39m \u001b[43mfoo\u001b[49m\u001b[43m(\u001b[49m\u001b[43mv0\u001b[49m\u001b[43m)\u001b[49m \u001b[38;5;241m<\u001b[39m\u001b[38;5;241m=\u001b[39m \u001b[38;5;241m0\u001b[39m \u001b[38;5;129;01mand\u001b[39;00m foo(v1) \u001b[38;5;241m>\u001b[39m\u001b[38;5;241m=\u001b[39m \u001b[38;5;241m0\u001b[39m\n\u001b[1;32m     25\u001b[0m vol \u001b[38;5;241m=\u001b[39m np\u001b[38;5;241m.\u001b[39mnan\n\u001b[1;32m     26\u001b[0m \u001b[38;5;28;01mif\u001b[39;00m br:\n",
      "File \u001b[0;32m~/study/vega/stochval/MathFinance/heston/implied_volatility.py:19\u001b[0m, in \u001b[0;36mgetIV.<locals>.foo\u001b[0;34m(vol)\u001b[0m\n\u001b[1;32m     18\u001b[0m \u001b[38;5;28;01mdef\u001b[39;00m \u001b[38;5;21mfoo\u001b[39m(vol):\n\u001b[0;32m---> 19\u001b[0m     call_price_ \u001b[38;5;241m=\u001b[39m \u001b[43mBS\u001b[49m\u001b[43m(\u001b[49m\u001b[43mK\u001b[49m\u001b[43m,\u001b[49m\u001b[43m \u001b[49m\u001b[43mS\u001b[49m\u001b[43m,\u001b[49m\u001b[43m \u001b[49m\u001b[43mr\u001b[49m\u001b[43m,\u001b[49m\u001b[43m \u001b[49m\u001b[43mtau\u001b[49m\u001b[43m,\u001b[49m\u001b[43m \u001b[49m\u001b[43mvol\u001b[49m\u001b[43m)\u001b[49m\n\u001b[1;32m     20\u001b[0m     \u001b[38;5;28;01mreturn\u001b[39;00m call_price_ \u001b[38;5;241m-\u001b[39m call_price\n",
      "File \u001b[0;32m~/study/vega/stochval/MathFinance/heston/implied_volatility.py:5\u001b[0m, in \u001b[0;36mBS\u001b[0;34m(K, S, r, tau, vol)\u001b[0m\n\u001b[1;32m      4\u001b[0m \u001b[38;5;28;01mdef\u001b[39;00m \u001b[38;5;21mBS\u001b[39m(K, S, r, tau, vol):\n\u001b[0;32m----> 5\u001b[0m     F \u001b[38;5;241m=\u001b[39m S \u001b[38;5;241m*\u001b[39m \u001b[43mnp\u001b[49m\u001b[38;5;241m.\u001b[39mexp(r \u001b[38;5;241m*\u001b[39m tau)\n\u001b[1;32m      6\u001b[0m     d1 \u001b[38;5;241m=\u001b[39m (np\u001b[38;5;241m.\u001b[39mlog(F \u001b[38;5;241m/\u001b[39m K) \u001b[38;5;241m+\u001b[39m \u001b[38;5;241m0.5\u001b[39m \u001b[38;5;241m*\u001b[39m vol \u001b[38;5;241m*\u001b[39m\u001b[38;5;241m*\u001b[39m \u001b[38;5;241m2\u001b[39m \u001b[38;5;241m*\u001b[39m tau) \\\n\u001b[1;32m      7\u001b[0m                 \u001b[38;5;241m/\u001b[39m (vol \u001b[38;5;241m*\u001b[39m np\u001b[38;5;241m.\u001b[39msqrt(tau))\n\u001b[1;32m      8\u001b[0m     d2 \u001b[38;5;241m=\u001b[39m d1 \u001b[38;5;241m-\u001b[39m vol \u001b[38;5;241m*\u001b[39m np\u001b[38;5;241m.\u001b[39msqrt(tau)\n",
      "\u001b[0;31mNameError\u001b[0m: name 'np' is not defined"
     ]
    }
   ],
   "source": [
    "C0, vol0 = getVolatilitySurface(S0, Kn, Nu, Tn, r, k_0, sig_0, theta_0, rho_0, v0_0)"
   ]
  },
  {
   "cell_type": "code",
   "execution_count": null,
   "id": "e8764687",
   "metadata": {},
   "outputs": [],
   "source": [
    "X, Y = np.meshgrid(Tn, Kn)"
   ]
  },
  {
   "cell_type": "code",
   "execution_count": null,
   "id": "b5f9d04d",
   "metadata": {},
   "outputs": [],
   "source": [
    "fig = plt.figure(figsize=(10, 10))\n",
    "ax = plt.axes(projection='3d')\n",
    "ax.plot_surface(X, Y, C0, rstride=1, cstride=1,\n",
    "                cmap='viridis', edgecolor='none')\n",
    "ax.set_title('Option price')\n",
    "plt.xlabel(\"Time\")\n",
    "plt.ylabel(\"Strike\")\n",
    "None\n",
    "\n",
    "fig = plt.figure(figsize=(10, 10))\n",
    "ax = plt.axes(projection='3d')\n",
    "ax.plot_surface(X, Y, vol0, rstride=1, cstride=1,\n",
    "                cmap='viridis', edgecolor='none')\n",
    "ax.set_title('Implied Volatility')\n",
    "plt.xlabel(\"Time\")\n",
    "plt.ylabel(\"Strike\")\n",
    "None"
   ]
  },
  {
   "cell_type": "code",
   "execution_count": null,
   "id": "6263ef3c",
   "metadata": {},
   "outputs": [],
   "source": [
    "plt.figure(figsize=(10, 5))\n",
    "payoff = np.maximum(0.0, S0 - Kn)\n",
    "plt.plot()\n",
    "for t in range(0, Nt):\n",
    "    plt.plot(Kn, C0[:, t])\n",
    "    plt.plot(Kn, payoff)\n",
    "plt.grid()"
   ]
  },
  {
   "cell_type": "code",
   "execution_count": null,
   "id": "b5652b7d",
   "metadata": {},
   "outputs": [],
   "source": [
    "plt.figure(figsize=(10, 5))\n",
    "for t in range(0, Nt):\n",
    "    plt.plot(Kn, vol0[:, t])\n",
    "plt.grid()"
   ]
  },
  {
   "cell_type": "code",
   "execution_count": null,
   "id": "fd940caa",
   "metadata": {},
   "outputs": [],
   "source": [
    "def getResudalAndGrad(C0, S, Kn, Nu, Tn, r, *heston_params):\n",
    "    Nt = len(Tn)\n",
    "    Nk = len(Kn)\n",
    "    res  = np.zeros((0, ))\n",
    "    J = np.zeros((5, 0))\n",
    "    for t in range(Nt):\n",
    "        c, ders = getOptionPriceABDer(S0, Kn, Nu, Tn[t], r, *heston_params)\n",
    "        ders = np.asarray(ders)\n",
    "        _res = c.reshape(-1) - C0[:, t].reshape(-1)\n",
    "        res = np.r_[res, _res]\n",
    "        J = np.c_[J, ders]\n",
    "    f = np.sum(res ** 2)\n",
    "    df = 2 * J @ res\n",
    "    d2f = J @ J.T\n",
    "    return res, J"
   ]
  },
  {
   "cell_type": "code",
   "execution_count": null,
   "id": "56367bf5",
   "metadata": {},
   "outputs": [],
   "source": [
    "def my_clip(v0, theta, rho, k, sig):\n",
    "    eps = 1e-6\n",
    "    v0 = max(v0, eps)\n",
    "    theta = max(theta, eps)\n",
    "    rho = np.clip(rho, -1 + eps, 1 - eps)\n",
    "    k = max(k, eps)\n",
    "    sig = max(sig, eps)\n",
    "    return np.asarray([v0, theta, rho, k, sig])\n",
    "    \n",
    "def LMAlgorithm(Niter, C0, S0, Kn, Nu, Tn, r, v0, theta, rho, k, sig):\n",
    "    heston_params = np.asarray( [v0, theta, rho, k, sig] )\n",
    "    \n",
    "    res, J = getResudalAndGrad(C0, S0, Kn, Nu, Tn, r, *heston_params)\n",
    "    \n",
    "    F = np.linalg.norm(res)\n",
    "    \n",
    "    w = 5\n",
    "    mu = w * np.max(np.diag(J))\n",
    "    \n",
    "    nu = 2.0\n",
    "    \n",
    "    fs = []\n",
    "    \n",
    "    for i in range(Niter):\n",
    "        I = np.diag(np.diag(J @ J.T))\n",
    "        dtheta = np.linalg.solve( mu * I + J @ J.T, J @ res )\n",
    "        heston_params_new = heston_params - dtheta\n",
    "        \n",
    "        res_new, J_new = getResudalAndGrad(C0, S0, Kn, Nu, Tn, r, *heston_params_new)\n",
    "        \n",
    "        F_new = np.linalg.norm(res_new)\n",
    "        \n",
    "        delta_L = np.dot( dtheta, mu * dtheta + J @ res )\n",
    "        delta_F = F - F_new\n",
    "        \n",
    "        fs.append( F )\n",
    "        \n",
    "        if delta_L > 0 and delta_F > 0:\n",
    "            J = J_new\n",
    "            res = res_new\n",
    "            F = F_new\n",
    "            \n",
    "            heston_params = my_clip(*heston_params_new)\n",
    "            \n",
    "            mu /= 1.2\n",
    "        else:\n",
    "            mu *= nu\n",
    "            nu *= 2\n",
    "            i -= 1\n",
    "            continue\n",
    "            \n",
    "        eps1, eps2, eps3 = 1e-10, 1e-10, 1e-10\n",
    "        stop = F < eps1 or np.linalg.norm(dtheta) / np.linalg.norm(heston_params) < eps3\n",
    "        if stop:\n",
    "            break        \n",
    "    return heston_params, fs"
   ]
  },
  {
   "cell_type": "code",
   "execution_count": null,
   "id": "e78c58b6",
   "metadata": {},
   "outputs": [],
   "source": [
    "v0    = 0.175\n",
    "theta = 0.02\n",
    "rho   = 0.5\n",
    "k     = 2.0\n",
    "sig   = 0.5"
   ]
  },
  {
   "cell_type": "code",
   "execution_count": null,
   "id": "d5bf0f49",
   "metadata": {},
   "outputs": [],
   "source": [
    "Niter = 150"
   ]
  },
  {
   "cell_type": "code",
   "execution_count": null,
   "id": "1eab0d60",
   "metadata": {},
   "outputs": [],
   "source": [
    "heston_params, fs = LMAlgorithm(Niter, C0, S0, Kn, Nu, Tn, r, v0, theta, rho, k, sig)"
   ]
  },
  {
   "cell_type": "code",
   "execution_count": null,
   "id": "1dd1d4fa",
   "metadata": {},
   "outputs": [],
   "source": [
    "print(*heston_params.round(5), sep='\\t')"
   ]
  },
  {
   "cell_type": "code",
   "execution_count": null,
   "id": "692561dc",
   "metadata": {},
   "outputs": [],
   "source": [
    "print(*[v0_0, theta_0, rho_0, k_0, sig_0], sep='\\t')"
   ]
  },
  {
   "cell_type": "code",
   "execution_count": null,
   "id": "878ebd35",
   "metadata": {},
   "outputs": [],
   "source": [
    "plt.figure(figsize=(10, 5))\n",
    "plt.semilogy(fs, '-ok')\n",
    "plt.grid()"
   ]
  },
  {
   "cell_type": "code",
   "execution_count": null,
   "id": "c56efec0",
   "metadata": {},
   "outputs": [],
   "source": []
  },
  {
   "cell_type": "code",
   "execution_count": null,
   "id": "a10f4225",
   "metadata": {},
   "outputs": [],
   "source": [
    "F0 = S0 * np.exp(r * T)\n",
    "\n",
    "\n",
    "alpha_sabr = 0.15\n",
    "beta_sabr = 0.25\n",
    "rho_sabr = 0.25\n",
    "\n",
    "sig0_sabr = 0.3"
   ]
  },
  {
   "cell_type": "code",
   "execution_count": null,
   "id": "fb0abf65",
   "metadata": {},
   "outputs": [],
   "source": [
    "Cpetr, IVpetr = SabrApprox(Kn.reshape(-1, 1), F0, r, Tn.reshape(1, -1), sig0_sabr, alpha_sabr, beta_sabr, rho_sabr)"
   ]
  },
  {
   "cell_type": "code",
   "execution_count": null,
   "id": "38f7d431",
   "metadata": {},
   "outputs": [],
   "source": [
    "Csabr = np.zeros((Nk, Nt))\n",
    "IVsabr = np.zeros_like(Csabr)\n",
    "\n",
    "tn = np.linspace(0, 1, 100)\n",
    "Npaths = 100000\n",
    "\n",
    "\n",
    "for t in range(Nt):\n",
    "    F = SabrEulerModified(F0, sig0_sabr, Npaths, tn * Tn[t], alpha_sabr, beta_sabr, rho_sabr)\n",
    "    payoff = np.exp(-r * Tn[t]) * np.maximum(F.reshape(-1, 1) - Kn.reshape(1, -1), 0.0)\n",
    "    C = np.mean(payoff, axis=0)\n",
    "    Csabr[:, t] = C.reshape(-1) \n",
    "    \n",
    "    IVsabr[:, t] = getIV(C.reshape(-1), Kn.reshape(-1), S0, r, Tn[t])"
   ]
  },
  {
   "cell_type": "code",
   "execution_count": null,
   "id": "82d918aa",
   "metadata": {},
   "outputs": [],
   "source": [
    "fig = plt.figure(figsize=(10, 10))\n",
    "ax = plt.axes(projection='3d')\n",
    "ax.plot_surface(X, Y, Csabr, rstride=1, cstride=1,\n",
    "                cmap='viridis', edgecolor='none')\n",
    "ax.set_title('Call prices')\n",
    "plt.xlabel(\"Time\")\n",
    "plt.ylabel(\"Strike\")\n",
    "None\n",
    "\n",
    "fig = plt.figure(figsize=(10, 10))\n",
    "ax = plt.axes(projection='3d')\n",
    "ax.plot_surface(X, Y, IVsabr, rstride=1, cstride=1,\n",
    "                cmap='viridis', edgecolor='none')\n",
    "ax.set_title('Call prices')\n",
    "plt.xlabel(\"Time\")\n",
    "plt.ylabel(\"Strike\")\n",
    "None"
   ]
  },
  {
   "cell_type": "code",
   "execution_count": null,
   "id": "00893563",
   "metadata": {},
   "outputs": [],
   "source": [
    "plt.figure(figsize=(10, 5))\n",
    "for t in range(0, Nt):\n",
    "    plt.plot(Kn, IVsabr[:, t])\n",
    "plt.grid()"
   ]
  },
  {
   "cell_type": "code",
   "execution_count": null,
   "id": "fb107b3d",
   "metadata": {},
   "outputs": [],
   "source": [
    "k = 2.5\n",
    "sig = 0.9\n",
    "theta = 0.015\n",
    "rho = -0.2\n",
    "v0 = 0.175"
   ]
  },
  {
   "cell_type": "code",
   "execution_count": null,
   "id": "aeb9b5b5",
   "metadata": {},
   "outputs": [],
   "source": [
    "heston_params, fs = LMAlgorithm(10, Csabr, S0, Kn, Nu, Tn, r, v0, theta, rho, k, sig)"
   ]
  },
  {
   "cell_type": "code",
   "execution_count": null,
   "id": "e6ab0d2d",
   "metadata": {},
   "outputs": [],
   "source": [
    "plt.plot(fs, '-ok')\n",
    "plt.grid()"
   ]
  },
  {
   "cell_type": "code",
   "execution_count": null,
   "id": "4b451bcb",
   "metadata": {},
   "outputs": [],
   "source": [
    "v0, theta, rho, k, sig = heston_params\n",
    "print(*heston_params)"
   ]
  },
  {
   "cell_type": "code",
   "execution_count": null,
   "id": "4a8ccb48",
   "metadata": {},
   "outputs": [],
   "source": [
    "C_heston = getOptionSurface(S0, Kn, Nu, Tn, r, k, sig, theta, rho, v0)"
   ]
  },
  {
   "cell_type": "code",
   "execution_count": null,
   "id": "51ad1b9b",
   "metadata": {},
   "outputs": [],
   "source": [
    "fig = plt.figure(figsize=(10, 10))\n",
    "ax = plt.axes(projection='3d')\n",
    "ax.plot_surface(X, Y, C_heston, rstride=1, cstride=1,\n",
    "                cmap='viridis', edgecolor='none')\n",
    "ax.set_title('Call prices')\n",
    "plt.xlabel(\"Time\")\n",
    "plt.ylabel(\"Strike\")\n",
    "None"
   ]
  },
  {
   "cell_type": "code",
   "execution_count": null,
   "id": "46665f0e",
   "metadata": {},
   "outputs": [],
   "source": [
    "for t in range(Nt):\n",
    "    plt.figure(figsize=(10, 5))\n",
    "    plt.plot(Kn, C_heston[:, t])\n",
    "    plt.plot(Kn, Csabr[:, t])\n",
    "    plt.plot(Kn, np.maximum(S0 - Kn, 0.0))\n",
    "    plt.grid()"
   ]
  },
  {
   "cell_type": "code",
   "execution_count": null,
   "id": "5bbce404",
   "metadata": {},
   "outputs": [],
   "source": [
    "Kn = np.linspace(0.4, 2.0, 30)"
   ]
  },
  {
   "cell_type": "code",
   "execution_count": null,
   "id": "5e70ca81",
   "metadata": {},
   "outputs": [],
   "source": [
    "Npaths = 1000000\n",
    "\n",
    "F = SabrEulerModified(F0, sig0_sabr, Npaths, tn * T, alpha_sabr, beta_sabr, rho_sabr)"
   ]
  },
  {
   "cell_type": "code",
   "execution_count": null,
   "id": "e3457e78",
   "metadata": {},
   "outputs": [],
   "source": [
    "payoff = np.maximum(F - K0, 0.0)\n",
    "\n",
    "C = np.mean(payoff)\n",
    "var = np.std(payoff)"
   ]
  },
  {
   "cell_type": "code",
   "execution_count": null,
   "id": "6b5c90df",
   "metadata": {},
   "outputs": [],
   "source": [
    "C, var"
   ]
  },
  {
   "cell_type": "code",
   "execution_count": null,
   "id": "3335dbbd",
   "metadata": {},
   "outputs": [],
   "source": [
    "plt.hist(payoff, bins=20)\n",
    "plt.grid()"
   ]
  },
  {
   "cell_type": "code",
   "execution_count": null,
   "id": "54448157",
   "metadata": {},
   "outputs": [],
   "source": [
    "def huilo(beta):\n",
    "    payoff = np.maximum(F - K0, 0.0) + beta * (F - F0)\n",
    "    return np.std(payoff)"
   ]
  },
  {
   "cell_type": "code",
   "execution_count": null,
   "id": "0e3bc905",
   "metadata": {},
   "outputs": [],
   "source": [
    "beta = np.linspace(-10, 10, 100)\n",
    "arr = []\n",
    "for bet in beta:\n",
    "    arr.append(huilo(bet))"
   ]
  },
  {
   "cell_type": "code",
   "execution_count": null,
   "id": "34792aab",
   "metadata": {},
   "outputs": [],
   "source": [
    "plt.plot(beta, arr)"
   ]
  },
  {
   "cell_type": "code",
   "execution_count": null,
   "id": "56f74abd",
   "metadata": {},
   "outputs": [],
   "source": [
    "i = np.argmin(arr)"
   ]
  },
  {
   "cell_type": "code",
   "execution_count": null,
   "id": "3aaada67",
   "metadata": {},
   "outputs": [],
   "source": [
    "beta[i]"
   ]
  },
  {
   "cell_type": "code",
   "execution_count": null,
   "id": "0fe8fed7",
   "metadata": {},
   "outputs": [],
   "source": [
    "payoff = np.maximum(F.reshape(-1, 1) - Kn.reshape(1, -1), 0.0) - 0.5 * (F - F0).reshape(-1, 1)"
   ]
  },
  {
   "cell_type": "code",
   "execution_count": null,
   "id": "fdb04c15",
   "metadata": {},
   "outputs": [],
   "source": [
    "C = np.mean(payoff, axis=0)\n",
    "H = np.std(payoff, axis=0)"
   ]
  },
  {
   "cell_type": "code",
   "execution_count": null,
   "id": "6a25ccc3",
   "metadata": {},
   "outputs": [],
   "source": [
    "plt.plot(Kn, C)\n",
    "plt.plot(Kn, C + H)\n",
    "plt.plot(Kn, C - H)\n",
    "plt.grid()"
   ]
  }
 ],
 "metadata": {
  "kernelspec": {
   "display_name": "Python [conda env:ubiquant_kaggle] *",
   "language": "python",
   "name": "conda-env-ubiquant_kaggle-py"
  },
  "language_info": {
   "codemirror_mode": {
    "name": "ipython",
    "version": 3
   },
   "file_extension": ".py",
   "mimetype": "text/x-python",
   "name": "python",
   "nbconvert_exporter": "python",
   "pygments_lexer": "ipython3",
   "version": "3.8.12"
  }
 },
 "nbformat": 4,
 "nbformat_minor": 5
}
