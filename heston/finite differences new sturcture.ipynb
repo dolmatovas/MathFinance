{
 "cells": [
  {
   "cell_type": "markdown",
   "id": "42538e64",
   "metadata": {},
   "source": [
    "Heston model:\n",
    "$$\n",
    "\\begin{cases}\n",
    "&\\dfrac{dS_t}{S_t} = r dt + \\sqrt{v} dW^1_t\\\\\n",
    "&d v_t = \\kappa(\\theta - v_t) dt + \\sigma \\sqrt{v} dW^2_t\\\\\n",
    "&S_t = s, v_t = v; dW^1dW^2 = \\rho dt\n",
    "\\end{cases}\n",
    "$$\n",
    "In this variables PDE for put option price read as follow:\n",
    "$$\n",
    "\\begin{cases}\n",
    "&V_t + s r V_s + \\kappa (\\theta - v) V_v + 0.5 s^2 v V_{ss} + 0.5 \\sigma^2 v V_{vv} + \\rho S \\sigma v V_{sv} = rV, s \\geq 0, v \\geq 0, 0 \\leq t \\leq T\\\\\n",
    "&V(T, s, v) = G(s, v) = (K-s)^+\\\\\n",
    "&V(t, 0, v) = K\\\\\n",
    "&V(t, \\infty, v) = 0\\\\\n",
    "&V_v(t, s, 0) = V_v(t, s, \\infty) = 0\n",
    "\\end{cases}\n",
    "$$\n",
    "Consider the following variable transformition:\n",
    "$$\n",
    "X_t = \\log S_t - \\log K, v_t = y_t \\sigma\n",
    "$$\n",
    "In new variables:\n",
    "$$\n",
    "\\begin{cases}\n",
    "&d X_t = (r - 0.5 y_t \\sigma) dt + \\sqrt{\\sigma y_t} dW^1_t \\\\\n",
    "&d y_t = \\kappa \\dfrac{\\theta - y_t \\sigma}{\\sigma} + \\sqrt{\\sigma y_t} dW^2_t\n",
    "\\end{cases}\n",
    "$$In this variables PDE reads as follow:\n",
    "$$\n",
    "V_t + (r-0.5 y\\sigma) V_x + \\kappa \\dfrac{\\theta - y \\sigma}{\\sigma} V_y + 0.5 \\sigma y (V_{xx} + V_{yy}) + \\rho \\sigma y_t V_{xy} = r V\n",
    "$$\n",
    "Consider change $t = T-t, H = e^{rt}V / K$, then we have:\n",
    "$$\n",
    "\\begin{cases}\n",
    "&H_t = (r-0.5 y\\sigma) H_x + \\kappa \\dfrac{\\theta - y \\sigma}{\\sigma} H_y + 0.5 \\sigma y (H_{xx} + H_{yy}) + \\rho \\sigma y_t H_{xy}\\\\\n",
    "&H(0, x, y) = (1-e^{x})^+\\\\\n",
    "&H(t, -\\infty, v) = 1\\\\\n",
    "&H(t, \\infty, v) = 0\\\\\n",
    "&H_y(t, x, 0) = H_y(t, x, \\infty) = 0\n",
    "\\end{cases}\n",
    "$$"
   ]
  },
  {
   "cell_type": "markdown",
   "id": "1f1a8457",
   "metadata": {},
   "source": [
    "Ограничим области до прямоугольника $x \\in [-X, X], y\\in [0, Y]$. Условия на бесконечности перенесём в конечную точку, при этом положим $H(t, -X, y) = 1-e^{-X}$, что вполне логично, так как если $x = -X$, то опцион глубоко в деньгах, и с вероятностью, близкой к единице он будет исполнен. Для удобства будем обозначать неизвестную функцию на текущем слое через $u$, а на следующем через $\\hat{u}$. Для индексации пространственных переменных $x, y$ будем использовать соответственно индексы $n, m$. По умолчанию подразумеваются индексы $n, m$. \n",
    "\n",
    "Введём сеточные функции $u_{n, m}(t) = u(t) = H(t, x_n, y_m)$. Аппроксимируем производные в правой части конечными разностями, получим выражение:\n",
    "$$\\begin{cases}\n",
    "&\\dfrac{du}{dt} = \\mu_x u_x + \\mu_y u_y + 0.5 \\sigma y (u_{xx} + u_{yy}) + \\rho \\sigma y u_{xy} = F(u)\\\\\n",
    "&u(0) = \\left( 1 - e^{x_n}\\right)^+\\\\\n",
    "&u_{0, m} = 1-e^{-X}, m=\\overline{0, M}\\\\\n",
    "&u_{N, m} = 0, m=\\overline{0, M}\\\\\n",
    "&u_{n, 0} = u_{n, 1}, n=\\overline{0, N}\\\\\n",
    "&u_{n, M-1} = u_{n, M}, n=\\overline{0, N}\n",
    "\\end{cases}\n",
    "$$Получили ОДУ. Построим явную схему, например, схему эйлера. На каждом шаге будем находить значения $u_{n, m}$ при $n\\in \\{1, N-1\\}, m\\in \\{1, M-1\\}$, затем будем восстанавливать граничные условия. Для схемы эйлера получим:\n",
    "$$\n",
    "\\hat{u} = u + \\tau * F(u)\n",
    "$$где $\\tau$ -- шаг по времени. Аналогично можно построить схему более высокого порядка, например схему Рунге-Кутты 4 порядка по времени. Главный недостаток явных схем является их условная устойчивость, они накладывают ограничения на шаг по времени $\\tau \\leq h^2$. Поэтому на практике они не применимы. Неявные схемы применять сложно, так как при переходе со слоя на слой приходится решать слау порядка $N_x N_y$.\n",
    "\n",
    "Запишем правую часть в виде:\n",
    "$$\n",
    "F(u) = \\Lambda_x u + \\Lambda_y y + \\Lambda_{xy}\n",
    "$$где в оператор $\\Lambda_x$ вошли производные по $x$, в $\\Lambda_y$ -- по $y$, а $\\Lambda_{xy}$ соответствует смешанной частной производной. Мы уже знаем, как решать задачу, когда $\\Lambda_{xy} = 0$, это стандартный метод переменных направлений (alternating direction method). Покажем, как адаптировать его для данной задачи. Точное решение можно записать через матричную экспоненту:\n",
    "$$\n",
    "\\hat{u} = \\exp\\left( \\tau(\\Lambda_{x} + \\Lambda_{y} + \\Lambda_{xy}) \\right) u \n",
    "\\approx \\exp(\\tau(\\Lambda_{x} + \\Lambda_{y}))  \\exp(\\tau \\Lambda_{xy}) u\n",
    "$$Это равенство верно лишь приближённо, так как операторы не коммутируют. Видно, что такая запись оператора перехода соответствует тому, что мы вначале делаем шаг для уравнения, у которого в правой части стоит только $\\Lambda_{xy}$, а затем делаем ещё один шаг, в котором в правой части смешанных производных нет. Для решения задачи с оператором $\\Lambda_{xy}$ мы будем использовать явную схему, так как тяжело построить экономичную неявную схему. Это соответствует тому, что экспонента аппроксиммируется следующим образом:\n",
    "$$\n",
    " \\exp(\\tau \\Lambda_{xy}) \\approx I + \\tau \\Lambda_{xy}\n",
    "$$\n",
    "Можно рассмотреть симметричный случай:\n",
    "$$\n",
    "\\exp\\left( \\tau(\\Lambda_{x} + \\Lambda_{y} + \\Lambda_{xy}) \\right) \n",
    "\\approx \\exp(0.5 \\tau \\Lambda_{xy})  \\exp(\\tau(\\Lambda_{x} + \\Lambda_{y}))  \\exp(0.5 \\tau \\Lambda_{xy}) u + O(\\tau^3)\n",
    "$$Нетрудно показать, что он даёт глобальную ошибку порядка $O(\\tau^2)$. \n",
    "\n",
    "Его мы и будем использовать. Таким образом, все вычисления, соответствующие смешанным производным, будут производиться по явным схемам. \n",
    "\n",
    "Запишем это всё так:\n",
    "\n",
    "$$\n",
    "\\begin{aligned}\n",
    "&y_1 = (I+ 0.5 \\tau \\Lambda_{xy}) u\\\\\n",
    "&(I - 0.5 \\tau \\Lambda_x) y_2 = (I + 0.5 \\tau \\Lambda_y) y_1\\\\\n",
    "&(I - 0.5 \\tau \\Lambda_y) y_3 = (I + 0.5 \\tau \\Lambda_x) y_2\\\\\n",
    "&\\hat{u} = (I + 0.5 \\tau \\Lambda_{xy}) y_3\n",
    "\\end{aligned}\n",
    "$$Матрицы $\\Lambda_x, \\Lambda_y$ трехдиагональны и не зависят от времени, так что для них можно один раз найти $LU$ разложение, а затем решать СЛАУ. Рассмотрим подробнее метод прогонки:\n",
    "\n",
    "$$\n",
    "\\Lambda_x = \\sigma_x \\dfrac{u_{n+1} - 2u_{n} + u_{n + 1}}{2 h_x^2} + \\mu_x \\dfrac{u_{n+1} - u_n}{2h_x}\n",
    "$$\n",
    "Таким образом, \n",
    "$$\\left[\\left(I - 0.5 \\tau \\Lambda_x\\right) z \\right]_n = \n",
    "    z_n     \\left(1 + \\dfrac{\\tau \\sigma_x}{2 h_x^2} \\right)\n",
    "  + z_{n-1} \\left( -\\dfrac{\\tau \\sigma_x }{4 h_x^2} + \\dfrac{\\tau \\mu_x}{4 h_x} \\right)\n",
    "  + z_{n+1} \\left( -\\dfrac{\\tau \\sigma_x }{4 h_x^2} - \\dfrac{\\tau \\mu_x}{4 h_x} \\right)\n",
    "$$То есть\n",
    "$$\n",
    "\\begin{aligned}\n",
    "&A^x_n = 1 + \\dfrac{\\tau \\sigma_x}{2 h_x^2} \\\\\n",
    "&B^x_n =  -\\dfrac{\\tau \\sigma_x }{4 h_x^2} - \\dfrac{\\tau \\mu_x}{4 h_x} \\\\\n",
    "&C^x_n =  -\\dfrac{\\tau \\sigma_x }{4 h_x^2} + \\dfrac{\\tau \\mu_x}{4 h_x}\n",
    "&\n",
    "\\end{aligned}\n",
    "$$коэффициенты трёхдиагональной системы, соответствующие направлению $x$. Так как по $x$ у нас условия Дирихле, их нужно дополнить граничными значениями \n",
    "$$\\begin{aligned}\n",
    "&A^x_0 = A^x_N = 1.0, \\\\\n",
    "&B^x_0 = C^x_{N} = 0.0, \\\\\n",
    "&F_0 = 1 - e^{-X}, F_N = 0.0\n",
    "\\end{aligned}\n",
    "$$Аналогично для направления $y$ имеем:\n",
    "$$\n",
    "\\begin{aligned}\n",
    "&A^y_n = 1 + \\dfrac{\\tau \\sigma_y}{2 h_y^2} \\\\\n",
    "&B^y_n =  -\\dfrac{\\tau \\sigma_y }{4 h_y^2} - \\dfrac{\\tau \\mu_y}{4 h_y} \\\\\n",
    "&C^y_n =  -\\dfrac{\\tau \\sigma_y }{4 h_y^2} + \\dfrac{\\tau \\mu_y}{4 h_y}\n",
    "\\end{aligned}\n",
    "$$И граничные условия:\n",
    "$$\\begin{aligned}\n",
    "&A^y_0 = A^y_N = 1.0, \\\\\n",
    "&B^y_0 = C^y_{N} = -1.0, \\\\\n",
    "&F_0 = F_N = 0.0\n",
    "\\end{aligned}\n",
    "$$\n",
    "\n",
    "На каждом шаге нам нужно будет лишь вызвать солвер прогонки с соответствующей правой частью и коэффициентами. Такой подход хорош тем, что он требует минимальных изменений при использовании неравномерной сетки: достаточно только поменять соответствующие коэффициенты $A, B, C$ и функцию вычисления правой части $F$."
   ]
  },
  {
   "cell_type": "code",
   "execution_count": null,
   "id": "408a17f9",
   "metadata": {},
   "outputs": [],
   "source": []
  },
  {
   "cell_type": "markdown",
   "id": "afba13b9",
   "metadata": {},
   "source": [
    "Во избежания путаницы с индексами, будем обозначать шаги по $x$ буквой $k$, шаги по $y$ буквой $\\delta$.\n",
    "\n",
    "Неравномерные сетки:\n",
    "\n",
    "$$\n",
    "u_x = \\dfrac{1}{h_1 + h_2} \\left( \\dfrac{h_1}{h_2} (\\hat{u} - u) + \\dfrac{h_2}{h_1} (u - \\check{u})  \\right)\n",
    "$$\n",
    "\n",
    "$$\n",
    "u_{xx} = \\dfrac{1}{h_1 + h_2} \\left( \\dfrac{\\hat{u} - u}{h_2} - \\dfrac{u - \\check{u}}{h_1} \\right)\n",
    "$$\n",
    "\n",
    "$$\n",
    "u_{xy} = \\dfrac{1}{h_1 + h_2} \\left( \\dfrac{h_1}{h_2} (\\hat{u}_y - u_y) + \\dfrac{h_2}{h_1} (u_y - \\check{u_y})  \\right)\n",
    "$$"
   ]
  },
  {
   "cell_type": "markdown",
   "id": "4494762d",
   "metadata": {},
   "source": [
    "Посчитаем теперь коэффициенты матрицы перехода $A_n, B_n, C_n:$\n",
    "$$\n",
    "    \\Lambda_x = \\sigma_x \\dfrac{0.5}{h_1 + h_2} \\left( \\dfrac{\\hat{u} - u}{h_2} - \\dfrac{u - \\check{u}}{h_1} \\right) + \\mu_x \\dfrac{1}{h_1 + h_2} \\left( \\dfrac{h_1}{h_2} (\\hat{u} - u) + \\dfrac{h_2}{h_1} (u - \\check{u})  \\right)\n",
    "    $$\n",
    "    Таким образом, \n",
    "    $$\\left[\\left(I - 0.5 \\tau \\Lambda_x\\right) z \\right]_n = \n",
    "        z_n     \\left(1 + \\dfrac{\\tau \\sigma_x}{2 h_x^2} \\right)\n",
    "      + z_{n-1} \\left( -\\dfrac{\\tau \\sigma_x }{4 h_x^2} + \\dfrac{\\tau \\mu_x}{4 h_x} \\right)\n",
    "      + z_{n+1} \\left( -\\dfrac{\\tau \\sigma_x }{4 h_x^2} - \\dfrac{\\tau \\mu_x}{4 h_x} \\right)\n",
    "    $$То есть\n",
    "    $$\n",
    "    \\begin{aligned}\n",
    "    &A = 1 + \\dfrac{\\tau}{2 h_1 h_2} \\left( \\sigma_x - \\mu(h_2 - h_1)  \\right) \\\\\n",
    "    &B =  -\\dfrac{\\tau}{2 h_2 (h_1+h_2)} \\left( \\sigma_x + h_1 \\mu_x \\right)\\\\\n",
    "    &C =  -\\dfrac{\\tau}{2 h_1 (h_1+h_2)} \\left( \\sigma_x - h_2 \\mu_x \\right)\n",
    "    &\n",
    "    \\end{aligned}\n",
    "$$\n",
    "\n",
    "Аналогично происходят вычисления для $y$."
   ]
  },
  {
   "cell_type": "code",
   "execution_count": null,
   "id": "ae05f986",
   "metadata": {},
   "outputs": [],
   "source": []
  },
  {
   "cell_type": "code",
   "execution_count": null,
   "id": "f952aabd",
   "metadata": {},
   "outputs": [],
   "source": []
  },
  {
   "cell_type": "code",
   "execution_count": null,
   "id": "f83e0165",
   "metadata": {},
   "outputs": [],
   "source": []
  },
  {
   "cell_type": "markdown",
   "id": "67ab0957",
   "metadata": {},
   "source": [
    "Допустим, мы знаем функцию $F(S) = (1-\\dfrac{S}{K_0})^+$, т.е. выплату опциона для фиксированного страйка, как функцию от переменной $S$. Хотим узнать, какому страйку это соответствует, при $S = S_0$. Имеем:\n",
    "$$\n",
    "\\dfrac{S}{K_0} = \\dfrac{S_0}{K}\n",
    "$$откуда $K = K_0 \\dfrac{S_0}{S}$. Таким образом, если есть ряд цен\n",
    "$$\n",
    "F(S_1), F(S_2), \\ldots, F(S_n)\n",
    "$$опционов со страйком $K_0$, их можно интепретировать, как ряд цен с ценой $S_0$ и страйком \n",
    "$$\n",
    "K_i = K_0 \\dfrac{S_0}{S_i}\n",
    "$$"
   ]
  },
  {
   "cell_type": "code",
   "execution_count": 1,
   "id": "60c4ed79",
   "metadata": {},
   "outputs": [],
   "source": [
    "import numpy as np\n",
    "from matplotlib import pyplot as plt"
   ]
  },
  {
   "cell_type": "code",
   "execution_count": 2,
   "id": "7beaa49f",
   "metadata": {},
   "outputs": [],
   "source": [
    "from montecarlo import *\n",
    "from heston import *"
   ]
  },
  {
   "cell_type": "code",
   "execution_count": 3,
   "id": "7a36c8c6",
   "metadata": {},
   "outputs": [],
   "source": [
    "from solver import *"
   ]
  },
  {
   "cell_type": "code",
   "execution_count": 4,
   "id": "8d355521",
   "metadata": {},
   "outputs": [],
   "source": [
    "#model params\n",
    "r = 0.025\n",
    "sigma = 0.3\n",
    "kappa = 1.5\n",
    "theta =  0.04\n",
    "rho = -0.9\n",
    "\n",
    "#Option params:\n",
    "K = 1.0\n",
    "T = 1.0\n",
    "\n",
    "#initial price\n",
    "S0 = 1.0\n",
    "#initial vol\n",
    "v0 = 0.0175\n",
    "\n",
    "Smin = 0.02 * K\n",
    "Smax = 4.0 * K"
   ]
  },
  {
   "cell_type": "code",
   "execution_count": null,
   "id": "d1b82149",
   "metadata": {},
   "outputs": [],
   "source": [
    "def gridX(Nx):\n",
    "    \n",
    "    Smed = 2 * K\n",
    "    N1 = int(0.8 * Nx)\n",
    "    N2 = Nx - N1\n",
    "    Sn1 = np.linspace(Smin, Smed, N1 + 1)\n",
    "    Sn2 = np.linspace(Smed, Smax, N2 + 1)\n",
    "    \n",
    "    Sn = np.r_[Sn1, Sn2[1:]]\n",
    "    \n",
    "    xn = np.log(Sn / K)\n",
    "    hx = np.diff(xn)\n",
    "    return xn, hx\n",
    "\n",
    "def gridY(Ny):\n",
    "    Y = max(2.5, theta / sigma * 5.0)\n",
    "    yn = yn = Y * (np.linspace(0, 1, Ny + 1) ** 3 )\n",
    "    hy = np.diff(yn)\n",
    "    return yn, hy\n",
    "\n",
    "def gridT(Nt):\n",
    "    return T * (np.linspace(0, 1.0, Nt + 1) ** 1.5)"
   ]
  },
  {
   "cell_type": "code",
   "execution_count": null,
   "id": "b8a1c5b2",
   "metadata": {},
   "outputs": [],
   "source": [
    "Xleft = Dirichle(lambda x: 1.0 - Smin / K)\n",
    "\n",
    "Xright = Dirichle(lambda x: 0.0)\n",
    "\n",
    "Yleft = Neuman(lambda x: 0.0)\n",
    "\n",
    "Yright = Neuman(lambda x: 0.0)\n",
    "\n",
    "boundary = Boundary2D(Xleft, Xright, Yleft, Yright)\n",
    "\n",
    "init = lambda x, y: np.maximum(0, 1.0 - np.exp(x))\n",
    "\n",
    "mux = lambda x, y: (r - 0.5 * y * sigma)\n",
    "muy = lambda x, y:kappa * (theta - y * sigma) / sigma \n",
    "\n",
    "sigmax = lambda x, y: 0.5 * sigma * y\n",
    "sigmay = lambda x, y: 0.5 * sigma * y\n",
    "sigmaxy = lambda x, y: sigma * y * rho\n",
    "\n",
    "problem = Problem(boundary, init, mux, muy, sigmax, sigmay, sigmaxy)\n",
    "\n",
    "der = DerCntrl()"
   ]
  },
  {
   "cell_type": "code",
   "execution_count": null,
   "id": "e57273f0",
   "metadata": {},
   "outputs": [],
   "source": [
    "solverDO = ADI_DO(problem, der, gridX, gridY, gridT)\n",
    "\n",
    "solverCS = ADI_CS(problem, der, gridX, gridY, gridT)\n",
    "\n",
    "solverMCS = ADI_MCS(problem, der, gridX, gridY, gridT)\n",
    "\n",
    "solverHV = ADI_HV(problem, der, gridX, gridY, gridT)"
   ]
  },
  {
   "cell_type": "code",
   "execution_count": null,
   "id": "2aca702c",
   "metadata": {},
   "outputs": [],
   "source": [
    "def GetPFromU(u):\n",
    "    vn = yn * sigma\n",
    "\n",
    "    iy = np.where( vn <= v0 )[0][-1]\n",
    "    \n",
    "    H = 0.5 * (u[-1, :, iy] + u[-1, :, iy + 1])\n",
    "    return np.exp(-r * T) * K * H"
   ]
  },
  {
   "cell_type": "code",
   "execution_count": null,
   "id": "52312c5f",
   "metadata": {},
   "outputs": [],
   "source": [
    "Nx = 50\n",
    "Ny = 50\n",
    "M = 25"
   ]
  },
  {
   "cell_type": "code",
   "execution_count": null,
   "id": "ce157860",
   "metadata": {},
   "outputs": [],
   "source": [
    "xn, hx = gridX(Nx)\n",
    "yn, hy = gridY(Ny)\n",
    "tn = gridT(M)"
   ]
  },
  {
   "cell_type": "code",
   "execution_count": null,
   "id": "c90358d7",
   "metadata": {},
   "outputs": [],
   "source": [
    "uDO = solverDO.solve(Nx, Ny, M)\n",
    "uCS = solverCS.solve(Nx, Ny, M)\n",
    "uMCS = solverMCS.solve(Nx, Ny, M)\n",
    "uHV = solverHV.solve(Nx, Ny, M)"
   ]
  },
  {
   "cell_type": "code",
   "execution_count": null,
   "id": "dd3a0856",
   "metadata": {},
   "outputs": [],
   "source": [
    "Sn = K * np.exp(xn)\n",
    "\n",
    "pDO = GetPFromU(uDO)\n",
    "pCS = GetPFromU(uCS)\n",
    "pMCS = GetPFromU(uMCS)\n",
    "pHV = GetPFromU(uHV)"
   ]
  },
  {
   "cell_type": "code",
   "execution_count": null,
   "id": "619942c3",
   "metadata": {},
   "outputs": [],
   "source": [
    "a = np.ones((3, 4, 5))\n",
    "b = [a, a, a, a]\n",
    "np.sum(b, axis=0).shape"
   ]
  },
  {
   "cell_type": "code",
   "execution_count": null,
   "id": "5798af97",
   "metadata": {},
   "outputs": [],
   "source": [
    "Nu = 200\n",
    "P_exact = getOptionPrice(Sn, K, Nu, T, r, kappa, sigma, theta, rho, v0, False)\n",
    "P_exact = P_exact.squeeze()"
   ]
  },
  {
   "cell_type": "code",
   "execution_count": null,
   "id": "627f6bea",
   "metadata": {},
   "outputs": [],
   "source": [
    "plt.figure(figsize=(10, 6))\n",
    "plt.plot(Sn, P_exact, '-or',label=\"Heston exact\")\n",
    "plt.plot(Sn, pCS, '-ok', label=\"CS\")\n",
    "plt.legend(fontsize=14)\n",
    "plt.xlabel(\"Stock price, S\")\n",
    "plt.ylabel(\"Call option price\")\n",
    "plt.grid()"
   ]
  },
  {
   "cell_type": "code",
   "execution_count": null,
   "id": "b857b6da",
   "metadata": {},
   "outputs": [],
   "source": [
    "names = [\"DO\", \"CS\", \"MCS\", \"HV\"]\n",
    "prices = [pDO, pCS, pMCS, pHV]\n",
    "\n",
    "for name, price in zip(names, prices):\n",
    "    err = np.linalg.norm(P_exact - price) / np.linalg.norm(P_exact) * 100\n",
    "    print(f'{name}, error = {err:1.8}%,')"
   ]
  },
  {
   "cell_type": "code",
   "execution_count": null,
   "id": "37077279",
   "metadata": {},
   "outputs": [],
   "source": [
    "names = [\"DO\", \"CS\", \"MCS\", \"HV\"]\n",
    "prices = [pDO, pCS, pMCS, pHV]\n",
    "\n",
    "fig = plt.figure(figsize=(12, 8))\n",
    "ax1 = fig.add_subplot(221)\n",
    "ax1.plot(Sn, np.abs(P_exact - pDO), '-ok')\n",
    "ax1.grid()\n",
    "\n",
    "ax2 = fig.add_subplot(222)\n",
    "ax2.plot(Sn, np.abs(P_exact - pCS), '-ok')\n",
    "ax2.grid()\n",
    "\n",
    "ax3 = fig.add_subplot(223)\n",
    "ax3.plot(Sn, np.abs(P_exact - pMCS), '-ok')\n",
    "ax3.grid()\n",
    "\n",
    "ax4 = fig.add_subplot(224)\n",
    "ax4.plot(Sn, np.abs(P_exact - pHV), '-ok')\n",
    "ax4.grid()"
   ]
  },
  {
   "cell_type": "code",
   "execution_count": null,
   "id": "fbcf999a",
   "metadata": {},
   "outputs": [],
   "source": [
    "Smin = 0.01 * K\n",
    "Smax = 4 * K"
   ]
  },
  {
   "cell_type": "code",
   "execution_count": null,
   "id": "74e867c6",
   "metadata": {},
   "outputs": [],
   "source": [
    "def gridX(Nx):\n",
    "    sn = np.linspace(Smin, Smax, Nx + 1)\n",
    "    xn = np.log(sn / K)\n",
    "    hx = np.diff(xn)\n",
    "    return xn, hx\n",
    "\n",
    "def gridY(Ny):\n",
    "    Y = max(5.0, theta / sigma * 5.0)\n",
    "    yn = Y * (np.linspace(0, 1, Ny + 1) ** 1 )\n",
    "    hy = np.diff(yn)\n",
    "    return yn, hy\n",
    "\n",
    "def gridT(Nt):\n",
    "    return T * (np.linspace(0, 1.0, Nt + 1) ** 1.5)\n",
    "\n",
    "\n",
    "Sleft = Dirichle(lambda v: 0.0)\n",
    "\n",
    "Sright = Neuman(lambda v: Smax / K)\n",
    "\n",
    "Vleft = Neuman(lambda x: 0.0)\n",
    "\n",
    "Vright = Dirichle(lambda x: np.exp(x))\n",
    "\n",
    "Vright = Neuman(lambda x: 0.0)\n",
    "\n",
    "boundary = Boundary2D(Sleft, Sright, Vleft, Vright)\n",
    "\n",
    "init = lambda x, y: np.maximum(0, np.exp(x) - 1.0)\n",
    "\n",
    "mux = lambda x, y: (r - 0.5 * y * sigma)\n",
    "muy = lambda x, y:kappa * (theta - y * sigma) / sigma \n",
    "\n",
    "sigmax = lambda x, y: 0.5 * sigma * y\n",
    "sigmay = lambda x, y: 0.5 * sigma * y\n",
    "sigmaxy = lambda x, y: sigma * y * rho\n",
    "\n",
    "problem = Problem(boundary, init, mux, muy, sigmax, sigmay, sigmaxy)\n",
    "\n",
    "der = DerCntrl()\n",
    "\n",
    "solverDO = ADI_DO(problem, der, gridX, gridY, gridT)\n",
    "solverCS = ADI_CS(problem, der, gridX, gridY, gridT)\n",
    "solverMCS = ADI_MCS(problem, der, gridX, gridY, gridT)\n",
    "solverHV = ADI_HV(problem, der, gridX, gridY, gridT, th=1.0)"
   ]
  },
  {
   "cell_type": "code",
   "execution_count": 11,
   "id": "89357502",
   "metadata": {},
   "outputs": [],
   "source": [
    "def InverseTransform(u, vn, v0, r, T, K):\n",
    "    iy = np.where( vn <= v0 )[0][0]\n",
    "    H = 0.5 * (u[-1, :, iy] + u[-1, :, iy + 1])\n",
    "    return np.exp(-r * T) * H * K"
   ]
  },
  {
   "cell_type": "code",
   "execution_count": null,
   "id": "7f0196ca",
   "metadata": {},
   "outputs": [],
   "source": [
    "Nx = 500\n",
    "Ny = 400\n",
    "Nt = 15\n",
    "\n",
    "xn, hx = gridX(Nx)\n",
    "yn, hy = gridY(Ny)\n",
    "tn = gridT(Nt)\n",
    "\n",
    "sn = np.exp(xn) * K\n",
    "vn = sigma * yn"
   ]
  },
  {
   "cell_type": "code",
   "execution_count": null,
   "id": "e51fdd96",
   "metadata": {},
   "outputs": [],
   "source": [
    "Nu = 200\n",
    "cExact = getOptionPrice(sn, K, Nu, T, r, kappa, sigma, theta, rho, vn, True)\n",
    "cExact = cExact.squeeze()"
   ]
  },
  {
   "cell_type": "code",
   "execution_count": null,
   "id": "0d1c5b46",
   "metadata": {},
   "outputs": [],
   "source": [
    "#uDO = solverDO.solve(Nx, Ny, Nt)\n",
    "#uCS = solverCS.solve(Nx, Ny, Nt)\n",
    "uMCS = solverMCS.solve(Nx, Ny, Nt)\n",
    "#uHV = solverHV.solve(Nx, Ny, Nt)\n",
    "\n",
    "#cDO = InverseTransform(uDO, vn, v0, r, T, K)\n",
    "#cCS = InverseTransform(uCS, vn, v0, r, T, K)\n",
    "cMCS = InverseTransform(uMCS, vn, v0, r, T, K)\n",
    "#cHV = InverseTransform(uHV, vn, v0, r, T, K)"
   ]
  },
  {
   "cell_type": "code",
   "execution_count": null,
   "id": "25e6fade",
   "metadata": {},
   "outputs": [],
   "source": [
    "fig = plt.figure(figsize=(15, 6))\n",
    "\n",
    "ax1 = plt.subplot(121)\n",
    "ax1.contour(sn, vn, cExact.T, levels=100)\n",
    "ax2 = plt.subplot(122)\n",
    "ax2.contour(sn, vn, K * np.exp(-r * T) * uMCS[-1].T, levels=100)"
   ]
  },
  {
   "cell_type": "code",
   "execution_count": 85,
   "id": "58d5ea77",
   "metadata": {},
   "outputs": [],
   "source": [
    "Smin = 0.001 * K\n",
    "Smax = 6 * K"
   ]
  },
  {
   "cell_type": "code",
   "execution_count": 100,
   "id": "1a017d14",
   "metadata": {},
   "outputs": [],
   "source": [
    "def gridS(Ns):\n",
    "    c = K / 5\n",
    "    ximin = np.arcsinh( (Smin - K) / c )\n",
    "    ximax = np.arcsinh( (Smax - K) / c )\n",
    "    xi = np.linspace( ximin, ximax, Ns + 1 )\n",
    "    sn = K + c * np.sinh(xi)\n",
    "    hs = np.diff(sn)\n",
    "    return sn, hs\n",
    "\n",
    "def gridV(Nv):\n",
    "    Vmax = 5.0\n",
    "    c = Vmax / 50\n",
    "    ximin = np.arcsinh( (0.0) / c )\n",
    "    ximax = np.arcsinh( (Vmax) / c )\n",
    "    xi = np.linspace( ximin, ximax, Nv + 1 )\n",
    "    vn = c * np.sinh(xi)\n",
    "    hv = np.diff(vn)\n",
    "    return vn, hv\n",
    "\n",
    "def gridT(Nt):\n",
    "    return T * (np.linspace(0, 1.0, Nt + 1) ** 1.5)\n",
    "\n",
    "\n",
    "Sleft = Dirichle(lambda v: 0.0)\n",
    "\n",
    "Sright = Neuman(lambda v: 1.0)\n",
    "\n",
    "Vleft = Neuman(lambda x: 0.0)\n",
    "\n",
    "Vright = Dirichle(lambda x: x)\n",
    "\n",
    "boundary = Boundary2D(Sleft, Sright, Vleft, Vright)\n",
    "\n",
    "init = lambda s, v: np.maximum(0.0, s - K)\n",
    "\n",
    "mux = lambda s, v: s * r\n",
    "muy = lambda s, v: kappa * (theta - v )\n",
    "\n",
    "sigmax = lambda s, v: 0.5 * (s ** 2) * v\n",
    "sigmay = lambda s, v: 0.5 * (sigma ** 2) * v\n",
    "sigmaxy = lambda s, v: s * v * sigma * rho\n",
    "\n",
    "problem = Problem(boundary, init, mux, muy, sigmax, sigmay, sigmaxy)\n",
    "\n",
    "der = DerCntrl()\n",
    "\n",
    "solverDO = ADI_DO(problem, der, gridS, gridV, gridT)"
   ]
  },
  {
   "cell_type": "code",
   "execution_count": 109,
   "id": "f670739d",
   "metadata": {},
   "outputs": [],
   "source": [
    "Ns = 10\n",
    "Nv = 10\n",
    "Nt = 150\n",
    "\n",
    "sn, hs = gridS(Ns)\n",
    "vn, hv = gridV(Nv)\n",
    "tn = gridT(Nt)"
   ]
  },
  {
   "cell_type": "code",
   "execution_count": 110,
   "id": "0dab89a4",
   "metadata": {},
   "outputs": [],
   "source": [
    "uDO = solverDO.solve(Ns, Nv, Nt)\n",
    "\n",
    "cDO = InverseTransform(uDO, vn, v0, r, T, K) / K"
   ]
  },
  {
   "cell_type": "code",
   "execution_count": 111,
   "id": "ece589a0",
   "metadata": {},
   "outputs": [],
   "source": [
    "Nu = 200\n",
    "cExact = getOptionPrice(sn, K, Nu, T, r, kappa, sigma, theta, rho, v0, True)"
   ]
  },
  {
   "cell_type": "code",
   "execution_count": 112,
   "id": "05bf2807",
   "metadata": {},
   "outputs": [
    {
     "data": {
      "image/png": "[encoded data removed]",
      "text/plain": [
       "<Figure size 432x288 with 1 Axes>"
      ]
     },
     "metadata": {
      "needs_background": "light"
     },
     "output_type": "display_data"
    }
   ],
   "source": [
    "plt.plot(sn, cDO, '-ok', sn, cExact, '-or')\n",
    "plt.grid()"
   ]
  },
  {
   "cell_type": "code",
   "execution_count": null,
   "id": "033cf5a2",
   "metadata": {},
   "outputs": [],
   "source": []
  },
  {
   "cell_type": "code",
   "execution_count": null,
   "id": "287d57ad",
   "metadata": {},
   "outputs": [],
   "source": []
  }
 ],
 "metadata": {
  "kernelspec": {
   "display_name": "Python [conda env:ubiquant_kaggle] *",
   "language": "python",
   "name": "conda-env-ubiquant_kaggle-py"
  },
  "language_info": {
   "codemirror_mode": {
    "name": "ipython",
    "version": 3
   },
   "file_extension": ".py",
   "mimetype": "text/x-python",
   "name": "python",
   "nbconvert_exporter": "python",
   "pygments_lexer": "ipython3",
   "version": "3.8.12"
  }
 },
 "nbformat": 4,
 "nbformat_minor": 5
}
