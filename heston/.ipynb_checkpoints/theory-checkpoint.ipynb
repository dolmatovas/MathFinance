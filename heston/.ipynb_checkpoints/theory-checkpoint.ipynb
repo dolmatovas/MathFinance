{
 "cells": [
  {
   "cell_type": "markdown",
   "id": "6e9f4fe3",
   "metadata": {},
   "source": [
    "Let $\\beta_t = \\mathbb{E} v_t$. Since:\n",
    "$$\n",
    "v_t = v_0 + \\int_0^t \\kappa (\\theta - v_s) ds + \\int_0^t \\sigma \\sqrt{v_s} dW_s\n",
    "$$then:\n",
    "$$\n",
    "\\beta_t = v_0 + \\int_0^t \\kappa (\\theta - \\beta_s) ds\n",
    "$$Then:\n",
    "$$\n",
    "\\beta_t' = \\kappa (\\theta - \\beta_t)\n",
    "$$or \n",
    "$$\n",
    "(\\beta_t - \\theta)' = -\\kappa(\\beta_t - \\theta)\n",
    "$$and\n",
    "$$\n",
    "\\beta_t - \\theta = (v_0 - \\theta) e^{-\\kappa t}\n",
    "$$\n",
    "$$\n",
    "\\beta_t = \\theta + (v_0 - \\theta) e^{-\\kappa t}\n",
    "$$\n",
    "\n",
    "Now we can estimate $\\mathbb{E} x_t:$\n",
    "$$\n",
    "dx_t = (r-0.5 v_t) dt + \\sqrt{v_t} dW_t\n",
    "$$then:\n",
    "$$\n",
    "x_t = x_0 + \\int_0^t (r-0.5 v_s) ds + \\int_0^t  \\sqrt{v_s} dW_s\n",
    "$$and:\n",
    "$$\n",
    "\\mu_t = \\mathbb{E} x_t = x_0 + \\int_0^t (r-0.5 \\beta_s) ds = x_0 + rt - 0.5 \\int_0^t \\beta_s ds \n",
    "$$\n",
    "$$\n",
    "\\int_0^t \\beta_s ds = \\theta t + (v_0 - \\theta) \\int_0^t  e^{-\\kappa s}ds =\n",
    " \\theta t + \\dfrac{v_0 - \\theta}{\\kappa} (1 - e^{-\\kappa t})\n",
    "$$\n",
    "Finally, we have:\n",
    "$$\n",
    "\\mu_t = x_0 + (r-0.5\\theta)t + \\dfrac{\\theta - v_0}{2\\kappa} \\left( 1 - e^{-\\kappa t}\\right)\n",
    "$$\n",
    "\n",
    "Then, we can consider that $x_t \\sim N(\\mu_t, \\beta_t t)$\n",
    "So\n",
    "$$\n",
    "S = S_0 \\exp( x_t ) = S_0 \\exp(\\mu_t + \\sqrt{\\beta_t t} \\xi)\n",
    "$$where $\\xi \\sim N(0, 1)$.\n",
    "$$\n",
    "C = e^{-rt} \\left[S_0 e^{\\mu_t + 0.5 \\sigma_t^2} \\Phi(d_1) - K \\Phi(d_2) \\right]\n",
    "$$where\n",
    "$$\n",
    "d_1 = \\dfrac{\\sigma_T^2 + \\mu_t + \\log(S_0/K)}{\\sigma_t}, d_2 = d_1 - \\sigma_t\n",
    "$$"
   ]
  },
  {
   "cell_type": "code",
   "execution_count": null,
   "id": "91255efc",
   "metadata": {},
   "outputs": [],
   "source": [
    "    "
   ]
  }
 ],
 "metadata": {
  "kernelspec": {
   "display_name": "Python 3 (ipykernel)",
   "language": "python",
   "name": "python3"
  },
  "language_info": {
   "codemirror_mode": {
    "name": "ipython",
    "version": 3
   },
   "file_extension": ".py",
   "mimetype": "text/x-python",
   "name": "python",
   "nbconvert_exporter": "python",
   "pygments_lexer": "ipython3",
   "version": "3.8.12"
  }
 },
 "nbformat": 4,
 "nbformat_minor": 5
}
