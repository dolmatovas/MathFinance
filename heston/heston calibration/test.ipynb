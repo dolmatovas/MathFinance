{
 "cells": [
  {
   "cell_type": "code",
   "execution_count": 1,
   "id": "f4d2ebe1",
   "metadata": {},
   "outputs": [],
   "source": [
    "import numpy as np"
   ]
  },
  {
   "cell_type": "code",
   "execution_count": 2,
   "id": "7395afde",
   "metadata": {},
   "outputs": [],
   "source": [
    "from matplotlib import pyplot as plt"
   ]
  },
  {
   "cell_type": "code",
   "execution_count": 3,
   "id": "cf50166c",
   "metadata": {},
   "outputs": [],
   "source": [
    "from heston_derivatives import *"
   ]
  },
  {
   "cell_type": "code",
   "execution_count": 4,
   "id": "6ded4b1c",
   "metadata": {},
   "outputs": [],
   "source": [
    "v0 = 0.01\n",
    "k = 2.5\n",
    "rho = -0.2\n",
    "sig = 0.01\n",
    "theta = 0.01\n",
    "\n",
    "r = 0.0\n",
    "\n",
    "\n",
    "T = 1\n",
    "S0 = 1\n",
    "K0 = S0\n",
    "\n",
    "K = K0 * np.linspace(0.5, 1.5, 20)"
   ]
  },
  {
   "cell_type": "code",
   "execution_count": 5,
   "id": "99ba6357",
   "metadata": {},
   "outputs": [],
   "source": [
    "tau = np.linspace(0, T, 20)\n",
    "\n",
    "tau = T"
   ]
  },
  {
   "cell_type": "code",
   "execution_count": 6,
   "id": "10cca960",
   "metadata": {},
   "outputs": [],
   "source": [
    "Nu = 30"
   ]
  },
  {
   "cell_type": "code",
   "execution_count": 7,
   "id": "af1fed3a",
   "metadata": {},
   "outputs": [],
   "source": [
    "res, resDer = getOptionPriceDerAB(S0, K, Nu, tau, r, v0, theta, rho, k, sig, isCall=True)"
   ]
  },
  {
   "cell_type": "code",
   "execution_count": 8,
   "id": "72ef7563",
   "metadata": {},
   "outputs": [
    {
     "data": {
      "text/plain": [
       "(20,)"
      ]
     },
     "execution_count": 8,
     "metadata": {},
     "output_type": "execute_result"
    }
   ],
   "source": [
    "res.shape"
   ]
  },
  {
   "cell_type": "code",
   "execution_count": 9,
   "id": "fe9f10e4",
   "metadata": {},
   "outputs": [
    {
     "data": {
      "text/plain": [
       "(5, 20)"
      ]
     },
     "execution_count": 9,
     "metadata": {},
     "output_type": "execute_result"
    }
   ],
   "source": [
    "resDer.shape"
   ]
  },
  {
   "cell_type": "code",
   "execution_count": 10,
   "id": "091d6066",
   "metadata": {},
   "outputs": [],
   "source": [
    "C, resDerFinite = getOptionPriceDerFinite(S0, K, Nu, tau, r, v0, theta, rho, k, sig)"
   ]
  },
  {
   "cell_type": "code",
   "execution_count": 11,
   "id": "05b434c9",
   "metadata": {},
   "outputs": [
    {
     "data": {
      "text/plain": [
       "0.0010992934074334887"
      ]
     },
     "execution_count": 11,
     "metadata": {},
     "output_type": "execute_result"
    }
   ],
   "source": [
    "np.linalg.norm(resDer - resDerFinite)"
   ]
  },
  {
   "cell_type": "code",
   "execution_count": 15,
   "id": "06059cb8",
   "metadata": {},
   "outputs": [
    {
     "data": {
      "text/plain": [
       "0.0"
      ]
     },
     "execution_count": 15,
     "metadata": {},
     "output_type": "execute_result"
    }
   ],
   "source": [
    "np.linalg.norm(res - C)"
   ]
  },
  {
   "cell_type": "code",
   "execution_count": 12,
   "id": "21c5a14e",
   "metadata": {},
   "outputs": [
    {
     "data": {
      "image/png": "[encoded data removed]",
      "text/plain": [
       "<Figure size 432x288 with 1 Axes>"
      ]
     },
     "metadata": {
      "needs_background": "light"
     },
     "output_type": "display_data"
    }
   ],
   "source": [
    "plt.plot(K, C)\n",
    "plt.grid()"
   ]
  },
  {
   "cell_type": "code",
   "execution_count": 13,
   "id": "12f12594",
   "metadata": {},
   "outputs": [
    {
     "data": {
      "image/png": "[encoded data removed]",
      "text/plain": [
       "<Figure size 432x288 with 1 Axes>"
      ]
     },
     "metadata": {
      "needs_background": "light"
     },
     "output_type": "display_data"
    }
   ],
   "source": [
    "plt.plot(K, res)\n",
    "plt.grid()"
   ]
  },
  {
   "cell_type": "code",
   "execution_count": 14,
   "id": "e70b27c4",
   "metadata": {},
   "outputs": [
    {
     "data": {
      "text/plain": [
       "array([5.00000205e-01, 4.47368310e-01, 3.94736786e-01, 3.42105810e-01,\n",
       "       2.89481206e-01, 2.36940502e-01, 1.84930193e-01, 1.34960982e-01,\n",
       "       9.00796446e-02, 5.39182682e-02, 2.85647005e-02, 1.33193309e-02,\n",
       "       5.47055240e-03, 1.98949654e-03, 6.45781734e-04, 1.88784028e-04,\n",
       "       4.99558521e-05, 1.18256757e-05, 2.48872948e-06, 7.24373095e-07])"
      ]
     },
     "execution_count": 14,
     "metadata": {},
     "output_type": "execute_result"
    }
   ],
   "source": [
    "res"
   ]
  },
  {
   "cell_type": "code",
   "execution_count": 16,
   "id": "2a5e2edd",
   "metadata": {},
   "outputs": [],
   "source": [
    "a = np.zeros((3, 5))"
   ]
  },
  {
   "cell_type": "code",
   "execution_count": 18,
   "id": "dbd6f780",
   "metadata": {},
   "outputs": [
    {
     "data": {
      "text/plain": [
       "(3, 10)"
      ]
     },
     "execution_count": 18,
     "metadata": {},
     "output_type": "execute_result"
    }
   ],
   "source": [
    "np.c_[a, a].shape"
   ]
  },
  {
   "cell_type": "code",
   "execution_count": null,
   "id": "c476a9e9",
   "metadata": {},
   "outputs": [],
   "source": []
  }
 ],
 "metadata": {
  "kernelspec": {
   "display_name": "Python [conda env:ubiquant_kaggle] *",
   "language": "python",
   "name": "conda-env-ubiquant_kaggle-py"
  },
  "language_info": {
   "codemirror_mode": {
    "name": "ipython",
    "version": 3
   },
   "file_extension": ".py",
   "mimetype": "text/x-python",
   "name": "python",
   "nbconvert_exporter": "python",
   "pygments_lexer": "ipython3",
   "version": "3.8.12"
  }
 },
 "nbformat": 4,
 "nbformat_minor": 5
}
