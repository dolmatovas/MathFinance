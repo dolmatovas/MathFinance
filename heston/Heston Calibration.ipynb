{
 "cells": [
  {
   "cell_type": "code",
   "execution_count": 1,
   "id": "5a624e70",
   "metadata": {},
   "outputs": [],
   "source": [
    "from montecarlo import *\n",
    "from heston import *\n",
    "\n",
    "from matplotlib import pyplot as plt"
   ]
  },
  {
   "cell_type": "code",
   "execution_count": 2,
   "id": "b5d703e4",
   "metadata": {},
   "outputs": [],
   "source": [
    "def getPhiAB(u, tau, k, sig, theta, rho, v):\n",
    "    \n",
    "    xi = k - sig * rho * u * 1j\n",
    "    d = np.sqrt( xi ** 2 + sig**2 * (1j * u + u ** 2) + 0j)\n",
    "    \n",
    "    A1 = (1j * u + u ** 2) * np.sinh(d * tau / 2)\n",
    "    A2 = (d * np.cosh(d * tau / 2) + xi * np.sinh(d * tau / 2))\n",
    "    A = A1 / A2\n",
    "    \n",
    "    B = d * np.exp(k * tau / 2) / A2\n",
    "    \n",
    "    pred_phi = np.exp(-k * theta * rho * tau * u * 1j / sig - A * v) * \\\n",
    "        B ** (2 * k * theta / sig ** 2)\n",
    "    return pred_phi\n",
    "\n",
    "    \n",
    "def getOptionPriceAB(S, K, Nu, tau, r, k, sig, theta, rho, v, isCall=True):\n",
    "    \n",
    "    if not isinstance(S, np.ndarray):\n",
    "        S = np.asarray([S])\n",
    "    if not isinstance(K, np.ndarray):\n",
    "        K = np.asarray([K])\n",
    "    if not isinstance(v, np.ndarray):\n",
    "        v = np.asarray([v])\n",
    "    #dims go as follow:\n",
    "    #K S v u\n",
    "    S = S.reshape(1, -1, 1, 1)\n",
    "    K = K.reshape(-1, 1, 1, 1)\n",
    "    v = v.reshape(1, 1, -1, 1)\n",
    "\n",
    "    Ns = S.size\n",
    "    Nk = K.size\n",
    "    Nv = v.size\n",
    "\n",
    "    un, hn = getMesh(Nu)\n",
    "\n",
    "    un = un.reshape(1, 1, 1, -1)\n",
    "    hn = hn.reshape(1, 1, 1, -1)\n",
    "    \n",
    "    xn = np.log(S * np.exp(r * tau) / K)\n",
    "    \n",
    "\n",
    "    batchSize = 100\n",
    "\n",
    "    I1 = np.zeros((Nk, Ns, Nv, 1))\n",
    "    I2 = np.zeros((Nk, Ns, Nv, 1))\n",
    "    for i in range(Nu // batchSize):\n",
    "        start = i * batchSize\n",
    "        end = start + batchSize\n",
    "        unbatch = un[:, :, :, start:end]\n",
    "        hnbatch = hn[:, :, :, start:end]\n",
    "        \n",
    "        pred_phi = getPhiAB(unbatch, tau, k, sig, theta, rho, v)\n",
    "        pred_phi_tilda = getPhiAB(unbatch - 1j, tau, k, sig, theta, rho, v)\n",
    "\n",
    "        F1 = np.exp(1j * unbatch * xn) * pred_phi / (1j * unbatch)\n",
    "        F2 = np.exp(1j * unbatch * xn) * pred_phi_tilda / (1j * unbatch)\n",
    "\n",
    "        F1 = F1.real * hnbatch\n",
    "        F2 = F2.real * hnbatch\n",
    "        I1 += np.sum(F1, axis=-1, keepdims=True) / np.pi\n",
    "        I2 += np.sum(F2, axis=-1, keepdims=True) / np.pi\n",
    "    assert I1.shape == (Nk, Ns, Nv, 1)\n",
    "    if isCall:\n",
    "        P1 = 0.5 + I1\n",
    "        P2 = 0.5 + I2\n",
    "        res = S * P2 - np.exp(-r * tau) * K * P1\n",
    "    else:\n",
    "        P1 = 0.5 - I1\n",
    "        P2 = 0.5 - I2\n",
    "        res = np.exp(-r * tau) * K * P1 - S * P2\n",
    "    return res.squeeze()"
   ]
  },
  {
   "cell_type": "code",
   "execution_count": 3,
   "id": "27ec17cb",
   "metadata": {},
   "outputs": [],
   "source": [
    "def getPhiABder(u, tau, k, sig, theta, rho, v):\n",
    "    xi = k - sig * rho * u * 1j\n",
    "    d = np.sqrt( xi ** 2 + sig**2 * (1j * u + u ** 2) + 0j)\n",
    "    \n",
    "    \n",
    "    c = np.cosh(d * tau / 2)\n",
    "    s = np.sinh(d * tau / 2)\n",
    "    \n",
    "    A1 = (1j * u + u ** 2) * s\n",
    "    A2 = (d * c + xi * s)\n",
    "    A = A1 / A2\n",
    "    \n",
    "    B = d * np.exp(k * tau / 2) / A2\n",
    "    \n",
    "    D = np.log(d) + (k - d) * tau / 2 - np.log( (d + xi)/2 + (d-xi)/2 * np.exp(-d*tau) )\n",
    "    \n",
    "    pred_phi = np.exp(-k * theta * rho * tau * u * 1j / sig - A * v + 2 * k * theta / sig ** 2 * D)\n",
    "    \n",
    "    der1 = -A\n",
    "    der2 = 2 * k / sig ** 2 * D - k * rho * tau * 1j * u / sig\n",
    "    \n",
    "    d_rho = -1j * u * sig * xi / d\n",
    "\n",
    "    A1_rho = -1j * u * sig * tau * xi / (2 * d) * (u ** 2 + 1j * u) * c\n",
    "    A2_rho = -(2 + xi * tau) * sig * 1j * u / (2 * d) * (xi * c + d * s)\n",
    "    \n",
    "    B_rho = np.exp(k * tau / 2) * (d_rho - d * A2_rho / A2) / A2\n",
    "    A_rho = (A1_rho - A * A2_rho) / A2\n",
    "    \n",
    "    D_rho = B_rho / B\n",
    "       \n",
    "    der3 = -k * theta * tau * 1j * u / sig - v * A_rho + 2 * k * theta / sig **2 * D_rho\n",
    "    \n",
    "    A_k = A_rho * 1j / (u * sig)\n",
    "    B_k = tau / 2 * B + B_rho * 1j / (u * sig)\n",
    "    D_k = B_k / B\n",
    "    \n",
    "    der4 = -theta * rho * tau * 1j * u / sig - v * A_k + 2 * theta / sig**2 * D + 2 * k * theta / sig ** 2 * D_k\n",
    "    \n",
    "    d_sig = (sig * (1j * u + u ** 2) + rho * 1j * u * (sig * rho * 1j * u - k)) / d\n",
    "    A1_sig = (1j * u + u ** 2) * tau / 2 * c * d_sig\n",
    "    A2_sig = d_sig * ( c * (1 + xi * tau / 2) + d * tau / 2 * s) - s * rho * 1j * u\n",
    "    \n",
    "    A_sig = (A1_sig - A * A2_sig) / A2\n",
    "    \n",
    "    D_sig = d_sig / d - A2_sig / A2\n",
    "    \n",
    "    der5 = k * theta * rho * tau * 1j * u / sig ** 2 - v * A_sig - 4 * k * theta / sig**3 * D\\\n",
    "        + 2 * k * theta / sig ** 2 * D_sig\n",
    "    \n",
    "    return pred_phi, der1, der2, der3, der4, der5"
   ]
  },
  {
   "cell_type": "code",
   "execution_count": 4,
   "id": "43e88985",
   "metadata": {},
   "outputs": [],
   "source": [
    "def getPhiABderFinite(u, tau, k, sig, theta, rho, v):\n",
    "    pred_phi = getPhiAB(u, tau, k, sig, theta, rho, v)\n",
    "    \n",
    "    eps = 1e-10\n",
    "    denom = 1 / (2 * eps * pred_phi)\n",
    "    der1 = (getPhiAB(u, tau, k, sig, theta, rho, v + eps) - getPhiAB(u, tau, k, sig, theta, rho, v - eps)) * denom \n",
    "    der2 = (getPhiAB(u, tau, k, sig, theta + eps, rho, v) - getPhiAB(u, tau, k, sig, theta - eps, rho, v)) * denom \n",
    "    der3 = (getPhiAB(u, tau, k, sig, theta, rho + eps, v) - getPhiAB(u, tau, k, sig, theta, rho - eps, v)) * denom \n",
    "    der4 = (getPhiAB(u, tau, k + eps, sig, theta, rho, v) - getPhiAB(u, tau, k - eps, sig, theta, rho, v)) * denom \n",
    "    der5 = (getPhiAB(u, tau, k, sig + eps, theta, rho, v) - getPhiAB(u, tau, k, sig - eps, theta, rho, v)) * denom \n",
    "    return pred_phi, der1, der2, der3, der4, der5"
   ]
  },
  {
   "cell_type": "code",
   "execution_count": null,
   "id": "fd0d74a4",
   "metadata": {},
   "outputs": [],
   "source": []
  },
  {
   "cell_type": "code",
   "execution_count": null,
   "id": "f26e22e7",
   "metadata": {},
   "outputs": [],
   "source": []
  },
  {
   "cell_type": "code",
   "execution_count": null,
   "id": "6e6f5da6",
   "metadata": {},
   "outputs": [],
   "source": []
  },
  {
   "cell_type": "code",
   "execution_count": null,
   "id": "654672d9",
   "metadata": {},
   "outputs": [],
   "source": []
  },
  {
   "cell_type": "code",
   "execution_count": 43,
   "id": "21bb2cb7",
   "metadata": {},
   "outputs": [],
   "source": [
    "r = 0.0\n",
    "d = 0.55\n",
    "k = 2.5\n",
    "sig = 0.9\n",
    "theta = 0.015\n",
    "rho = 0.8\n",
    "\n",
    "\n",
    "S0 = 1.0\n",
    "K = 1.0\n",
    "T = 1.5\n",
    "\n",
    "Kn = K * np.exp( np.linspace(-np.log(15), np.log(5), 100) )\n",
    "Sn = S0 * np.exp( np.linspace(-np.log(15), np.log(2), 120) )\n",
    "\n",
    "#Kn = Kn.reshape(-1, 1)\n",
    "#Sn = Sn.reshape()\n",
    "\n",
    "\n",
    "Nt = 100\n",
    "Nu = 1000\n",
    "tn = np.linspace(0, T, Nt)\n",
    "\n",
    "v0 = 0.175\n",
    "x0 = np.log(S0)"
   ]
  },
  {
   "cell_type": "code",
   "execution_count": 44,
   "id": "5f26a809",
   "metadata": {},
   "outputs": [],
   "source": [
    "C1 = getOptionPrice(S0, Kn, Nu, T, r, k, sig, theta, rho, v0)\n",
    "\n",
    "C2 = getOptionPriceAB(S0, Kn, Nu, T, r, k, sig, theta, rho, v0)"
   ]
  },
  {
   "cell_type": "code",
   "execution_count": 45,
   "id": "6289f183",
   "metadata": {},
   "outputs": [
    {
     "data": {
      "image/png": "[encoded data removed]",
      "text/plain": [
       "<Figure size 720x360 with 1 Axes>"
      ]
     },
     "metadata": {
      "needs_background": "light"
     },
     "output_type": "display_data"
    }
   ],
   "source": [
    "plt.figure(figsize=(10, 5))\n",
    "plt.plot(Kn, C1, label='Old Heston')\n",
    "plt.plot(Kn, C2, label='AB Heston')\n",
    "plt.plot(Kn, np.maximum(S0 - Kn, 0.0), c='k', label='payoff')\n",
    "\n",
    "plt.legend(fontsize=15)\n",
    "plt.grid()\n",
    "plt.xlabel(\"Strike\", fontsize=15)\n",
    "plt.ylabel(\"Call price\", fontsize=15)\n",
    "None"
   ]
  },
  {
   "cell_type": "code",
   "execution_count": 46,
   "id": "85c53bae",
   "metadata": {},
   "outputs": [
    {
     "data": {
      "image/png": "[encoded data removed]",
      "text/plain": [
       "<Figure size 720x360 with 1 Axes>"
      ]
     },
     "metadata": {
      "needs_background": "light"
     },
     "output_type": "display_data"
    }
   ],
   "source": [
    "C1 = getOptionPrice(Sn, K, Nu, T, r, k, sig, theta, rho, v0)\n",
    "\n",
    "C2 = getOptionPriceAB(Sn, K, Nu, T, r, k, sig, theta, rho, v0)\n",
    "\n",
    "plt.figure(figsize=(10, 5))\n",
    "plt.plot(Sn, C1, label='Old Heston')\n",
    "plt.plot(Sn, C2, label='AB Heston')\n",
    "plt.plot(Sn, np.maximum(Sn - K, 0.0), c='k', label='payoff')\n",
    "\n",
    "plt.legend(fontsize=15)\n",
    "plt.grid()\n",
    "plt.xlabel(\"Stock price\", fontsize=15)\n",
    "plt.ylabel(\"option price\", fontsize=15)\n",
    "None"
   ]
  },
  {
   "cell_type": "code",
   "execution_count": 47,
   "id": "0bf2b6fd",
   "metadata": {},
   "outputs": [
    {
     "data": {
      "text/plain": [
       "5.1742863517521045e-05"
      ]
     },
     "execution_count": 47,
     "metadata": {},
     "output_type": "execute_result"
    }
   ],
   "source": [
    "np.linalg.norm(C1 - C2)"
   ]
  },
  {
   "cell_type": "code",
   "execution_count": 39,
   "id": "d1ae2ae5",
   "metadata": {},
   "outputs": [],
   "source": [
    "u = 8\n",
    "tau = T\n",
    "\n",
    "phi, der1, der2, der3, der4, der5 = getPhiABderFinite(u, tau, k, sig, theta, rho, v0)\n",
    "\n",
    "phi_, der1_, der2_, der3_, der4_, der5_ = getPhiABder(u, tau, k, sig, theta, rho, v0)\n",
    "\n",
    "d1 = np.asarray((der1, der2, der3, der4, der5))\n",
    "d2 = np.asarray((der1_, der2_, der3_, der4_, der5_))"
   ]
  },
  {
   "cell_type": "code",
   "execution_count": 40,
   "id": "19357e0b",
   "metadata": {},
   "outputs": [
    {
     "data": {
      "text/plain": [
       "((0.2843696621215394+0.2652487366424468j),\n",
       " (-4.1169797596986735+3.379647670195106j),\n",
       " (-14.935228322274437+10.612294218351998j),\n",
       " (-1.1751305067750613-0.5368676834682214j),\n",
       " (-0.015047736360621698-0.09953981989221095j),\n",
       " (0.8333052472914338-0.34793715332589337j))"
      ]
     },
     "execution_count": 40,
     "metadata": {},
     "output_type": "execute_result"
    }
   ],
   "source": [
    "phi, der1, der2, der3, der4, der5"
   ]
  },
  {
   "cell_type": "code",
   "execution_count": 41,
   "id": "35973156",
   "metadata": {},
   "outputs": [
    {
     "data": {
      "text/plain": [
       "((0.28436966212153936+0.26524873664244675j),\n",
       " (-4.116979639948353+3.3796475457888246j),\n",
       " (-14.935228536353444+10.612294087455496j),\n",
       " (-1.1751304496917907-0.5368674858783834j),\n",
       " (-0.015046442623900723-0.09953879793246016j),\n",
       " (0.8333039943037155-0.347936189252906j))"
      ]
     },
     "execution_count": 41,
     "metadata": {},
     "output_type": "execute_result"
    }
   ],
   "source": [
    "phi_, der1_, der2_, der3_, der4_, der5_"
   ]
  },
  {
   "cell_type": "code",
   "execution_count": 42,
   "id": "8baa8b1b",
   "metadata": {},
   "outputs": [
    {
     "data": {
      "text/plain": [
       "array([1.72676177e-07, 2.50925717e-07, 2.05670231e-07, 1.64868324e-06,\n",
       "       1.58095381e-06])"
      ]
     },
     "execution_count": 42,
     "metadata": {},
     "output_type": "execute_result"
    }
   ],
   "source": [
    "np.abs(d1 - d2)"
   ]
  },
  {
   "cell_type": "code",
   "execution_count": 52,
   "id": "a918469b",
   "metadata": {},
   "outputs": [
    {
     "name": "stdout",
     "output_type": "stream",
     "text": [
      "87.4 µs ± 2.5 µs per loop (mean ± std. dev. of 7 runs, 10,000 loops each)\n"
     ]
    }
   ],
   "source": [
    "%%timeit\n",
    "phi, der1, der2, der3, der4, der5 = getPhiABderFinite(u, tau, k, sig, theta, rho, v0)"
   ]
  },
  {
   "cell_type": "code",
   "execution_count": 53,
   "id": "74ff547c",
   "metadata": {},
   "outputs": [
    {
     "name": "stdout",
     "output_type": "stream",
     "text": [
      "21.9 µs ± 1.11 µs per loop (mean ± std. dev. of 7 runs, 10,000 loops each)\n"
     ]
    }
   ],
   "source": [
    "%%timeit\n",
    "phi_, der1_, der2_, der3_, der4_, der5_ = getPhiABder(u, tau, k, sig, theta, rho, v0)"
   ]
  },
  {
   "cell_type": "code",
   "execution_count": null,
   "id": "f67ede42",
   "metadata": {},
   "outputs": [],
   "source": []
  }
 ],
 "metadata": {
  "kernelspec": {
   "display_name": "Python [conda env:ubiquant_kaggle] *",
   "language": "python",
   "name": "conda-env-ubiquant_kaggle-py"
  },
  "language_info": {
   "codemirror_mode": {
    "name": "ipython",
    "version": 3
   },
   "file_extension": ".py",
   "mimetype": "text/x-python",
   "name": "python",
   "nbconvert_exporter": "python",
   "pygments_lexer": "ipython3",
   "version": "3.8.12"
  }
 },
 "nbformat": 4,
 "nbformat_minor": 5
}
