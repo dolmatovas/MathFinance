{
 "cells": [
  {
   "cell_type": "markdown",
   "id": "42538e64",
   "metadata": {},
   "source": [
    "Heston model:\n",
    "$$\n",
    "\\begin{cases}\n",
    "&\\dfrac{dS_t}{S_t} = r dt + \\sqrt{v} dW^1_t\\\\\n",
    "&d v_t = \\kappa(\\theta - v_t) dt + \\sigma \\sqrt{v} dW^2_t\\\\\n",
    "&S_t = s, v_t = v; dW^1dW^2 = \\rho dt\n",
    "\\end{cases}\n",
    "$$\n",
    "In this variables PDE for put option price read as follow:\n",
    "$$\n",
    "\\begin{cases}\n",
    "&V_t + s r V_s + \\kappa (\\theta - v) V_v + 0.5 s^2 v V_{ss} + 0.5 \\sigma^2 v V_{vv} + \\rho S \\sigma v V_{sv} = rV, s \\geq 0, v \\geq 0, 0 \\leq t \\leq T\\\\\n",
    "&V(T, s, v) = G(s, v) = (K-s)^+\\\\\n",
    "&V(t, 0, v) = K\\\\\n",
    "&V(t, \\infty, v) = 0\\\\\n",
    "&V_v(t, s, 0) = V_v(t, s, \\infty) = 0\n",
    "\\end{cases}\n",
    "$$\n",
    "Consider the following variable transformition:\n",
    "$$\n",
    "X_t = \\log S_t - \\log K, v_t = y_t \\sigma\n",
    "$$\n",
    "In new variables:\n",
    "$$\n",
    "\\begin{cases}\n",
    "&d X_t = (r - 0.5 y_t \\sigma) dt + \\sqrt{\\sigma y_t} dW^1_t \\\\\n",
    "&d y_t = \\kappa \\dfrac{\\theta - y_t \\sigma}{\\sigma} + \\sqrt{\\sigma y_t} dW^2_t\n",
    "\\end{cases}\n",
    "$$In this variables PDE reads as follow:\n",
    "$$\n",
    "V_t + (r-0.5 y\\sigma) V_x + \\kappa \\dfrac{\\theta - y \\sigma}{\\sigma} V_y + 0.5 \\sigma y (V_{xx} + V_{yy}) + \\rho \\sigma y_t V_{xy} = r V\n",
    "$$\n",
    "Consider change $t = T-t, H = e^{rt}V / K$, then we have:\n",
    "$$\n",
    "\\begin{cases}\n",
    "&H_t = (r-0.5 y\\sigma) H_x + \\kappa \\dfrac{\\theta - y \\sigma}{\\sigma} H_y + 0.5 \\sigma y (H_{xx} + H_{yy}) + \\rho \\sigma y_t H_{xy}\\\\\n",
    "&H(0, x, y) = (1-e^{x})^+\\\\\n",
    "&H(t, -\\infty, v) = 1\\\\\n",
    "&H(t, \\infty, v) = 0\\\\\n",
    "&H_y(t, x, 0) = H_y(t, x, \\infty) = 0\n",
    "\\end{cases}\n",
    "$$"
   ]
  },
  {
   "cell_type": "markdown",
   "id": "1f1a8457",
   "metadata": {},
   "source": [
    "Ограничим области до прямоугольника $x \\in [-X, X], y\\in [0, Y]$. Условия на бесконечности перенесём в конечную точку, при этом положим $H(t, -X, y) = 1-e^{-X}$, что вполне логично, так как если $x = -X$, то опцион глубоко в деньгах, и с вероятностью, близкой к единице он будет исполнен. Для удобства будем обозначать неизвестную функцию на текущем слое через $u$, а на следующем через $\\hat{u}$. Для индексации пространственных переменных $x, y$ будем использовать соответственно индексы $n, m$. По умолчанию подразумеваются индексы $n, m$. \n",
    "\n",
    "Введём сеточные функции $u_{n, m}(t) = u(t) = H(t, x_n, y_m)$. Аппроксимируем производные в правой части конечными разностями, получим выражение:\n",
    "$$\\begin{cases}\n",
    "&\\dfrac{du}{dt} = \\mu_x u_x + \\mu_y u_y + 0.5 \\sigma y (u_{xx} + u_{yy}) + \\rho \\sigma y u_{xy} = F(u)\\\\\n",
    "&u(0) = \\left( 1 - e^{x_n}\\right)^+\\\\\n",
    "&u_{0, m} = 1-e^{-X}, m=\\overline{0, M}\\\\\n",
    "&u_{N, m} = 0, m=\\overline{0, M}\\\\\n",
    "&u_{n, 0} = u_{n, 1}, n=\\overline{0, N}\\\\\n",
    "&u_{n, M-1} = u_{n, M}, n=\\overline{0, N}\n",
    "\\end{cases}\n",
    "$$Получили ОДУ. Построим явную схему, например, схему эйлера. На каждом шаге будем находить значения $u_{n, m}$ при $n\\in \\{1, N-1\\}, m\\in \\{1, M-1\\}$, затем будем восстанавливать граничные условия. Для схемы эйлера получим:\n",
    "$$\n",
    "\\hat{u} = u + \\tau * F(u)\n",
    "$$где $\\tau$ -- шаг по времени. Аналогично можно построить схему более высокого порядка, например схему Рунге-Кутты 4 порядка по времени. Главный недостаток явных схем является их условная устойчивость, они накладывают ограничения на шаг по времени $\\tau \\leq h^2$. Поэтому на практике они не применимы. Неявные схемы применять сложно, так как при переходе со слоя на слой приходится решать слау порядка $N_x N_y$.\n",
    "\n",
    "Запишем правую часть в виде:\n",
    "$$\n",
    "F(u) = \\Lambda_x u + \\Lambda_y y + \\Lambda_{xy}\n",
    "$$где в оператор $\\Lambda_x$ вошли производные по $x$, в $\\Lambda_y$ -- по $y$, а $\\Lambda_{xy}$ соответствует смешанной частной производной. Мы уже знаем, как решать задачу, когда $\\Lambda_{xy} = 0$, это стандартный метод переменных направлений (alternating direction method). Покажем, как адаптировать его для данной задачи. Точное решение можно записать через матричную экспоненту:\n",
    "$$\n",
    "\\hat{u} = \\exp\\left( \\tau(\\Lambda_{x} + \\Lambda_{y} + \\Lambda_{xy}) \\right) u \n",
    "\\approx \\exp(\\tau(\\Lambda_{x} + \\Lambda_{y}))  \\exp(\\tau \\Lambda_{xy}) u\n",
    "$$Это равенство верно лишь приближённо, так как операторы не коммутируют. Видно, что такая запись оператора перехода соответствует тому, что мы вначале делаем шаг для уравнения, у которого в правой части стоит только $\\Lambda_{xy}$, а затем делаем ещё один шаг, в котором в правой части смешанных производных нет. Для решения задачи с оператором $\\Lambda_{xy}$ мы будем использовать явную схему, так как тяжело построить экономичную неявную схему. Это соответствует тому, что экспонента аппроксиммируется следующим образом:\n",
    "$$\n",
    " \\exp(\\tau \\Lambda_{xy}) \\approx I + \\tau \\Lambda_{xy}\n",
    "$$\n",
    "Можно рассмотреть симметричный случай:\n",
    "$$\n",
    "\\exp\\left( \\tau(\\Lambda_{x} + \\Lambda_{y} + \\Lambda_{xy}) \\right) \n",
    "\\approx \\exp(0.5 \\tau \\Lambda_{xy})  \\exp(\\tau(\\Lambda_{x} + \\Lambda_{y}))  \\exp(0.5 \\tau \\Lambda_{xy}) u + O(\\tau^3)\n",
    "$$Нетрудно показать, что он даёт глобальную ошибку порядка $O(\\tau^2)$. \n",
    "\n",
    "Его мы и будем использовать. Таким образом, все вычисления, соответствующие смешанным производным, будут производиться по явным схемам. \n",
    "\n",
    "Запишем это всё так:\n",
    "\n",
    "$$\n",
    "\\begin{aligned}\n",
    "&y_1 = (I+ 0.5 \\tau \\Lambda_{xy}) u\\\\\n",
    "&(I - 0.5 \\tau \\Lambda_x) y_2 = (I + 0.5 \\tau \\Lambda_y) y_1\\\\\n",
    "&(I - 0.5 \\tau \\Lambda_y) y_3 = (I + 0.5 \\tau \\Lambda_x) y_2\\\\\n",
    "&\\hat{u} = (I + 0.5 \\tau \\Lambda_{xy}) y_3\n",
    "\\end{aligned}\n",
    "$$Матрицы $\\Lambda_x, \\Lambda_y$ трехдиагональны и не зависят от времени, так что для них можно один раз найти $LU$ разложение, а затем решать СЛАУ. Рассмотрим подробнее метод прогонки:\n",
    "\n",
    "$$\n",
    "\\Lambda_x = \\sigma_x \\dfrac{u_{n+1} - 2u_{n} + u_{n + 1}}{2 h_x^2} + \\mu_x \\dfrac{u_{n+1} - u_n}{2h_x}\n",
    "$$\n",
    "Таким образом, \n",
    "$$\\left[\\left(I - 0.5 \\tau \\Lambda_x\\right) z \\right]_n = \n",
    "    z_n     \\left(1 + \\dfrac{\\tau \\sigma_x}{2 h_x^2} \\right)\n",
    "  + z_{n-1} \\left( -\\dfrac{\\tau \\sigma_x }{4 h_x^2} + \\dfrac{\\tau \\mu_x}{4 h_x} \\right)\n",
    "  + z_{n+1} \\left( -\\dfrac{\\tau \\sigma_x }{4 h_x^2} - \\dfrac{\\tau \\mu_x}{4 h_x} \\right)\n",
    "$$То есть\n",
    "$$\n",
    "\\begin{aligned}\n",
    "&A^x_n = 1 + \\dfrac{\\tau \\sigma_x}{2 h_x^2} \\\\\n",
    "&B^x_n =  -\\dfrac{\\tau \\sigma_x }{4 h_x^2} - \\dfrac{\\tau \\mu_x}{4 h_x} \\\\\n",
    "&C^x_n =  -\\dfrac{\\tau \\sigma_x }{4 h_x^2} + \\dfrac{\\tau \\mu_x}{4 h_x}\n",
    "&\n",
    "\\end{aligned}\n",
    "$$коэффициенты трёхдиагональной системы, соответствующие направлению $x$. Так как по $x$ у нас условия Дирихле, их нужно дополнить граничными значениями \n",
    "$$\\begin{aligned}\n",
    "&A^x_0 = A^x_N = 1.0, \\\\\n",
    "&B^x_0 = C^x_{N} = 0.0, \\\\\n",
    "&F_0 = 1 - e^{-X}, F_N = 0.0\n",
    "\\end{aligned}\n",
    "$$Аналогично для направления $y$ имеем:\n",
    "$$\n",
    "\\begin{aligned}\n",
    "&A^y_n = 1 + \\dfrac{\\tau \\sigma_y}{2 h_y^2} \\\\\n",
    "&B^y_n =  -\\dfrac{\\tau \\sigma_y }{4 h_y^2} - \\dfrac{\\tau \\mu_y}{4 h_y} \\\\\n",
    "&C^y_n =  -\\dfrac{\\tau \\sigma_y }{4 h_y^2} + \\dfrac{\\tau \\mu_y}{4 h_y}\n",
    "\\end{aligned}\n",
    "$$И граничные условия:\n",
    "$$\\begin{aligned}\n",
    "&A^y_0 = A^y_N = 1.0, \\\\\n",
    "&B^y_0 = C^y_{N} = -1.0, \\\\\n",
    "&F_0 = F_N = 0.0\n",
    "\\end{aligned}\n",
    "$$\n",
    "\n",
    "На каждом шаге нам нужно будет лишь вызвать солвер прогонки с соответствующей правой частью и коэффициентами. Такой подход хорош тем, что он требует минимальных изменений при использовании неравномерной сетки: достаточно только поменять соответствующие коэффициенты $A, B, C$ и функцию вычисления правой части $F$."
   ]
  },
  {
   "cell_type": "markdown",
   "id": "67ab0957",
   "metadata": {},
   "source": [
    "Допустим, мы знаем функцию $F(S) = (1-\\dfrac{S}{K_0})^+$, т.е. выплату опциона для фиксированного страйка, как функцию от переменной $S$. Хотим узнать, какому страйку это соответствует, при $S = S_0$. Имеем:\n",
    "$$\n",
    "\\dfrac{S}{K_0} = \\dfrac{S_0}{K}\n",
    "$$откуда $K = K_0 \\dfrac{S_0}{S}$. Таким образом, если есть ряд цен\n",
    "$$\n",
    "F(S_1), F(S_2), \\ldots, F(S_n)\n",
    "$$опционов со страйком $K_0$, их можно интепретировать, как ряд цен с ценой $S_0$ и страйком \n",
    "$$\n",
    "K_i = K_0 \\dfrac{S_0}{S_i}\n",
    "$$"
   ]
  },
  {
   "cell_type": "code",
   "execution_count": 10,
   "id": "eef09b08",
   "metadata": {},
   "outputs": [],
   "source": [
    "from explicit_schemes import *\n",
    "from utils import *\n",
    "from SLAE_solvers import *\n",
    "from ADI import *\n",
    "\n",
    "from matplotlib import pyplot as plt"
   ]
  },
  {
   "cell_type": "code",
   "execution_count": 11,
   "id": "8d355521",
   "metadata": {},
   "outputs": [],
   "source": [
    "#model params\n",
    "r = 0.025\n",
    "sigma = 0.1\n",
    "kappa = 2.5\n",
    "theta =  0.015\n",
    "rho = -0.05\n",
    "\n",
    "#Option params:\n",
    "K = 1.0\n",
    "T = 0.5\n",
    "\n",
    "#initial price\n",
    "S0 = 1.0\n",
    "#initial vol\n",
    "v0 = 0.0175\n",
    "\n",
    "#Grid params:\n",
    "Nx = 10\n",
    "Ny = 10\n",
    "\n",
    "M = 100\n",
    "\n",
    "hestonParams = HestonParams(r, sigma, kappa, theta, rho)\n",
    "\n",
    "optionParams = OptionParams(K, T)\n",
    "\n",
    "gridParams   = GridParams(Nx, Ny, M, S0, v0)"
   ]
  },
  {
   "cell_type": "code",
   "execution_count": 16,
   "id": "c90358d7",
   "metadata": {},
   "outputs": [],
   "source": [
    "uAD = solve_alternating_direction(hestonParams, optionParams, gridParams)\n",
    "u = solve_runge_kutta(hestonParams, optionParams, gridParams)\n",
    "tn, xn, yn = GetGrid(hestonParams, optionParams, gridParams)"
   ]
  },
  {
   "cell_type": "code",
   "execution_count": 17,
   "id": "886fd7fa",
   "metadata": {},
   "outputs": [],
   "source": [
    "Sn = K * np.exp(xn)"
   ]
  },
  {
   "cell_type": "code",
   "execution_count": 18,
   "id": "a7ba7a28",
   "metadata": {},
   "outputs": [],
   "source": [
    "C = np.exp(-r * T) * K * u[-1, :, Ny // 4]\n",
    "CAD = np.exp(-r * T) * K * uAD[-1, :, Ny // 4]\n",
    "\n",
    "payoff = K * np.maximum(0.0, K - Sn)"
   ]
  },
  {
   "cell_type": "code",
   "execution_count": 19,
   "id": "5bad150e",
   "metadata": {},
   "outputs": [
    {
     "data": {
      "text/plain": [
       "0.03474899340168314"
      ]
     },
     "execution_count": 19,
     "metadata": {},
     "output_type": "execute_result"
    },
    {
     "data": {
      "image/png": "[encoded data removed]",
      "text/plain": [
       "<Figure size 432x288 with 1 Axes>"
      ]
     },
     "metadata": {
      "needs_background": "light"
     },
     "output_type": "display_data"
    }
   ],
   "source": [
    "#plt.scatter(Sn, C, label='runge')\n",
    "plt.scatter(Sn, CAD, label='ADI')\n",
    "plt.plot(Sn, payoff, label='payoff')\n",
    "plt.grid()\n",
    "plt.legend()\n",
    "\n",
    "np.linalg.norm(C - CAD) / np.linalg.norm(CAD) * 100"
   ]
  }
 ],
 "metadata": {
  "kernelspec": {
   "display_name": "Python [conda env:ubiquant_kaggle] *",
   "language": "python",
   "name": "conda-env-ubiquant_kaggle-py"
  },
  "language_info": {
   "codemirror_mode": {
    "name": "ipython",
    "version": 3
   },
   "file_extension": ".py",
   "mimetype": "text/x-python",
   "name": "python",
   "nbconvert_exporter": "python",
   "pygments_lexer": "ipython3",
   "version": "3.8.12"
  }
 },
 "nbformat": 4,
 "nbformat_minor": 5
}
