{
 "cells": [
  {
   "cell_type": "code",
   "execution_count": 1,
   "id": "948ef2de",
   "metadata": {},
   "outputs": [],
   "source": [
    "import numpy as np\n",
    "from matplotlib import pyplot as plt\n",
    "\n",
    "from scipy import stats as sps"
   ]
  },
  {
   "cell_type": "code",
   "execution_count": 2,
   "id": "0ea5a144",
   "metadata": {},
   "outputs": [],
   "source": [
    "def GetBrownianMotion(tn, Npaths):\n",
    "    n = len(tn)\n",
    "    \n",
    "    W = np.zeros((n, Npaths))\n",
    "    eps = np.random.randn(n-1, Npaths)\n",
    "    \n",
    "    W[1:, :] = np.cumsum(eps, axis=0) * np.sqrt(np.diff(tn).reshape(-1, 1))\n",
    "    return W\n",
    "\n",
    "\n",
    "def GetAlpha(tn, Npaths, alpha0, nu):\n",
    "    W = GetBrownianMotion(tn, Npaths)\n",
    "    return alpha0 * np.exp( -0.5 * nu**2 * tn.reshape(-1, 1) + nu * W)\n",
    "\n",
    "\n",
    "def genAntipath(Npaths):\n",
    "    eps = np.random.randn(Npaths // 2)\n",
    "    eps = np.r_[eps, -eps]\n",
    "    if Npaths % 2:\n",
    "        eps = np.r_[eps, np.random.randn(1)]\n",
    "    return eps"
   ]
  },
  {
   "cell_type": "code",
   "execution_count": 3,
   "id": "3cc10bd2",
   "metadata": {},
   "outputs": [],
   "source": [
    "def SimulateSABRBessel1(tn, Npaths, alpha0, nu, F0, beta, rho):\n",
    "    X = F0 ** (-beta + 1) * np.ones((Npaths, ))\n",
    "    \n",
    "    y = np.log(alpha0) * np.ones((Npaths, ))\n",
    "    \n",
    "    for t in range(1, len(tn)):\n",
    "        \n",
    "        dt = tn[t] - tn[t - 1]\n",
    "        \n",
    "        dZ = genAntipath(Npaths) * np.sqrt(dt)\n",
    "        dY = genAntipath(Npaths) * np.sqrt(dt)\n",
    "        dW = rho * dZ + np.sqrt(1 - rho ** 2) * dY\n",
    "     \n",
    "        b = -(X + (-beta + 1) * np.exp(y) * dW)\n",
    "        c = -np.exp(2 * y) * beta * (beta - 1) / 2 * dt\n",
    "        D = b ** 2 - 4 * c\n",
    "        D = np.maximum(D, 0.0)\n",
    "        X = 0.5 * (-b + np.sqrt(D))\n",
    "        X = np.maximum(X, 0.0)\n",
    "        \n",
    "        y += -0.5 * nu ** 2 * dt + nu * dZ\n",
    "        \n",
    "    F = (X) ** (1 / (-beta + 1))\n",
    "    return F"
   ]
  },
  {
   "cell_type": "code",
   "execution_count": 4,
   "id": "1259ed40",
   "metadata": {},
   "outputs": [],
   "source": [
    "def SimulateSABRLog(tn, Npaths, alpha0, nu, F0, beta, rho):\n",
    "    \n",
    "    X = (beta - 1) * np.log(F0) * np.ones((Npaths, ))\n",
    "    \n",
    "    y = np.log(alpha0) * np.ones((Npaths, ))\n",
    "    \n",
    "    for t in range(1, len(tn)):\n",
    "        \n",
    "        dt = tn[t] - tn[t - 1]\n",
    "        \n",
    "        dZ = genAntipath(Npaths) * np.sqrt(dt)\n",
    "        dY = genAntipath(Npaths) * np.sqrt(dt)\n",
    "        dW = rho * dZ + np.sqrt(1 - rho ** 2) * dY\n",
    "        \n",
    "        \n",
    "        \n",
    "        X += -0.5 * (beta - 1) * np.exp(2 * (X + y) ) * dt + (beta - 1) * np.exp(X + y) * dW \n",
    "        \n",
    "        y += -0.5 * nu ** 2 * dt + nu * dZ\n",
    "    F = np.exp(X / (beta - 1))\n",
    "    return F\n",
    "\n",
    "\n",
    "def SimulateSABREuler(tn, Npaths, alpha0, nu, F0, beta, rho):\n",
    "    F = F0 * np.ones((Npaths, ))\n",
    "    \n",
    "    y = np.log(alpha0) * np.ones((Npaths, ))\n",
    "    \n",
    "    for t in range(1, len(tn)):\n",
    "        \n",
    "        dt = tn[t] - tn[t - 1]\n",
    "        \n",
    "        dZ = genAntipath(Npaths) * np.sqrt(dt)\n",
    "        dY = genAntipath(Npaths) * np.sqrt(dt)\n",
    "        dW = rho * dZ + np.sqrt(1 - rho ** 2) * dY\n",
    "\n",
    "        F += dW * np.exp(y) * (F ** beta)\n",
    "        F = np.maximum(F, 0.0)\n",
    "        \n",
    "        y += -0.5 * (nu ** 2) * dt + nu * dZ\n",
    "    return F\n",
    "\n",
    "\n",
    "def SimulateSABREulerModified(tn, Npaths, alpha0, nu, F0, beta, rho):\n",
    "    F = F0 * np.ones((Npaths, ))\n",
    "    \n",
    "    y = np.log(alpha0) * np.ones((Npaths, ))\n",
    "    \n",
    "    for t in range(1, len(tn)):\n",
    "        \n",
    "        dt = tn[t] - tn[t - 1]\n",
    "        \n",
    "        dZ = genAntipath(Npaths) * np.sqrt(dt)\n",
    "        dY = genAntipath(Npaths) * np.sqrt(dt)\n",
    "        dW = rho * dZ + np.sqrt(1 - rho ** 2) * dY\n",
    "\n",
    "        F += dW * np.exp(y) * (F ** beta) + 0.5 * beta * np.exp(2 * y) * F ** (2 * beta - 1) * (dW ** 2 - dt)\n",
    "        y += -0.5 * (nu ** 2) * dt + nu * dZ\n",
    "        \n",
    "        F = np.maximum(F, 0.0)\n",
    "    return F"
   ]
  },
  {
   "cell_type": "code",
   "execution_count": 73,
   "id": "7a41aa0f",
   "metadata": {},
   "outputs": [],
   "source": [
    "def IntegralVarSampling(Npaths, alp0, nu, dt):\n",
    "    W = genAntipath(Npaths) * np.sqrt(dt)\n",
    "    alpha = alp0 * np.exp( nu * W - 0.5 * nu ** 2 * dt)\n",
    "    \n",
    "    m = (alp0 ** 2) * dt * ( 1 + nu * W + (1.0/3.0) * (nu ** 2) * (2 * W**2 - dt / 2) * \\\n",
    "                           (1.0/3.0) * (nu ** 3) * (W**3 - W * dt) + \\\n",
    "                           (1.0/5.0) * (nu ** 4) * ((2.0/3.0) * W ** 4 - (3.0/2.0) * W**2 * dt + 2 * dt ** 2) )\n",
    "    v = (1.0/3.0) * (alp0 ** 4) * (nu ** 2) * (dt ** 3)\n",
    "    \n",
    "    mu = np.log(m) - 0.5 * np.log(1 + v / m ** 2)\n",
    "    sig = np.sqrt(np.log(1 + v / m ** 2))\n",
    "    \n",
    "    U = genAntipath(Npaths)\n",
    "    A = np.exp(sig * U + mu)\n",
    "    \n",
    "    return alpha, A\n",
    "\n",
    "\n",
    "def DirectInversionScheme(tn, Npaths, alpha0, nu, F0, beta, rho):\n",
    "    \n",
    "    dt = tn[-1] - tn[0]\n",
    "    \n",
    "    alpha, A = IntegralVarSampling(Npaths, alpha0, nu, dt)\n",
    "    \n",
    "    v = (1 - rho ** 2) * A\n",
    "    \n",
    "    a = 1 / v * ( F0 ** (1 - beta) / (1 - beta) + rho / nu * (alpha - alpha0) ) ** 2\n",
    "    b = 2 - (1 - 2 * beta - rho ** 2 * (1 - beta)) / (1 - beta) / (1 - rho ** 2)\n",
    "    F = np.random.noncentral_chisquare(b, a, Npaths)\n",
    "    \n",
    "    k = 2 - b\n",
    "    lam = a\n",
    "    \n",
    "    m = k + lam\n",
    "    s = np.sqrt(2 * (k + 2 * lam))\n",
    "    \n",
    "    psi = s ** 2 / m ** 2\n",
    "    \n",
    "    e = np.sqrt( 2 / psi - 1 + np.sqrt(2/psi) * np.sqrt(2/psi - 1) )\n",
    "    \n",
    "    d = m / (1 + e ** 2)\n",
    "    \n",
    "    Z = genAntipath(Npaths)\n",
    "    Y = d * (e + Z) ** 2\n",
    "    F = ((1-beta) ** 2 * v * Y) ** (1 / (2 - 2 * beta))\n",
    "    return F"
   ]
  },
  {
   "cell_type": "code",
   "execution_count": 74,
   "id": "f8968af3",
   "metadata": {},
   "outputs": [],
   "source": [
    "Npaths = 10000\n",
    "Nt = 1000"
   ]
  },
  {
   "cell_type": "code",
   "execution_count": 85,
   "id": "67c79ae2",
   "metadata": {},
   "outputs": [],
   "source": [
    "F0 = 0.1\n",
    "\n",
    "beta = 0.85\n",
    "\n",
    "rho = 0.25\n",
    "\n",
    "r = 0.0\n",
    "\n",
    "T = 1.5\n",
    "\n",
    "nu = 0.15\n",
    "alpha0 = .7\n",
    "\n",
    "tn = T * np.linspace(0, 1, Nt + 1)"
   ]
  },
  {
   "cell_type": "code",
   "execution_count": 86,
   "id": "93f8223c",
   "metadata": {},
   "outputs": [],
   "source": [
    "F_bess_1 = SimulateSABRBessel1(tn, Npaths, alpha0, nu, F0, beta, rho)\n",
    "F_euler = SimulateSABREuler(tn, Npaths, alpha0, nu, F0, beta, rho)\n",
    "F_euler_mod = SimulateSABREulerModified(tn, Npaths, alpha0, nu, F0, beta, rho)\n",
    "F_direct = DirectInversionScheme(tn, Npaths, alpha0, nu, F0, beta, rho)"
   ]
  },
  {
   "cell_type": "code",
   "execution_count": 87,
   "id": "1ca47455",
   "metadata": {},
   "outputs": [
    {
     "name": "stdout",
     "output_type": "stream",
     "text": [
      "besel1,\t mean = 0.099682 \t max = 2.456512, \t q75 = 0.118161, \t p = 0.010000%\n",
      "euler,\t mean = 0.098312 \t max = 2.793317, \t q75 = 0.116639, \t p = 0.020000%\n",
      "eulerm,\t mean = 0.100110 \t max = 3.115730, \t q75 = 0.116059, \t p = 0.000000%\n",
      "direct,\t mean = 0.099042 \t max = 2.526991, \t q75 = 0.118554, \t p = 0.000000%\n"
     ]
    }
   ],
   "source": [
    "Fs = [F_bess_1, F_euler, F_euler_mod, F_direct]\n",
    "names = [\"besel1\", \"euler\", \"eulerm\", \"direct\"]\n",
    "\n",
    "for name, F in zip(names, Fs):\n",
    "    q75 = np.quantile(F, 0.75)\n",
    "    pzero = sum(F == 0.0) / Npaths * 100\n",
    "    print(f'{name},\\t mean = {np.mean(F):4f} \\t max = {np.max(F):4f}, \\t q75 = {q75:4f}, \\t p = {pzero:4f}%')\n",
    "    "
   ]
  },
  {
   "cell_type": "code",
   "execution_count": 88,
   "id": "689f3f97",
   "metadata": {},
   "outputs": [
    {
     "data": {
      "image/png": "[encoded data removed]",
      "text/plain": [
       "<Figure size 432x288 with 1 Axes>"
      ]
     },
     "metadata": {
      "needs_background": "light"
     },
     "output_type": "display_data"
    },
    {
     "data": {
      "image/png": "[encoded data removed]",
      "text/plain": [
       "<Figure size 432x288 with 1 Axes>"
      ]
     },
     "metadata": {
      "needs_background": "light"
     },
     "output_type": "display_data"
    },
    {
     "data": {
      "image/png": "[encoded data removed]",
      "text/plain": [
       "<Figure size 432x288 with 1 Axes>"
      ]
     },
     "metadata": {
      "needs_background": "light"
     },
     "output_type": "display_data"
    },
    {
     "data": {
      "image/png": "[encoded data removed]",
      "text/plain": [
       "<Figure size 432x288 with 1 Axes>"
      ]
     },
     "metadata": {
      "needs_background": "light"
     },
     "output_type": "display_data"
    }
   ],
   "source": [
    "for name, F in zip(names, Fs):\n",
    "    plt.figure()\n",
    "    q = np.quantile(F, 0.99)\n",
    "    plt.hist(F[F < q], bins=20)\n",
    "    plt.grid()\n",
    "    plt.title(name)\n",
    "None"
   ]
  }
 ],
 "metadata": {
  "kernelspec": {
   "display_name": "Python [conda env:ubiquant_kaggle] *",
   "language": "python",
   "name": "conda-env-ubiquant_kaggle-py"
  },
  "language_info": {
   "codemirror_mode": {
    "name": "ipython",
    "version": 3
   },
   "file_extension": ".py",
   "mimetype": "text/x-python",
   "name": "python",
   "nbconvert_exporter": "python",
   "pygments_lexer": "ipython3",
   "version": "3.8.12"
  }
 },
 "nbformat": 4,
 "nbformat_minor": 5
}
