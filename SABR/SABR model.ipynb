{
 "cells": [
  {
   "cell_type": "markdown",
   "id": "fee24465",
   "metadata": {},
   "source": [
    "SABR model, stochastic $\\alpha$, $\\beta$, $\\rho$:\n",
    "$$\n",
    "\\begin{aligned}\n",
    "    &dF_t = \\alpha_t F_t^{\\beta} dW_t^1 \\\\\n",
    "    &d\\alpha_t = \\nu \\alpha_t dW_t^2 \\\\\n",
    "    & dW_t^1 dW_t^2 = \\rho dt\n",
    "\\end{aligned}\n",
    "$$\n",
    "$\\alpha_t$ is geometrical brownian motion, so we have:\n",
    "$$\n",
    "\\alpha_t = \\alpha_0 \\exp( -0.5 \\nu^2 t + \\nu W_t^2 )\n",
    "$$\n",
    "It is natural to introduce new variable $y_t$ as:\n",
    "$$\n",
    "y_t = \\ln \\alpha_t.\n",
    "$$ For $y_t$ we have the following SDE:\n",
    "$$\n",
    "d y_t = -0.5 \\nu^2 dt + \\nu\n",
    "dW_t^2\n",
    "$$\n",
    "\n",
    "Let us consider the following change of variable for $F_t$:\n",
    "$$\n",
    "X_t = F_t^{-\\beta+1}\n",
    "$$Then:\n",
    "$$\n",
    "dX_t = (-\\beta + 1) F_t^{-\\beta} dF_t + 0.5 (-\\beta+1) (-\\beta) F_t^{-\\beta-1} (dF_t)^2 = \n",
    "    (-\\beta + 1)\\alpha_t dW_t^1 + \\alpha_t^2 \\dfrac{\\beta (\\beta - 1)}{2 X_t}dt\n",
    "$$\n",
    "\n",
    "Another intresting choise is:\n",
    "$$\n",
    "X_t = \\log \\left( {F_t} \\right) \n",
    "$$\n",
    "\n",
    "$$\n",
    "dX_t = \\dfrac{dF_t}{F_t} - \\dfrac{1}{2}\\dfrac{(dF_t)^2}{F_t^2} = \\alpha_t F_t^{\\beta - 1} dW_t^1 - \\dfrac{1}{2}\\alpha_t^2 F_t^{2(\\beta - 1)}dt = \n",
    "\\alpha_t \\exp(X_t (\\beta - 1)) dW_t^1 - \\dfrac{1}{2}\\alpha_t^2 \\exp(2 X_t (\\beta - 1))dt\n",
    "$$\n",
    "\n",
    "Consider $X_t \\to (\\beta - 1) X_t$:\n",
    "$$\n",
    "dX_t = (\\beta-1) \\alpha_t \\exp(X_t) dW_t^1 - \\dfrac{(\\beta-1)\\alpha_t^2}{2} \\exp(2 X_t)dt\n",
    "= (\\beta-1)\\exp(y_t + X_t) dW_t^1 - \\dfrac{(\\beta-1)}{2} \\exp(2 (X_t+y_t))dt\n",
    "$$"
   ]
  },
  {
   "cell_type": "markdown",
   "id": "5047e186",
   "metadata": {},
   "source": [
    "So, for the price $V(x, y, t)$ of an option with payoff function $g(F_T)$, in the first case $x=F^{-\\beta+1}$ we have following PDE:\n",
    "$$\n",
    "    V_t + e^{2 y} \\dfrac{\\beta (\\beta - 1)}{2 x} V_x - \\dfrac{\\nu^2}{2} V_y + \\dfrac{(-\\beta + 1)^2}{2}e^{2y} V_{xx}\n",
    "    + \\dfrac{\\nu^2}{2} V_{yy} + \\nu \\rho (-\\beta + 1) e^{2y} V_{xy} = rV\n",
    "$$\n",
    "\n",
    "$$\n",
    "\\begin{aligned}\n",
    "    &\\mu_x = e^{2 y} \\dfrac{\\beta (\\beta - 1)}{2 x}\\\\\n",
    "    &\\mu_y =  - \\dfrac{\\nu^2}{2}\\\\\n",
    "    &\\sigma_x = \\dfrac{(-\\beta + 1)^2}{2}e^{2y} \\\\\n",
    "    &\\sigma_y =  \\dfrac{\\nu^2}{2} V_{yy}\\\n",
    "    &\\sigma_{xy} = \\nu \\rho (-\\beta + 1) e^{2y}\n",
    "\\end{aligned}\n",
    "$$\n",
    "In the second case $x = (\\beta-1) F$:\n",
    "\n",
    "$$\n",
    "    V_t - \\dfrac{(\\beta-1) e^{2(x+y)}}{2}V_x - \\dfrac{\\nu^2}{2} V_y + \\dfrac{(\\beta - 1)^2}{2}e^{2y+2x} V_{xx}\n",
    "    + \\dfrac{\\nu^2}{2} V_{yy} + \\nu \\rho (-\\beta + 1) e^{2(x+y)} V_{xy} = rV\n",
    "$$"
   ]
  },
  {
   "cell_type": "code",
   "execution_count": 1,
   "id": "37ab663a",
   "metadata": {},
   "outputs": [],
   "source": [
    "import sys\n",
    "sys.path.append('../heston')"
   ]
  },
  {
   "cell_type": "code",
   "execution_count": 2,
   "id": "6916c894",
   "metadata": {},
   "outputs": [],
   "source": [
    "from montecarlo import *\n",
    "from heston import *\n",
    "from solver import *"
   ]
  },
  {
   "cell_type": "code",
   "execution_count": 3,
   "id": "b2904bf7",
   "metadata": {},
   "outputs": [],
   "source": [
    "import numpy as np\n",
    "from matplotlib import pyplot as plt\n",
    "\n",
    "from scipy import stats as sps"
   ]
  },
  {
   "cell_type": "code",
   "execution_count": 4,
   "id": "322b3bcd",
   "metadata": {},
   "outputs": [],
   "source": [
    "from numba import njit"
   ]
  },
  {
   "cell_type": "code",
   "execution_count": 5,
   "id": "2a4f5a4c",
   "metadata": {},
   "outputs": [],
   "source": [
    "def GetBrownianMotion(tn, Npaths):\n",
    "    n = len(tn)\n",
    "    \n",
    "    W = np.zeros((n, Npaths))\n",
    "    eps = np.random.randn(n-1, Npaths)\n",
    "    \n",
    "    W[1:, :] = np.cumsum(eps, axis=0) * np.sqrt(np.diff(tn).reshape(-1, 1))\n",
    "    return W\n",
    "\n",
    "\n",
    "def GetAlpha(tn, Npaths, alpha0, nu):\n",
    "    W = GetBrownianMotion(tn, Npaths)\n",
    "    return alpha0 * np.exp( -0.5 * nu**2 * tn.reshape(-1, 1) + nu * W)\n",
    "\n",
    "\n",
    "def genAntipath(Npaths):\n",
    "    eps = np.random.randn(Npaths // 2)\n",
    "    return np.r_[eps, -eps]\n",
    "\n",
    "def SimulateSABR(tn, Npaths, alpha0, nu, F0, beta, rho):\n",
    "    X = F0 ** (-beta + 1) * np.ones((Npaths, ))\n",
    "    \n",
    "    y = np.log(alpha0) * np.ones((Npaths, ))\n",
    "    \n",
    "    for t in range(1, len(tn)):\n",
    "        \n",
    "        dt = tn[t] - tn[t - 1]\n",
    "        \n",
    "        dZ = genAntipath(Npaths) * np.sqrt(dt)\n",
    "        dY = genAntipath(Npaths) * np.sqrt(dt)\n",
    "        dW = rho * dZ + np.sqrt(1 - rho ** 2) * dY\n",
    "     \n",
    "        b = -(X + (-beta + 1) * np.exp(y) * dW)\n",
    "        c = -np.exp(2 * y) * beta * (beta - 1) / 2 * dt\n",
    "        D = b ** 2 - 4 * c\n",
    "        D = np.maximum(D, 0.0)\n",
    "        X = 0.5 * (-b + np.sqrt(D))\n",
    "        X = np.maximum(X, 0.0)\n",
    "        \n",
    "        y += -0.5 * nu ** 2 * dt + nu * dZ\n",
    "        \n",
    "    F = (X + 1e-10) ** (1 / (-beta + 1))\n",
    "    return F"
   ]
  },
  {
   "cell_type": "code",
   "execution_count": 6,
   "id": "3da4456c",
   "metadata": {},
   "outputs": [],
   "source": [
    "def SimulateSABRLog(tn, Npaths, alpha0, nu, F0, beta, rho):\n",
    "    \n",
    "    X = (beta - 1) * np.log(F0) * np.ones((Npaths, ))\n",
    "    \n",
    "    y = np.log(alpha0) * np.ones((Npaths, ))\n",
    "    \n",
    "    for t in range(1, len(tn)):\n",
    "        \n",
    "        dt = tn[t] - tn[t - 1]\n",
    "        \n",
    "        dZ = genAntipath(Npaths) * np.sqrt(dt)\n",
    "        dY = genAntipath(Npaths) * np.sqrt(dt)\n",
    "        dW = rho * dZ + np.sqrt(1 - rho ** 2) * dY\n",
    "        \n",
    "        \n",
    "        \n",
    "        X += -0.5 * (beta - 1) * np.exp(2 * (X + y) ) * dt + (beta - 1) * np.exp(X + y) * dW \n",
    "        \n",
    "        y += -0.5 * nu ** 2 * dt + nu * dZ\n",
    "    F = np.exp(X / (beta - 1))\n",
    "    return F\n",
    "\n",
    "\n",
    "def SimulateSABREuler(tn, Npaths, alpha0, nu, F0, beta, rho):\n",
    "    F = F0 * np.ones((Npaths, ))\n",
    "    \n",
    "    y = np.log(alpha0) * np.ones((Npaths, ))\n",
    "    \n",
    "    for t in range(1, len(tn)):\n",
    "        \n",
    "        dt = tn[t] - tn[t - 1]\n",
    "        \n",
    "        dZ = genAntipath(Npaths) * np.sqrt(dt)\n",
    "        dY = genAntipath(Npaths) * np.sqrt(dt)\n",
    "        dW = rho * dZ + np.sqrt(1 - rho ** 2) * dY\n",
    "\n",
    "        F += dW * np.exp(y) * (F ** beta)\n",
    "        F = np.maximum(F, 0.0)\n",
    "        \n",
    "        y += -0.5 * (nu ** 2) * dt + nu * dZ\n",
    "    return F\n",
    "\n",
    "\n",
    "def SimulateSABREulerModified(tn, Npaths, alpha0, nu, F0, beta, rho):\n",
    "    F = F0 * np.ones((Npaths, ))\n",
    "    \n",
    "    y = np.log(alpha0) * np.ones((Npaths, ))\n",
    "    \n",
    "    for t in range(1, len(tn)):\n",
    "        \n",
    "        dt = tn[t] - tn[t - 1]\n",
    "        \n",
    "        dZ = genAntipath(Npaths) * np.sqrt(dt)\n",
    "        dY = genAntipath(Npaths) * np.sqrt(dt)\n",
    "        dW = rho * dZ + np.sqrt(1 - rho ** 2) * dY\n",
    "\n",
    "        F += dW * np.exp(y) * (F ** beta) + 0.5 * beta * np.exp(2 * y) * F ** (2 * beta - 1) * (dW **2 - dt)\n",
    "        y += -0.5 * (nu ** 2) * dt + nu * dZ\n",
    "        \n",
    "        F = np.maximum(F, 0.0)\n",
    "    return F"
   ]
  },
  {
   "cell_type": "code",
   "execution_count": 7,
   "id": "89d72973",
   "metadata": {},
   "outputs": [],
   "source": [
    "def IntegralVarSampling(Npaths, alp0, nu, dt):\n",
    "    W = genAntipath(Npaths) * np.sqrt(dt)\n",
    "    alpha = alp0 * np.exp( nu * W - 0.5 * nu ** 2 * dt)\n",
    "    \n",
    "    m = (alp0 ** 2) * dt * ( 1 + nu * W + (1.0/3.0) * (nu ** 2) * (2 * W**2 - dt / 2) * \\\n",
    "                           (1.0/3.0) * (nu ** 3) * (W**3 - W * dt) + \\\n",
    "                           (1.0/5.0) * (nu ** 4) * ((2.0/3.0) * W ** 4 - (3.0/2.0) * W**2 * dt + 2 * dt ** 2) )\n",
    "    v = (1.0/3.0) * (alp0 ** 4) * (nu ** 2) * (dt ** 3)\n",
    "    \n",
    "    mu = np.log(m) - 0.5 * np.log(1 + v / m ** 2)\n",
    "    sig = np.sqrt(np.log(1 + v / m ** 2))\n",
    "    \n",
    "    U = genAntipath(Npaths)\n",
    "    A = np.exp(sig * U + mu)\n",
    "    \n",
    "    return alpha, A\n",
    "\n",
    "\n",
    "def DirectInversionScheme(tn, Npaths, alpha0, nu, F0, beta, rho):\n",
    "    \n",
    "    dt = tn[-1] - tn[0]\n",
    "    \n",
    "    alpha, A = IntegralVarSampling(Npaths, alpha0, nu, dt)\n",
    "    \n",
    "    v = (1 - rho ** 2) * A\n",
    "    \n",
    "    a = 1 / v * ( F0 ** (1 - beta) / (1 - beta) + rho / nu * (alpha - alpha0) ) ** 2\n",
    "    b = 2 - (1 - 2 * beta - rho ** 2 * (1 - beta)) / (1 - beta) / (1 - rho ** 2)\n",
    "    F = np.random.noncentral_chisquare(b, a, Npaths)\n",
    "    \n",
    "    k = 2 - b\n",
    "    lam = a\n",
    "    \n",
    "    m = k + lam\n",
    "    s = np.sqrt(2 * (k + 2 * lam))\n",
    "    \n",
    "    psi = s ** 2 / m ** 2\n",
    "    \n",
    "    e = np.sqrt( 2 / psi - 1 + np.sqrt(2/psi) * np.sqrt(2/psi - 1) )\n",
    "    \n",
    "    d = m / (1 + e ** 2)\n",
    "    \n",
    "    Z = np.random.randn(Npaths)\n",
    "    Y = d * (e + Z) ** 2\n",
    "    F = ((1-beta) ** 2 * v * Y) ** (1 / (2 - 2 * beta))\n",
    "    return F"
   ]
  },
  {
   "cell_type": "code",
   "execution_count": 8,
   "id": "4e172ed9",
   "metadata": {},
   "outputs": [],
   "source": [
    "def BC(K, F, r, tau, vol):\n",
    "    d1 = (np.log(F / K) + 0.5 * vol ** 2 * tau) \\\n",
    "                / (vol * np.sqrt(tau))\n",
    "    d2 = d1 - vol * np.sqrt(tau)\n",
    "    \n",
    "    D = np.exp(-r * tau)\n",
    "    call_price =  D *  ( F * sps.norm.cdf(d1) - K * sps.norm.cdf(d2) )\n",
    "    return call_price"
   ]
  },
  {
   "cell_type": "code",
   "execution_count": 9,
   "id": "174dba22",
   "metadata": {},
   "outputs": [],
   "source": [
    "def SabrApprox(K, F, r, tau, alpha, beta, rho, nu):\n",
    "    \n",
    "    #this function has problems if F = K.\n",
    "    #need to think, how to fix this\n",
    "   \n",
    "    Fmid = np.sqrt( F * K )\n",
    "    C = lambda _x : _x ** beta\n",
    "    \n",
    "    dzeta = nu / (alpha * (1-beta)) * ( F ** (1-beta) - K ** (1-beta) )\n",
    "    \n",
    "    gamma1 = beta / Fmid\n",
    "    gamma2 = -beta * (1 - beta) / Fmid**2\n",
    "    D = np.log( (  np.sqrt(1 - 2 * rho * dzeta + dzeta ** 2) + dzeta - rho  ) / (1-rho) )\n",
    "    eps = tau * nu ** 2\n",
    "    \n",
    "    frc1 = (2 * gamma2 - gamma1**2+1/Fmid**2) / 24 * (alpha / nu * C(Fmid)) ** 2\n",
    "    \n",
    "    frc2 = rho * gamma1 / (4 * nu) * alpha * C(Fmid)\n",
    "    \n",
    "    frc3 = (2-3*rho**2)/24 \n",
    "    \n",
    "    vol = nu * np.log(F / K) / D * (1 + eps * (frc1 + frc2 + frc3) )\n",
    "    \n",
    "    call_price =  BC(K, F, r, tau, vol)\n",
    "    return call_price, vol"
   ]
  },
  {
   "cell_type": "code",
   "execution_count": 10,
   "id": "bb01db68",
   "metadata": {},
   "outputs": [],
   "source": [
    "from scipy.optimize import root_scalar"
   ]
  },
  {
   "cell_type": "code",
   "execution_count": 31,
   "id": "6326ae2b",
   "metadata": {},
   "outputs": [],
   "source": [
    "def get_iv(call_prices, Ks, F, r, tau):\n",
    "    \n",
    "    res = []\n",
    "    for call_price, K in zip(call_prices, Ks):\n",
    "        def foo(vol):\n",
    "            call_price_ = BC(K, F, r, tau, vol)\n",
    "            return call_price_ - call_price\n",
    " \n",
    "        v0 = 1e-15\n",
    "        v1 = 100\n",
    "        \n",
    "        br = foo(v0) <= 0 and foo(v1) >= 0\n",
    "        vol = np.nan\n",
    "        if not br:\n",
    "            if foo(v0) > 1e-10:\n",
    "                vol = 0.0\n",
    "            elif foo(v1) < 1e-10:\n",
    "                vol = np.nan\n",
    "        else:\n",
    "            vol = root_scalar(foo, bracket=[v0, v1], method='bisect').root\n",
    "        res.append( vol )\n",
    "    return np.asarray(res)"
   ]
  },
  {
   "cell_type": "code",
   "execution_count": 136,
   "id": "7acf4d86",
   "metadata": {},
   "outputs": [],
   "source": [
    "Npaths = 100000\n",
    "Nt = 1000"
   ]
  },
  {
   "cell_type": "code",
   "execution_count": 224,
   "id": "9be1940c",
   "metadata": {},
   "outputs": [],
   "source": [
    "F0 = 0.1\n",
    "\n",
    "beta = 0.7\n",
    "\n",
    "rho = 0.25\n",
    "\n",
    "r = 0.0\n",
    "\n",
    "T = 5.5\n",
    "\n",
    "nu = 0.15\n",
    "alpha0 = 0.3\n",
    "\n",
    "tn = T * np.linspace(0, 1, Nt)"
   ]
  },
  {
   "cell_type": "code",
   "execution_count": 225,
   "id": "9345132c",
   "metadata": {},
   "outputs": [],
   "source": [
    "F = SimulateSABR(tn, Npaths, alpha0, nu, F0, beta, rho)"
   ]
  },
  {
   "cell_type": "code",
   "execution_count": 226,
   "id": "b6470b5d",
   "metadata": {},
   "outputs": [],
   "source": [
    "K = np.linspace(0.1 * F0, 5.0 * F0, 101)"
   ]
  },
  {
   "cell_type": "code",
   "execution_count": 227,
   "id": "c3500b66",
   "metadata": {},
   "outputs": [],
   "source": [
    "payoff = np.maximum(F.reshape(-1, 1) - K.reshape(1, -1), 0.0)"
   ]
  },
  {
   "cell_type": "code",
   "execution_count": 228,
   "id": "9af1eb6b",
   "metadata": {},
   "outputs": [],
   "source": [
    "C = np.mean(payoff, axis=0)"
   ]
  },
  {
   "cell_type": "code",
   "execution_count": 229,
   "id": "3ff4ef1c",
   "metadata": {},
   "outputs": [],
   "source": [
    "C1, vol = SabrApprox(K, F0, r, tn[-1], alpha0, beta, rho, nu)"
   ]
  },
  {
   "cell_type": "code",
   "execution_count": 230,
   "id": "9c286f04",
   "metadata": {},
   "outputs": [
    {
     "data": {
      "image/png": "[encoded data removed]",
      "text/plain": [
       "<Figure size 720x360 with 1 Axes>"
      ]
     },
     "metadata": {
      "needs_background": "light"
     },
     "output_type": "display_data"
    }
   ],
   "source": [
    "plt.figure(figsize=(10, 5))\n",
    "plt.plot(K, F0 * np.ones((len(K), 1)), label='F0')\n",
    "plt.plot(K, np.maximum(F0 - K, 0.0), label='payoff')\n",
    "plt.plot(K, C, label='monte negro')\n",
    "plt.plot(K, C1, label='petr')\n",
    "plt.legend(fontsize=15)\n",
    "plt.grid()"
   ]
  },
  {
   "cell_type": "code",
   "execution_count": 231,
   "id": "3402de75",
   "metadata": {},
   "outputs": [],
   "source": [
    "iv = get_iv(C, K, F0, r, T)\n",
    "iv_1 = get_iv(C1, K, F0, r, T)"
   ]
  },
  {
   "cell_type": "code",
   "execution_count": 232,
   "id": "565778b6",
   "metadata": {},
   "outputs": [
    {
     "data": {
      "image/png": "[encoded data removed]",
      "text/plain": [
       "<Figure size 720x360 with 1 Axes>"
      ]
     },
     "metadata": {
      "needs_background": "light"
     },
     "output_type": "display_data"
    }
   ],
   "source": [
    "plt.figure(figsize=(10, 5))\n",
    "plt.plot(K, vol, label='real vol')\n",
    "plt.plot(K, iv, label='MC')\n",
    "plt.plot(K, np.clip(iv_1, 0, 1), 'o', label='Petr')\n",
    "plt.legend(fontsize=15)\n",
    "plt.grid()"
   ]
  },
  {
   "cell_type": "code",
   "execution_count": 233,
   "id": "51911f4c",
   "metadata": {},
   "outputs": [
    {
     "data": {
      "image/png": "[encoded data removed]",
      "text/plain": [
       "<Figure size 432x288 with 1 Axes>"
      ]
     },
     "metadata": {
      "needs_background": "light"
     },
     "output_type": "display_data"
    }
   ],
   "source": [
    "plt.plot(K, np.abs(C - C1) / np.max(np.abs(C)) * 100)\n",
    "plt.grid()"
   ]
  },
  {
   "cell_type": "code",
   "execution_count": 202,
   "id": "f87a9676",
   "metadata": {},
   "outputs": [],
   "source": [
    "K = F0"
   ]
  },
  {
   "cell_type": "code",
   "execution_count": 203,
   "id": "a0614d01",
   "metadata": {},
   "outputs": [],
   "source": [
    "Fmax = 5 * F0\n",
    "Fmin = 0.05 * F0"
   ]
  },
  {
   "cell_type": "code",
   "execution_count": 204,
   "id": "1caecaec",
   "metadata": {},
   "outputs": [],
   "source": [
    "def gridX(Nx):\n",
    "    \n",
    "    Fn = np.linspace(Fmin, Fmax, Nx + 1)\n",
    "    xn = np.sort(Fn ** (-beta + 1))\n",
    "    hx = np.diff(xn)\n",
    "    return xn, hx\n",
    "\n",
    "def gridY(Ny):\n",
    "    yn = np.linspace(-2, 2, Ny + 1) + np.log(alpha0)\n",
    "    hy = np.diff(yn)\n",
    "    return yn, hy\n",
    "\n",
    "def gridT(Nt):\n",
    "    return T * np.linspace(0, 1.0, Nt + 1)"
   ]
  },
  {
   "cell_type": "code",
   "execution_count": 205,
   "id": "539bc929",
   "metadata": {},
   "outputs": [],
   "source": [
    "Nx = 151\n",
    "Ny = 20\n",
    "Nt = 10"
   ]
  },
  {
   "cell_type": "code",
   "execution_count": 206,
   "id": "82fd3924",
   "metadata": {},
   "outputs": [],
   "source": [
    "Xleft = Neuman(lambda x: 0.0)\n",
    "\n",
    "Xright = Dirichle(lambda x: Fmax - K)\n",
    "\n",
    "Yleft = Neuman(lambda x: 0.0)\n",
    "\n",
    "Yright = Neuman(lambda x: 0.0)\n",
    "\n",
    "boundary = Boundary2D(Xleft, Xright, Yleft, Yright)\n",
    "\n",
    "init = lambda x, y: np.maximum(0, x ** (1 / (1 - beta)) - K)\n",
    "\n",
    "\n",
    "mux = lambda x, y: np.exp(2 * y) * beta * (beta - 1) / (2 * x)\n",
    "muy = lambda x, y: - nu**2 / 2\n",
    "\n",
    "sigmax = lambda x, y: 0.5 * (beta-1) ** 2 * np.exp(2 * y)\n",
    "sigmay = lambda x, y: 0.5 * nu ** 2\n",
    "sigmaxy = lambda x, y: nu * rho * (-beta + 1) * np.exp(2 * y)\n",
    "\n",
    "problem = Problem(boundary, init, mux, muy, sigmax, sigmay, sigmaxy)\n",
    "\n",
    "der = DerCntrl()"
   ]
  },
  {
   "cell_type": "code",
   "execution_count": 207,
   "id": "b9a22f43",
   "metadata": {},
   "outputs": [],
   "source": [
    "xn, _ = gridX(Nx)\n",
    "\n",
    "Fn = xn ** (1 / (1 - beta))"
   ]
  },
  {
   "cell_type": "code",
   "execution_count": 208,
   "id": "e44980d3",
   "metadata": {},
   "outputs": [],
   "source": [
    "solverHV = ADI_CS(problem, der, gridX, gridY, gridT)"
   ]
  },
  {
   "cell_type": "code",
   "execution_count": 209,
   "id": "bed18b25",
   "metadata": {},
   "outputs": [],
   "source": [
    "uHV = solverHV.solve(Nx, Ny, Nt)"
   ]
  },
  {
   "cell_type": "code",
   "execution_count": 210,
   "id": "719ad537",
   "metadata": {},
   "outputs": [],
   "source": [
    "C_finite = uHV[-1, :-Nx // 4, Ny // 2 ]"
   ]
  },
  {
   "cell_type": "code",
   "execution_count": 211,
   "id": "a36cc68d",
   "metadata": {},
   "outputs": [],
   "source": [
    "Fn = Fn[:-Nx // 4]"
   ]
  },
  {
   "cell_type": "code",
   "execution_count": 212,
   "id": "ae6336ca",
   "metadata": {},
   "outputs": [],
   "source": [
    "C1, vol = SabrApprox(K, Fn, r, tn[-1], alpha0, beta, rho, nu)"
   ]
  },
  {
   "cell_type": "code",
   "execution_count": 213,
   "id": "30243152",
   "metadata": {},
   "outputs": [],
   "source": [
    "Npaths = 5000"
   ]
  },
  {
   "cell_type": "code",
   "execution_count": 214,
   "id": "92609197",
   "metadata": {},
   "outputs": [
    {
     "data": {
      "text/plain": [
       "0.3"
      ]
     },
     "execution_count": 214,
     "metadata": {},
     "output_type": "execute_result"
    }
   ],
   "source": [
    "alpha0"
   ]
  },
  {
   "cell_type": "code",
   "execution_count": 215,
   "id": "5eccbd96",
   "metadata": {},
   "outputs": [],
   "source": [
    "yn, _ = gridY(Ny)"
   ]
  },
  {
   "cell_type": "code",
   "execution_count": 216,
   "id": "d7f3aa66",
   "metadata": {},
   "outputs": [
    {
     "data": {
      "text/plain": [
       "0.3"
      ]
     },
     "execution_count": 216,
     "metadata": {},
     "output_type": "execute_result"
    }
   ],
   "source": [
    "np.exp(yn[Ny // 2])"
   ]
  },
  {
   "cell_type": "code",
   "execution_count": 217,
   "id": "40afb654",
   "metadata": {},
   "outputs": [],
   "source": [
    "Cmonte = []\n",
    "for f in Fn:\n",
    "    F = SimulateSABR(tn, Npaths, alpha0, nu, f, beta, rho)\n",
    "    Cmonte.append( np.mean( np.maximum(F - K, 0) ) )\n",
    "Cmonte = np.asarray(Cmonte)"
   ]
  },
  {
   "cell_type": "code",
   "execution_count": 218,
   "id": "e9ee7c21",
   "metadata": {},
   "outputs": [
    {
     "data": {
      "image/png": "[encoded data removed]",
      "text/plain": [
       "<Figure size 720x360 with 1 Axes>"
      ]
     },
     "metadata": {
      "needs_background": "light"
     },
     "output_type": "display_data"
    }
   ],
   "source": [
    "plt.figure(figsize=(10, 5))\n",
    "plt.plot(Fn, Cmonte, label= \"monte\")\n",
    "plt.plot(Fn, C_finite,  label=\"finite div\")\n",
    "plt.plot(Fn, C1, label=\"petr\")\n",
    "plt.legend(fontsize=15)\n",
    "plt.grid()"
   ]
  },
  {
   "cell_type": "code",
   "execution_count": 219,
   "id": "650d4388",
   "metadata": {},
   "outputs": [
    {
     "data": {
      "text/plain": [
       "0.6704272450362325"
      ]
     },
     "execution_count": 219,
     "metadata": {},
     "output_type": "execute_result"
    }
   ],
   "source": [
    "np.linalg.norm(Cmonte - C_finite) / np.linalg.norm(Cmonte) * 100"
   ]
  },
  {
   "cell_type": "code",
   "execution_count": 220,
   "id": "253266fb",
   "metadata": {},
   "outputs": [
    {
     "data": {
      "text/plain": [
       "0.24891161334192013"
      ]
     },
     "execution_count": 220,
     "metadata": {},
     "output_type": "execute_result"
    }
   ],
   "source": [
    "np.linalg.norm(C1 - C_finite) / np.linalg.norm(C1) * 100"
   ]
  },
  {
   "cell_type": "code",
   "execution_count": null,
   "id": "a0c24c43",
   "metadata": {},
   "outputs": [],
   "source": []
  },
  {
   "cell_type": "code",
   "execution_count": 221,
   "id": "af0ad65d",
   "metadata": {},
   "outputs": [],
   "source": [
    "def monteGAqweqwd(rho):\n",
    "    Cmonte = []\n",
    "    for f in Fn:\n",
    "        F = SimulateSABREuler(tn, Npaths, alpha0, nu, f, beta, rho)\n",
    "        Cmonte.append( np.mean( np.maximum(F - K, 0) ) )\n",
    "    return np.asarray(Cmonte)"
   ]
  },
  {
   "cell_type": "code",
   "execution_count": 222,
   "id": "7ed80b96",
   "metadata": {},
   "outputs": [
    {
     "data": {
      "image/png": "[encoded data removed]",
      "text/plain": [
       "<Figure size 720x360 with 1 Axes>"
      ]
     },
     "metadata": {
      "needs_background": "light"
     },
     "output_type": "display_data"
    }
   ],
   "source": [
    "plt.figure(figsize=(10, 5))\n",
    "for rho in [-0.9, 0.0, 0.9]:\n",
    "    C1, vol = SabrApprox(K, Fn, r, tn[-1], alpha0, beta, rho, nu)\n",
    "    plt.plot(Fn, C1, label=f'rho={rho}')\n",
    "plt.grid()\n",
    "plt.legend(fontsize=14)\n",
    "None"
   ]
  },
  {
   "cell_type": "code",
   "execution_count": 223,
   "id": "00e667fe",
   "metadata": {},
   "outputs": [
    {
     "data": {
      "image/png": "[encoded data removed]",
      "text/plain": [
       "<Figure size 720x360 with 1 Axes>"
      ]
     },
     "metadata": {
      "needs_background": "light"
     },
     "output_type": "display_data"
    }
   ],
   "source": [
    "plt.figure(figsize=(10, 5))\n",
    "for rho in [-0.9, 0.0, 0.9]:\n",
    "    C1 = monteGAqweqwd(rho)\n",
    "    plt.plot(Fn, C1, label=f'rho={rho}')\n",
    "plt.grid()\n",
    "plt.legend(fontsize=14)\n",
    "None"
   ]
  },
  {
   "cell_type": "code",
   "execution_count": null,
   "id": "b57245c2",
   "metadata": {},
   "outputs": [],
   "source": []
  },
  {
   "cell_type": "code",
   "execution_count": null,
   "id": "817df459",
   "metadata": {},
   "outputs": [],
   "source": []
  }
 ],
 "metadata": {
  "kernelspec": {
   "display_name": "ubiquant_kaggle",
   "language": "python",
   "name": "ubiquant_kaggle"
  },
  "language_info": {
   "codemirror_mode": {
    "name": "ipython",
    "version": 3
   },
   "file_extension": ".py",
   "mimetype": "text/x-python",
   "name": "python",
   "nbconvert_exporter": "python",
   "pygments_lexer": "ipython3",
   "version": "3.8.12"
  }
 },
 "nbformat": 4,
 "nbformat_minor": 5
}
