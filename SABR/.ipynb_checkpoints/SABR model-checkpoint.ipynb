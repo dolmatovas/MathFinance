{
 "cells": [
  {
   "cell_type": "markdown",
   "id": "fee24465",
   "metadata": {},
   "source": [
    "SABR model, stochastic $\\alpha$, $\\beta$, $\\rho$:\n",
    "$$\n",
    "\\begin{aligned}\n",
    "    &dF_t = \\alpha_t F_t^{\\beta} dW_t^1 \\\\\n",
    "    &d\\alpha_t = \\nu \\alpha_t dW_t^2 \\\\\n",
    "    & dW_t^1 dW_t^2 = \\rho dt\n",
    "\\end{aligned}\n",
    "$$\n",
    "$\\alpha_t$ is geometrical brownian motion, so we have:\n",
    "$$\n",
    "\\alpha_t = \\alpha_0 \\exp( -0.5 \\nu^2 t + \\nu W_t^2 )\n",
    "$$\n",
    "It is natural to introduce new variable $y_t$ as:\n",
    "$$\n",
    "y_t = \\ln \\alpha_t.\n",
    "$$ For $y_t$ we have the following SDE:\n",
    "$$\n",
    "d y_t = -0.5 \\nu^2 dt + \\nu\n",
    "dW_t^2\n",
    "$$\n",
    "\n",
    "Let us consider the following change of variable for $F_t$:\n",
    "$$\n",
    "X_t = F_t^{-\\beta+1}\n",
    "$$Then:\n",
    "$$\n",
    "dX_t = (-\\beta + 1) F_t^{-\\beta} dF_t + 0.5 (-\\beta+1) (-\\beta) F_t^{-\\beta-1} (dF_t)^2 = \n",
    "    (-\\beta + 1)\\alpha_t dW_t^1 + \\alpha_t^2 \\dfrac{\\beta (\\beta - 1)}{2 X_t}dt\n",
    "$$\n",
    "\n",
    "Another intresting choise is:\n",
    "$$\n",
    "X_t = \\log \\left( {F_t} \\right) \n",
    "$$\n",
    "\n",
    "$$\n",
    "dX_t = \\dfrac{dF_t}{F_t} - \\dfrac{1}{2}\\dfrac{(dF_t)^2}{F_t^2} = \\alpha_t F_t^{\\beta - 1} dW_t^1 - \\dfrac{1}{2}\\alpha_t^2 F_t^{2(\\beta - 1)}dt = \n",
    "\\alpha_t \\exp(X_t (\\beta - 1)) dW_t^1 - \\dfrac{1}{2}\\alpha_t^2 \\exp(2 X_t (\\beta - 1))dt\n",
    "$$\n",
    "\n",
    "Consider $X_t \\to (\\beta - 1) X_t$:\n",
    "$$\n",
    "dX_t = (\\beta-1) \\alpha_t \\exp(X_t) dW_t^1 - \\dfrac{(\\beta-1)\\alpha_t^2}{2} \\exp(2 X_t)dt\n",
    "= (\\beta-1)\\exp(y_t + X_t) dW_t^1 - \\dfrac{(\\beta-1)}{2} \\exp(2 (X_t+y_t))dt\n",
    "$$"
   ]
  },
  {
   "cell_type": "markdown",
   "id": "5047e186",
   "metadata": {},
   "source": [
    "So, for the price $V(x, y, t)$ of an option with payoff function $g(F_T)$, in the first case $x=F^{-\\beta+1}$ we have following PDE:\n",
    "$$\n",
    "    V_t + e^{2 y} \\dfrac{\\beta (\\beta - 1)}{2 x} V_x - \\dfrac{\\nu^2}{2} V_y + \\dfrac{(-\\beta + 1)^2}{2}e^{2y} V_{xx}\n",
    "    + \\dfrac{\\nu^2}{2} V_{yy} + \\nu \\rho (-\\beta + 1) e^{2y} V_{xy} = rV\n",
    "$$\n",
    "\n",
    "$$\n",
    "\\begin{aligned}\n",
    "    &\\mu_x = e^{2 y} \\dfrac{\\beta (\\beta - 1)}{2 x}\\\\\n",
    "    &\\mu_y =  - \\dfrac{\\nu^2}{2}\\\\\n",
    "    &\\sigma_x = \\dfrac{(-\\beta + 1)^2}{2}e^{2y} \\\\\n",
    "    &\\sigma_y =  \\dfrac{\\nu^2}{2} V_{yy}\\\n",
    "    &\\sigma_{xy} = \\nu \\rho (-\\beta + 1) e^{2y}\n",
    "\\end{aligned}\n",
    "$$\n",
    "In the second case $x = (\\beta-1) F$:\n",
    "\n",
    "$$\n",
    "    V_t - \\dfrac{(\\beta-1) e^{2(x+y)}}{2}V_x - \\dfrac{\\nu^2}{2} V_y + \\dfrac{(\\beta - 1)^2}{2}e^{2y+2x} V_{xx}\n",
    "    + \\dfrac{\\nu^2}{2} V_{yy} + \\nu \\rho (-\\beta + 1) e^{2(x+y)} V_{xy} = rV\n",
    "$$"
   ]
  },
  {
   "cell_type": "code",
   "execution_count": 1,
   "id": "37ab663a",
   "metadata": {},
   "outputs": [],
   "source": [
    "import sys\n",
    "sys.path.append('../heston')"
   ]
  },
  {
   "cell_type": "code",
   "execution_count": 2,
   "id": "6916c894",
   "metadata": {},
   "outputs": [],
   "source": [
    "from montecarlo import *\n",
    "from montecarlo_onestep import *\n",
    "from heston import *\n",
    "from solver import *"
   ]
  },
  {
   "cell_type": "code",
   "execution_count": 3,
   "id": "b2904bf7",
   "metadata": {},
   "outputs": [],
   "source": [
    "import numpy as np\n",
    "from matplotlib import pyplot as plt\n",
    "\n",
    "from scipy import stats as sps\n",
    "\n",
    "from sabr_approx import *"
   ]
  },
  {
   "cell_type": "code",
   "execution_count": 4,
   "id": "7acf4d86",
   "metadata": {},
   "outputs": [],
   "source": [
    "Npaths = 100000\n",
    "Nt = 100"
   ]
  },
  {
   "cell_type": "code",
   "execution_count": 5,
   "id": "9be1940c",
   "metadata": {},
   "outputs": [],
   "source": [
    "F0 = 1\n",
    "\n",
    "beta = 0.7\n",
    "\n",
    "rho = 0.25\n",
    "\n",
    "r = 0.0\n",
    "\n",
    "T = 1.5\n",
    "\n",
    "alpha = 0.15\n",
    "sig0 = 0.3\n",
    "\n",
    "tn = T * np.linspace(0, 1, Nt)"
   ]
  },
  {
   "cell_type": "code",
   "execution_count": 6,
   "id": "9345132c",
   "metadata": {},
   "outputs": [],
   "source": [
    "F = SabrEulerModified(F0, sig0, Npaths, tn, alpha, beta, rho)"
   ]
  },
  {
   "cell_type": "code",
   "execution_count": 7,
   "id": "b6470b5d",
   "metadata": {},
   "outputs": [],
   "source": [
    "K = np.linspace(0.1 * F0, 2.0 * F0, 101)"
   ]
  },
  {
   "cell_type": "code",
   "execution_count": 8,
   "id": "c3500b66",
   "metadata": {},
   "outputs": [],
   "source": [
    "payoff = np.maximum(F.reshape(-1, 1) - K.reshape(1, -1), 0.0)"
   ]
  },
  {
   "cell_type": "code",
   "execution_count": 9,
   "id": "9af1eb6b",
   "metadata": {},
   "outputs": [],
   "source": [
    "C = np.mean(payoff, axis=0)"
   ]
  },
  {
   "cell_type": "code",
   "execution_count": 10,
   "id": "3ff4ef1c",
   "metadata": {},
   "outputs": [],
   "source": [
    "Cpetr, IVpetr = SabrApprox(K, F0, r, tn[-1], sig0, alpha, beta, rho)"
   ]
  },
  {
   "cell_type": "code",
   "execution_count": 11,
   "id": "9c286f04",
   "metadata": {},
   "outputs": [
    {
     "data": {
      "image/png": "[encoded data removed]",
      "text/plain": [
       "<Figure size 720x360 with 1 Axes>"
      ]
     },
     "metadata": {
      "needs_background": "light"
     },
     "output_type": "display_data"
    }
   ],
   "source": [
    "plt.figure(figsize=(10, 5))\n",
    "plt.plot(K, F0 * np.ones((len(K), 1)), label='F0')\n",
    "plt.plot(K, np.maximum(F0 - K, 0.0), label='payoff')\n",
    "plt.plot(K, C, label='monte negro')\n",
    "plt.plot(K, Cpetr, label='petr')\n",
    "plt.legend(fontsize=15)\n",
    "plt.grid()"
   ]
  },
  {
   "cell_type": "code",
   "execution_count": 12,
   "id": "3402de75",
   "metadata": {},
   "outputs": [],
   "source": [
    "IVmonte = GetIv(C, K, F0, r, T)"
   ]
  },
  {
   "cell_type": "code",
   "execution_count": 16,
   "id": "565778b6",
   "metadata": {},
   "outputs": [
    {
     "data": {
      "image/png": "[encoded data removed]",
      "text/plain": [
       "<Figure size 720x360 with 1 Axes>"
      ]
     },
     "metadata": {
      "needs_background": "light"
     },
     "output_type": "display_data"
    }
   ],
   "source": [
    "plt.figure(figsize=(10, 5))\n",
    "plt.plot(K, IVpetr, label='Petr')\n",
    "plt.plot(K, IVmonte, label='MC')\n",
    "plt.legend(fontsize=15)\n",
    "plt.grid()"
   ]
  },
  {
   "cell_type": "code",
   "execution_count": null,
   "id": "51911f4c",
   "metadata": {},
   "outputs": [],
   "source": [
    "plt.plot(K, np.abs(C - C1) / np.max(np.abs(C)) * 100)\n",
    "plt.grid()"
   ]
  },
  {
   "cell_type": "code",
   "execution_count": null,
   "id": "f87a9676",
   "metadata": {},
   "outputs": [],
   "source": [
    "K = F0"
   ]
  },
  {
   "cell_type": "code",
   "execution_count": null,
   "id": "a0614d01",
   "metadata": {},
   "outputs": [],
   "source": [
    "Fmax = 5 * F0\n",
    "Fmin = 0.05 * F0"
   ]
  },
  {
   "cell_type": "code",
   "execution_count": null,
   "id": "1caecaec",
   "metadata": {},
   "outputs": [],
   "source": [
    "def gridX(Nx):\n",
    "    \n",
    "    Fn = np.linspace(Fmin, Fmax, Nx + 1)\n",
    "    xn = np.sort(Fn ** (-beta + 1))\n",
    "    hx = np.diff(xn)\n",
    "    return xn, hx\n",
    "\n",
    "def gridY(Ny):\n",
    "    yn = np.linspace(-2, 2, Ny + 1) + np.log(alpha0)\n",
    "    hy = np.diff(yn)\n",
    "    return yn, hy\n",
    "\n",
    "def gridT(Nt):\n",
    "    return T * np.linspace(0, 1.0, Nt + 1)"
   ]
  },
  {
   "cell_type": "code",
   "execution_count": null,
   "id": "539bc929",
   "metadata": {},
   "outputs": [],
   "source": [
    "Nx = 151\n",
    "Ny = 20\n",
    "Nt = 10"
   ]
  },
  {
   "cell_type": "code",
   "execution_count": null,
   "id": "82fd3924",
   "metadata": {},
   "outputs": [],
   "source": [
    "Xleft = Neuman(lambda x: 0.0)\n",
    "\n",
    "Xright = Dirichle(lambda x: Fmax - K)\n",
    "\n",
    "Yleft = Neuman(lambda x: 0.0)\n",
    "\n",
    "Yright = Neuman(lambda x: 0.0)\n",
    "\n",
    "boundary = Boundary2D(Xleft, Xright, Yleft, Yright)\n",
    "\n",
    "init = lambda x, y: np.maximum(0, x ** (1 / (1 - beta)) - K)\n",
    "\n",
    "\n",
    "mux = lambda x, y: np.exp(2 * y) * beta * (beta - 1) / (2 * x)\n",
    "muy = lambda x, y: - nu**2 / 2\n",
    "\n",
    "sigmax = lambda x, y: 0.5 * (beta-1) ** 2 * np.exp(2 * y)\n",
    "sigmay = lambda x, y: 0.5 * nu ** 2\n",
    "sigmaxy = lambda x, y: nu * rho * (-beta + 1) * np.exp(2 * y)\n",
    "\n",
    "problem = Problem(boundary, init, mux, muy, sigmax, sigmay, sigmaxy)\n",
    "\n",
    "der = DerCntrl()"
   ]
  },
  {
   "cell_type": "code",
   "execution_count": null,
   "id": "b9a22f43",
   "metadata": {},
   "outputs": [],
   "source": [
    "xn, _ = gridX(Nx)\n",
    "\n",
    "Fn = xn ** (1 / (1 - beta))"
   ]
  },
  {
   "cell_type": "code",
   "execution_count": null,
   "id": "e44980d3",
   "metadata": {},
   "outputs": [],
   "source": [
    "solverHV = ADI_CS(problem, der, gridX, gridY, gridT)"
   ]
  },
  {
   "cell_type": "code",
   "execution_count": null,
   "id": "bed18b25",
   "metadata": {},
   "outputs": [],
   "source": [
    "uHV = solverHV.solve(Nx, Ny, Nt)"
   ]
  },
  {
   "cell_type": "code",
   "execution_count": null,
   "id": "719ad537",
   "metadata": {},
   "outputs": [],
   "source": [
    "C_finite = uHV[-1, :-Nx // 4, Ny // 2 ]"
   ]
  },
  {
   "cell_type": "code",
   "execution_count": null,
   "id": "a36cc68d",
   "metadata": {},
   "outputs": [],
   "source": [
    "Fn = Fn[:-Nx // 4]"
   ]
  },
  {
   "cell_type": "code",
   "execution_count": null,
   "id": "ae6336ca",
   "metadata": {},
   "outputs": [],
   "source": [
    "C1, vol = SabrApprox(K, Fn, r, tn[-1], alpha0, beta, rho, nu)"
   ]
  },
  {
   "cell_type": "code",
   "execution_count": null,
   "id": "30243152",
   "metadata": {},
   "outputs": [],
   "source": [
    "Npaths = 5000"
   ]
  },
  {
   "cell_type": "code",
   "execution_count": null,
   "id": "92609197",
   "metadata": {},
   "outputs": [],
   "source": [
    "alpha0"
   ]
  },
  {
   "cell_type": "code",
   "execution_count": null,
   "id": "5eccbd96",
   "metadata": {},
   "outputs": [],
   "source": [
    "yn, _ = gridY(Ny)"
   ]
  },
  {
   "cell_type": "code",
   "execution_count": null,
   "id": "d7f3aa66",
   "metadata": {},
   "outputs": [],
   "source": [
    "np.exp(yn[Ny // 2])"
   ]
  },
  {
   "cell_type": "code",
   "execution_count": null,
   "id": "40afb654",
   "metadata": {},
   "outputs": [],
   "source": [
    "Cmonte = []\n",
    "for f in Fn:\n",
    "    F = SimulateSABR(tn, Npaths, alpha0, nu, f, beta, rho)\n",
    "    Cmonte.append( np.mean( np.maximum(F - K, 0) ) )\n",
    "Cmonte = np.asarray(Cmonte)"
   ]
  },
  {
   "cell_type": "code",
   "execution_count": null,
   "id": "e9ee7c21",
   "metadata": {},
   "outputs": [],
   "source": [
    "plt.figure(figsize=(10, 5))\n",
    "plt.plot(Fn, Cmonte, label= \"monte\")\n",
    "plt.plot(Fn, C_finite,  label=\"finite div\")\n",
    "plt.plot(Fn, C1, label=\"petr\")\n",
    "plt.legend(fontsize=15)\n",
    "plt.grid()"
   ]
  },
  {
   "cell_type": "code",
   "execution_count": null,
   "id": "650d4388",
   "metadata": {},
   "outputs": [],
   "source": [
    "np.linalg.norm(Cmonte - C_finite) / np.linalg.norm(Cmonte) * 100"
   ]
  },
  {
   "cell_type": "code",
   "execution_count": null,
   "id": "253266fb",
   "metadata": {},
   "outputs": [],
   "source": [
    "np.linalg.norm(C1 - C_finite) / np.linalg.norm(C1) * 100"
   ]
  },
  {
   "cell_type": "code",
   "execution_count": null,
   "id": "a0c24c43",
   "metadata": {},
   "outputs": [],
   "source": []
  },
  {
   "cell_type": "code",
   "execution_count": null,
   "id": "af0ad65d",
   "metadata": {},
   "outputs": [],
   "source": [
    "def monteGAqweqwd(rho):\n",
    "    Cmonte = []\n",
    "    for f in Fn:\n",
    "        F = SimulateSABREuler(tn, Npaths, alpha0, nu, f, beta, rho)\n",
    "        Cmonte.append( np.mean( np.maximum(F - K, 0) ) )\n",
    "    return np.asarray(Cmonte)"
   ]
  },
  {
   "cell_type": "code",
   "execution_count": null,
   "id": "7ed80b96",
   "metadata": {},
   "outputs": [],
   "source": [
    "plt.figure(figsize=(10, 5))\n",
    "for rho in [-0.9, 0.0, 0.9]:\n",
    "    C1, vol = SabrApprox(K, Fn, r, tn[-1], alpha0, beta, rho, nu)\n",
    "    plt.plot(Fn, C1, label=f'rho={rho}')\n",
    "plt.grid()\n",
    "plt.legend(fontsize=14)\n",
    "None"
   ]
  },
  {
   "cell_type": "code",
   "execution_count": null,
   "id": "00e667fe",
   "metadata": {},
   "outputs": [],
   "source": [
    "plt.figure(figsize=(10, 5))\n",
    "for rho in [-0.9, 0.0, 0.9]:\n",
    "    C1 = monteGAqweqwd(rho)\n",
    "    plt.plot(Fn, C1, label=f'rho={rho}')\n",
    "plt.grid()\n",
    "plt.legend(fontsize=14)\n",
    "None"
   ]
  },
  {
   "cell_type": "code",
   "execution_count": null,
   "id": "b57245c2",
   "metadata": {},
   "outputs": [],
   "source": []
  },
  {
   "cell_type": "code",
   "execution_count": null,
   "id": "817df459",
   "metadata": {},
   "outputs": [],
   "source": []
  }
 ],
 "metadata": {
  "kernelspec": {
   "display_name": "ubiquant_kaggle",
   "language": "python",
   "name": "ubiquant_kaggle"
  },
  "language_info": {
   "codemirror_mode": {
    "name": "ipython",
    "version": 3
   },
   "file_extension": ".py",
   "mimetype": "text/x-python",
   "name": "python",
   "nbconvert_exporter": "python",
   "pygments_lexer": "ipython3",
   "version": "3.8.12"
  }
 },
 "nbformat": 4,
 "nbformat_minor": 5
}
