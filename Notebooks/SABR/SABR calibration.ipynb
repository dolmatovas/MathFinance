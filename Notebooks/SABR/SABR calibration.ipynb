{
 "cells": [
  {
   "cell_type": "markdown",
   "id": "69983538",
   "metadata": {},
   "source": [
    "# SABR model definition"
   ]
  },
  {
   "cell_type": "markdown",
   "id": "78b1770c",
   "metadata": {},
   "source": [
    "Under the SABR (stochastic $\\alpha, \\beta, \\rho$) model the stock price is governed by the following system of SDE:\n",
    "$$\n",
    "\\begin{aligned}\n",
    "&dF_t = \\sigma_t F_t^{\\beta} dW_t\\\\\n",
    "&d\\sigma_t = \\alpha \\sigma_t dZ_t\\\\\n",
    "&dW_t dZ_t = \\rho dt\n",
    "\\end{aligned}\n",
    "$$with initial conditions $F_0, \\sigma_0$.\n",
    "The parameters satisfy conditions $0 \\leq \\beta \\leq 1$, $\\alpha \\geq 0$, $-1 \\leq \\rho \\leq 1$\n",
    "\n",
    "Let us introduce the small parameter $\\varepsilon = \\alpha^2 T$\n",
    "\n",
    "Then we can write asymptotic expantion for implied volatility $\\sigma_{imp}$\n",
    "$$\n",
    "\\sigma_{imp} = \\alpha \\dfrac{\\log \\left(F_0/K\\right)}{D(\\zeta, \\rho)} \\left[1 + \\left(q_1 + q_2 + q_3\\right)\\varepsilon \\right]\n",
    "$$where\n",
    "$$\n",
    "\\begin{aligned}\n",
    "&\\zeta = \\dfrac{\\alpha}{\\sigma_0 \\left(1-\\beta\\right)}\\left( F_0^{1-\\beta} - K^{1-\\beta}\\right)\\\\\n",
    "&D(\\zeta, \\rho) = \\log \\dfrac{\\sqrt{1 - 2\\rho\\zeta+\\zeta^2} + \\zeta - \\rho}{1 - \\rho}\\\\\n",
    "&q_1 = F_m^{2\\beta - 2} \\dfrac{\\sigma_0^2 \\left(\\beta-1\\right)^2}{24 \\alpha^2}\\\\\n",
    "&q_2 = \\dfrac{\\rho \\sigma_0 \\beta}{4\\alpha}F_m^{\\beta-1}\\\\\n",
    "&q_3 = \\dfrac{2 - 3 \\rho^2}{24}\n",
    "\\end{aligned}\n",
    "$$And $F_m = \\sqrt{ F_0 K }$ and $X_0 = \\log F_0, X_m = \\log F_m$"
   ]
  },
  {
   "cell_type": "markdown",
   "id": "afe187c8",
   "metadata": {},
   "source": [
    "In order to calibrate this model to market data we should find derivatives with respect to parameters $\\sigma_0, \\alpha, \\beta, \\rho$.\n",
    "\n",
    "Let us denote\n",
    "$$\n",
    "S = 1 + \\alpha^2 T(q_1 + q_2 + q_3), \n",
    "$$so\n",
    "$$\n",
    "\\sigma_{impl} = \\alpha \\dfrac{\\log \\left(F_0/K\\right)}{D(\\zeta, \\rho)} S.\n",
    "$$\n",
    "\n",
    "$$\n",
    "\\begin{aligned}\n",
    "&\\dfrac{\\partial \\sigma_{impl}}{\\partial \\sigma_0} = -\\dfrac{\\sigma_{impl}}{D} \\dfrac{\\partial D}{\\partial \\zeta} \\dfrac{\\partial \\zeta}{\\partial \\sigma_0} + \\alpha \\dfrac{\\log (F_0/K)}{D} \\dfrac{\\partial S}{\\partial \\sigma_0}\\\\\n",
    "&\\dfrac{\\partial \\sigma_{impl}}{\\partial \\alpha} = \\dfrac{\\sigma_{impl}}{\\alpha} - \\dfrac{\\sigma_{impl}}{D}\\dfrac{\\partial D}{\\partial \\zeta} \\dfrac{\\partial \\zeta}{\\partial \\alpha} + \\alpha \\dfrac{\\log (F_0/K) }{D} \n",
    "\\dfrac{\\partial S}{\\partial \\alpha}\\\\\n",
    "&\\dfrac{\\partial \\sigma_{impl}}{\\partial \\beta} = -\\dfrac{\\sigma_{impl}}{D} \\dfrac{\\partial D}{\\partial \\zeta}\n",
    "\\dfrac{\\partial \\zeta}{\\partial \\beta} + \\alpha \\dfrac{\\log(F_0/K)}{D} \\dfrac{\\partial S}{\\partial \\beta}\\\\\n",
    "&\\dfrac{\\partial \\sigma_{impl}}{\\partial\\rho} = -\\dfrac{\\sigma_{impl}}{D}\\dfrac{\\partial D}{\\partial\\rho}\n",
    "    + \\dfrac{\\alpha \\log(F_0/K)}{D} \\dfrac{\\partial S}{\\partial\\rho}\\\\\n",
    "\\end{aligned}\n",
    "$$\n",
    "\n",
    "The hardest derivative is the derivative with respect to $\\beta$, so:\n",
    "$$\n",
    "\\begin{aligned}\n",
    "    &\\dfrac{\\partial q_1}{\\partial \\beta} = \\dfrac{2 q_1}{\\beta - 1} + 2 \\log F_m q_1\\\\\n",
    "    &\\dfrac{\\partial q_1}{\\partial \\beta} = \\dfrac{q_2}{\\beta} + \\log F_m q_1\\\\\n",
    "\\end{aligned}\n",
    "$$\n",
    "For $S$ we have:\n",
    "$$\n",
    "\\begin{aligned}\n",
    "&\\dfrac{\\partial S}{\\partial \\sigma_0} = \\dfrac{\\alpha^2 T}{\\sigma_0} \\left[ 2q_1 + q_2 \\right]\\\\\n",
    "&\\dfrac{\\partial S}{\\partial \\alpha} = 2 \\alpha T (q_1 + q_2 + q_3) + \\alpha^2 T \\left( -\\dfrac{2q_1}{\\alpha} - \\dfrac{q_2}{\\alpha}  \\right) = \\alpha T \\left( q_2 + 2 q_3 \\right)\\\\\n",
    "&\\dfrac{\\partial S}{\\partial \\beta} = \\alpha^2 T\\left( 2q_1 \\left[  \\dfrac{1}{\\beta - 1} + \\log F_m \\right] \n",
    "+ q_2 \\left[ \\dfrac{1}{\\beta} + \\log F_m \\right] \\right)\\\\\n",
    "&\\dfrac{\\partial S}{\\partial\\rho} = \\alpha^2 T \\left( \\dfrac{q_2}{\\rho} - \\dfrac{\\rho}{4} \\right)\\\\\n",
    "\\end{aligned}$$\n",
    "\n",
    "For D: \n",
    "$$\n",
    "\\begin{aligned}\n",
    "&\\dfrac{\\partial D}{\\partial \\zeta} = \\dfrac{1}{\\sqrt{1 - 2 \\rho \\zeta + \\zeta^2}}\\\\\n",
    "&\\dfrac{\\partial D}{\\partial \\rho} = \\dfrac{1}{1-\\rho} - \\dfrac{1 + \\dfrac{\\zeta}{\\sqrt{ 1 - 2\\rho \\zeta + \\zeta^2 }}}{ \\sqrt{ 1 - 2\\rho \\zeta + \\zeta^2 } + \\zeta - \\rho}\n",
    "= \\dfrac{1}{1-\\rho} - \\dfrac{1}{\\sqrt{\\ldots}}\\dfrac{\\sqrt{\\ldots} + \\zeta}{\\sqrt{\\ldots} + \\zeta - \\rho} \\\\\n",
    "\\end{aligned}\n",
    "$$\n",
    "\n",
    "And for $\\zeta$:\n",
    "\n",
    "$$\n",
    "\\begin{aligned}\n",
    "&\\dfrac{\\partial \\zeta}{\\partial \\sigma_0} = -\\dfrac{\\zeta}{\\sigma_0}\\\\\n",
    "&\\dfrac{\\partial \\zeta}{\\partial \\alpha} = \\dfrac{\\zeta}{\\alpha}\\\\\n",
    "&\\dfrac{\\partial \\zeta}{\\partial \\beta} = \\dfrac{\\zeta}{1-\\beta} - \\dfrac{\\alpha}{\\sigma_0 \\left(1-\\beta\\right)}\\left( \\log F_0 F_0^{1-\\beta} - \\log K K^{1-\\beta}\\right)\n",
    "\\end{aligned}\n",
    "$$\n"
   ]
  },
  {
   "cell_type": "code",
   "execution_count": 1,
   "id": "53a3e68b",
   "metadata": {},
   "outputs": [],
   "source": [
    "import sys\n",
    "sys.path.append('../../SABR/')\n",
    "sys.path.append('../../heston/')\n",
    "sys.path.append('../../heston/heston calibration/')\n",
    "sys.path.append('../../')"
   ]
  },
  {
   "cell_type": "code",
   "execution_count": 2,
   "id": "32bc4919",
   "metadata": {},
   "outputs": [],
   "source": [
    "import numpy as np\n",
    "from matplotlib import pyplot as plt\n",
    "\n",
    "from scipy import stats as sps\n",
    "\n",
    "from sabr_approx import *\n",
    "from nonlinear_optimization import NonlinearOptimization\n",
    "\n",
    "from heston import *\n",
    "from heston_calibration import *"
   ]
  },
  {
   "cell_type": "code",
   "execution_count": 3,
   "id": "9b5d1b40",
   "metadata": {},
   "outputs": [],
   "source": [
    "def SabrApproxTest(K, F0, r, tau, sig0, alpha, beta, rho):\n",
    "    Fm = np.sqrt( F0 * K )\n",
    "    eps = alpha ** 2 * T\n",
    "    \n",
    "    zeta = alpha / (sig0) / (1 - beta) * ( F0 ** (1-beta) - K ** (1-beta) )\n",
    "    D = np.log( (np.sqrt(1 - 2 * rho * zeta + zeta ** 2) + zeta - rho) / (1-rho) )\n",
    "    \n",
    "    q1 = Fm ** (2 * beta - 2) * ( sig0 * (1-beta) / alpha ) ** 2 / 24\n",
    "    q2 = rho * sig0 * beta / 4 / alpha * Fm ** (beta - 1)\n",
    "    q3 = (2 - 3 * rho ** 2) / 24\n",
    "    \n",
    "    vol = alpha * np.log(F0 / K) / D * ( 1 + (q1 + q2 + q3) * eps )\n",
    "    call_price =  BS(K, F0, r, tau, vol, )\n",
    "    return call_price, vol\n",
    "\n",
    "\n",
    "def SabrApproxDerivatives(K, F0, r, tau, sig0, alpha, beta, rho):\n",
    "    \n",
    "    #mid point\n",
    "    Fm = np.sqrt( F0 * K )\n",
    "    #small parameter\n",
    "    eps = alpha ** 2 * T\n",
    "    \n",
    "    #zeta\n",
    "    zeta = alpha / (sig0) / (1 - beta) * ( F0 ** (1-beta) - K ** (1-beta) )\n",
    "    \n",
    "    zeta_sig0 = -zeta / sig0\n",
    "    \n",
    "    zeta_alpha = zeta / alpha\n",
    "    \n",
    "    zeta_beta = zeta / (1 - beta) - alpha / (sig0 * (1-beta)) * \\\n",
    "    ( np.log(F0) * F0 ** (1-beta) - np.log(K) * K ** (1-beta))\n",
    "    \n",
    "    #D(zeta)\n",
    "    sqr = np.sqrt(1 - 2 * rho * zeta + zeta ** 2)       \n",
    "    \n",
    "    D = np.log( (sqr + zeta - rho) / (1-rho) )\n",
    "    \n",
    "    D_zeta = 1 / sqr\n",
    "    \n",
    "    D_rho = 1 / (1-rho) - (sqr + zeta) / sqr / (sqr + zeta - rho)\n",
    "    \n",
    "    #\n",
    "    q1 = Fm ** (2 * beta - 2) * ( sig0 * (1-beta) / alpha ) ** 2 / 24\n",
    "    q2 = rho * sig0 * beta / 4 / alpha * Fm ** (beta - 1)\n",
    "    q3 = (2 - 3 * rho ** 2) / 24\n",
    "    \n",
    "    #S\n",
    "    S = 1 + eps * (q1 + q2 + q3)\n",
    "    \n",
    "    S_sig0 = eps / sig0 * (2 * q1 + q2)\n",
    "    \n",
    "    S_alpha = alpha * T * (q2 + 2 * q3)\n",
    "    \n",
    "    S_beta  = eps * ( 2 * q1 * ( 1 / (beta - 1)  + np.log(Fm)) + q2 * ( 1 / beta + np.log(Fm)) )\n",
    "    \n",
    "    S_rho = eps * (Fm ** (beta - 1) * sig0 * beta / (4 * alpha) - rho / 4 )\n",
    "    \n",
    "    #result\n",
    "    vol = alpha * np.log(F0 / K) / D * S\n",
    "    \n",
    "    vol_sig0 = -vol / D *  D_zeta * zeta_sig0 + alpha * np.log(F0/K) / D  * S_sig0 \n",
    "    \n",
    "    vol_alpha = vol / alpha - vol / D * D_zeta * zeta_alpha + alpha * np.log(F0 / K) / D * S_alpha\n",
    "    \n",
    "    vol_beta = -vol / D * D_zeta * zeta_beta + alpha * np.log(F0/K) / D * S_beta\n",
    "    \n",
    "    vol_rho = -vol / D * D_rho + alpha * np.log(F0/K) / D * S_rho\n",
    "    \n",
    "    return vol, vol_sig0, vol_alpha, vol_beta, vol_rho "
   ]
  },
  {
   "cell_type": "code",
   "execution_count": 4,
   "id": "67e3f1fd",
   "metadata": {},
   "outputs": [],
   "source": [
    "F0 = 1\n",
    "K = F0 * 1.5\n",
    "\n",
    "alpha = 0.15\n",
    "beta = 0.25\n",
    "rho = 0.25\n",
    "\n",
    "r = 0.0\n",
    "\n",
    "T = 0.5\n",
    "\n",
    "sig0 = 0.3"
   ]
  },
  {
   "cell_type": "code",
   "execution_count": 5,
   "id": "6435945f",
   "metadata": {},
   "outputs": [
    {
     "name": "stdout",
     "output_type": "stream",
     "text": [
      "0.0 0.0\n"
     ]
    }
   ],
   "source": [
    "C, iv = SabrApprox(K, F0, r, T, sig0, alpha, beta, rho)\n",
    "\n",
    "C1, iv1 = SabrApproxTest(K, F0, r, T, sig0, alpha, beta, rho)\n",
    "\n",
    "print(C-C1, iv - iv1)\n"
   ]
  },
  {
   "cell_type": "code",
   "execution_count": 6,
   "id": "bf319d68",
   "metadata": {},
   "outputs": [
    {
     "data": {
      "text/plain": [
       "9.720636767764745e-09"
      ]
     },
     "execution_count": 6,
     "metadata": {},
     "output_type": "execute_result"
    },
    {
     "data": {
      "image/png": "[encoded data removed]",
      "text/plain": [
       "<Figure size 432x288 with 1 Axes>"
      ]
     },
     "metadata": {
      "needs_background": "light"
     },
     "output_type": "display_data"
    }
   ],
   "source": [
    "alphan = alpha * np.linspace(0.5, 1.5, 1000)\n",
    "h = alphan[1] - alphan[0]\n",
    "\n",
    "vol, der_sig0, der_alpha, der_beta, der_rho  = SabrApproxDerivatives(K, F0, r, T, sig0, alphan[:-1] + h/2, beta, rho)\n",
    "\n",
    "_, vol = SabrApproxTest(K, F0, r, T, sig0, alphan, beta, rho)\n",
    "\n",
    "der_finite = np.diff(vol) / h\n",
    "\n",
    "plt.plot(alphan[:-1] + h/2, der_alpha)\n",
    "plt.plot(alphan[:-1] + h/2, der_finite)\n",
    "plt.grid()\n",
    "\n",
    "np.linalg.norm(der_alpha - der_finite)"
   ]
  },
  {
   "cell_type": "code",
   "execution_count": 7,
   "id": "fd16850c",
   "metadata": {},
   "outputs": [
    {
     "data": {
      "text/plain": [
       "6.422193996626124e-09"
      ]
     },
     "execution_count": 7,
     "metadata": {},
     "output_type": "execute_result"
    },
    {
     "data": {
      "image/png": "[encoded data removed]",
      "text/plain": [
       "<Figure size 432x288 with 1 Axes>"
      ]
     },
     "metadata": {
      "needs_background": "light"
     },
     "output_type": "display_data"
    }
   ],
   "source": [
    "rhon = np.linspace(-0.5, 0.5, 1000)\n",
    "h = rhon[1] - rhon[0]\n",
    "\n",
    "vol, der_sig0, der_alpha, der_beta, der_rho = SabrApproxDerivatives(K, F0, r, T, sig0, alpha, beta, rhon[:-1] + h/2)\n",
    "\n",
    "_, vol = SabrApproxTest(K, F0, r, T, sig0, alpha, beta, rhon)\n",
    "\n",
    "der_finite = np.diff(vol) / h\n",
    "\n",
    "plt.plot(alphan[:-1] + h/2, der_rho)\n",
    "plt.plot(alphan[:-1] + h/2, der_finite)\n",
    "plt.grid()\n",
    "\n",
    "np.linalg.norm(der_rho - der_finite)"
   ]
  },
  {
   "cell_type": "code",
   "execution_count": 8,
   "id": "fa8f3d75",
   "metadata": {},
   "outputs": [
    {
     "data": {
      "text/plain": [
       "9.68496726932121e-08"
      ]
     },
     "execution_count": 8,
     "metadata": {},
     "output_type": "execute_result"
    },
    {
     "data": {
      "image/png": "[encoded data removed]",
      "text/plain": [
       "<Figure size 432x288 with 1 Axes>"
      ]
     },
     "metadata": {
      "needs_background": "light"
     },
     "output_type": "display_data"
    }
   ],
   "source": [
    "sign = sig0 * np.linspace(0.5, 1.5, 1000)\n",
    "h = sign[1] - sign[0]\n",
    "\n",
    "vol, der_sig0, der_alpha, der_beta, der_rho= SabrApproxDerivatives(K, F0, r, T, sign[:-1] + h/2, alpha, beta, rho)\n",
    "\n",
    "_, vol = SabrApproxTest(K, F0, r, T, sign, alpha, beta, rho)\n",
    "\n",
    "der_finite = np.diff(vol) / h\n",
    "\n",
    "plt.plot(alphan[:-1] + h/2, der_sig0)\n",
    "plt.plot(alphan[:-1] + h/2, der_finite)\n",
    "plt.grid()\n",
    "\n",
    "np.linalg.norm(der_sig0 - der_finite)"
   ]
  },
  {
   "cell_type": "code",
   "execution_count": 9,
   "id": "ff30ef6b",
   "metadata": {},
   "outputs": [
    {
     "data": {
      "text/plain": [
       "1.92961314608098e-09"
      ]
     },
     "execution_count": 9,
     "metadata": {},
     "output_type": "execute_result"
    },
    {
     "data": {
      "image/png": "[encoded data removed]",
      "text/plain": [
       "<Figure size 432x288 with 1 Axes>"
      ]
     },
     "metadata": {
      "needs_background": "light"
     },
     "output_type": "display_data"
    }
   ],
   "source": [
    "betan = np.linspace(0.01, 0.99, 1000)\n",
    "h = betan[1] - betan[0]\n",
    "\n",
    "vol, der_sig0, der_alpha, der_beta, der_rho = SabrApproxDerivatives(K, F0, r, T, sig0, alpha, betan[:-1]+h/2, rho)\n",
    "\n",
    "_, vol = SabrApproxTest(K, F0, r, T, sig0, alpha, betan, rho)\n",
    "\n",
    "der_finite = np.diff(vol) / h\n",
    "\n",
    "plt.plot(alphan[:-1] + h/2, der_beta)\n",
    "plt.plot(alphan[:-1] + h/2, der_finite)\n",
    "plt.grid()\n",
    "\n",
    "np.linalg.norm(der_beta - der_finite)"
   ]
  },
  {
   "cell_type": "code",
   "execution_count": null,
   "id": "c477df70",
   "metadata": {},
   "outputs": [],
   "source": []
  },
  {
   "cell_type": "code",
   "execution_count": 127,
   "id": "a045b1f1",
   "metadata": {},
   "outputs": [],
   "source": [
    "F0 = 1\n",
    "K = F0 * 1.5\n",
    "\n",
    "alpha = 0.15\n",
    "beta = 0.25\n",
    "rho = 0.25\n",
    "\n",
    "r = 0.0\n",
    "\n",
    "T = 0.5\n",
    "\n",
    "sig0 = 0.3\n",
    "\n",
    "\n",
    "Kn = np.linspace(0.5, 1.5, 16) * F0\n",
    "\n",
    "c0, iv0 = SabrApproxTest(Kn, F0, r, T, sig0, alpha, beta, rho)\n",
    "\n",
    "sabr_params_0 = np.asarray( [sig0, alpha, beta, rho] )"
   ]
  },
  {
   "cell_type": "code",
   "execution_count": 128,
   "id": "d5f0d9dc",
   "metadata": {},
   "outputs": [],
   "source": [
    "def gen_random_sabr_params():\n",
    "    eps = 1e-5\n",
    "    sig0 = 0.3 * np.random.rand(1) + eps\n",
    "    alpha = 1.0 * np.random.rand(1) + eps\n",
    "    beta = 0.1 + 0.8 * np.random.rand(1)\n",
    "    rho = -0.9 + (1.8) * np.random.rand(1)\n",
    "    return np.asarray([sig0[0], alpha[0], beta[0], rho[0]] )"
   ]
  },
  {
   "cell_type": "code",
   "execution_count": 129,
   "id": "d2d35491",
   "metadata": {},
   "outputs": [],
   "source": [
    "def proj( sabr_params ):\n",
    "    sig0, alpha, beta, rho = sabr_params\n",
    "    \n",
    "    eps = 1e-6\n",
    "    \n",
    "    sig0 = max(sig0, eps)\n",
    "    alpha = max(alpha, eps)\n",
    "    rho = np.clip(rho, -1 + eps, 1 - eps)\n",
    "    beta = np.clip(beta, eps, 1 - eps)\n",
    "    \n",
    "    return np.asarray( [sig0, alpha, beta, rho] )"
   ]
  },
  {
   "cell_type": "code",
   "execution_count": 130,
   "id": "302638f0",
   "metadata": {},
   "outputs": [],
   "source": [
    "def optimize_sabr( iv0, Niter=100, weights=None ):\n",
    "    if weights is None:\n",
    "        weights = np.ones_like(iv0)\n",
    "    weights = weights / np.sum(weights)\n",
    "    def get_error( sabr_params ):\n",
    "        sig0, alpha, beta, rho = sabr_params\n",
    "\n",
    "        iv, d1, d2, d3, d4 = SabrApproxDerivatives(Kn, F0, r, T, sig0, alpha, beta, rho)\n",
    "\n",
    "        res = iv - iv0\n",
    "\n",
    "        J = np.asarray( [d1, d2, d3, d4] )\n",
    "\n",
    "        return res * weights, J @ np.diag(weights)\n",
    "    sabr_params, fs = NonlinearOptimization(Niter, get_error, proj, gen_random_sabr_params())\n",
    "    \n",
    "    return sabr_params, fs"
   ]
  },
  {
   "cell_type": "code",
   "execution_count": 131,
   "id": "79ddf874",
   "metadata": {},
   "outputs": [],
   "source": [
    "sabr_params, fs = optimize_sabr( iv0 )"
   ]
  },
  {
   "cell_type": "code",
   "execution_count": 132,
   "id": "3d61cfc6",
   "metadata": {},
   "outputs": [
    {
     "data": {
      "image/png": "[encoded data removed]",
      "text/plain": [
       "<Figure size 720x360 with 1 Axes>"
      ]
     },
     "metadata": {
      "needs_background": "light"
     },
     "output_type": "display_data"
    }
   ],
   "source": [
    "plt.figure(figsize=(10, 5))\n",
    "plt.semilogy(fs, '-o')\n",
    "plt.grid()"
   ]
  },
  {
   "cell_type": "code",
   "execution_count": 133,
   "id": "a9b2d547",
   "metadata": {},
   "outputs": [
    {
     "data": {
      "text/plain": [
       "array([0.3 , 0.15, 0.25, 0.25])"
      ]
     },
     "execution_count": 133,
     "metadata": {},
     "output_type": "execute_result"
    }
   ],
   "source": [
    "sabr_params_0"
   ]
  },
  {
   "cell_type": "code",
   "execution_count": 134,
   "id": "2c43b4a5",
   "metadata": {},
   "outputs": [
    {
     "data": {
      "text/plain": [
       "array([0.3       , 0.15000009, 0.25000061, 0.2499986 ])"
      ]
     },
     "execution_count": 134,
     "metadata": {},
     "output_type": "execute_result"
    }
   ],
   "source": [
    "sabr_params"
   ]
  },
  {
   "cell_type": "code",
   "execution_count": 135,
   "id": "f11d6412",
   "metadata": {},
   "outputs": [],
   "source": [
    "v0_0    = 1.75\n",
    "theta_0 = 0.2\n",
    "rho_0   = 0.5\n",
    "k_0     = 2.0\n",
    "sig_0   = 0.5\n",
    "\n",
    "heston_params_0 = np.asarray( [v0_0, theta_0, rho_0, k_0, sig_0] )"
   ]
  },
  {
   "cell_type": "code",
   "execution_count": 136,
   "id": "47abff5c",
   "metadata": {},
   "outputs": [],
   "source": [
    "c_heston = getOptionPriceAB(F0, Kn, T, 200, r, *heston_params_0)"
   ]
  },
  {
   "cell_type": "code",
   "execution_count": 137,
   "id": "0a159968",
   "metadata": {},
   "outputs": [],
   "source": [
    "from implied_volatility import getIV"
   ]
  },
  {
   "cell_type": "code",
   "execution_count": 138,
   "id": "6cb02686",
   "metadata": {},
   "outputs": [],
   "source": [
    "iv_heston = getIV(c_heston, Kn, F0, r, T)"
   ]
  },
  {
   "cell_type": "code",
   "execution_count": 139,
   "id": "e881264b",
   "metadata": {},
   "outputs": [],
   "source": [
    "weights = 1 / (0.01 + np.abs(Kn - F0))"
   ]
  },
  {
   "cell_type": "code",
   "execution_count": 140,
   "id": "fc46805a",
   "metadata": {},
   "outputs": [],
   "source": [
    "sabr_params, fs = optimize_sabr( iv_heston, Niter=30, weights=weights )"
   ]
  },
  {
   "cell_type": "code",
   "execution_count": 141,
   "id": "6aaf5962",
   "metadata": {},
   "outputs": [
    {
     "data": {
      "image/png": "[encoded data removed]",
      "text/plain": [
       "<Figure size 720x360 with 1 Axes>"
      ]
     },
     "metadata": {
      "needs_background": "light"
     },
     "output_type": "display_data"
    }
   ],
   "source": [
    "plt.figure(figsize=(10, 5))\n",
    "plt.semilogy(fs, '-o')\n",
    "plt.grid()"
   ]
  },
  {
   "cell_type": "code",
   "execution_count": 142,
   "id": "1e9902de",
   "metadata": {},
   "outputs": [],
   "source": [
    "c_calibrated, iv_calibrated = SabrApproxTest(Kn, F0, r, T, *sabr_params)"
   ]
  },
  {
   "cell_type": "code",
   "execution_count": 143,
   "id": "d8727c3d",
   "metadata": {},
   "outputs": [
    {
     "data": {
      "text/plain": [
       "0.0005874645994074658"
      ]
     },
     "execution_count": 143,
     "metadata": {},
     "output_type": "execute_result"
    }
   ],
   "source": [
    "np.linalg.norm(iv_calibrated - iv_heston)"
   ]
  },
  {
   "cell_type": "code",
   "execution_count": 144,
   "id": "54e23ba1",
   "metadata": {},
   "outputs": [
    {
     "data": {
      "image/png": "[encoded data removed]",
      "text/plain": [
       "<Figure size 432x288 with 1 Axes>"
      ]
     },
     "metadata": {
      "needs_background": "light"
     },
     "output_type": "display_data"
    }
   ],
   "source": [
    "plt.plot(Kn, iv_calibrated, '-o')\n",
    "plt.plot(Kn, iv_heston, '-o')\n",
    "plt.xlabel('Strike')\n",
    "plt.ylabel('IV')\n",
    "plt.grid()"
   ]
  },
  {
   "cell_type": "code",
   "execution_count": 145,
   "id": "cac2a740",
   "metadata": {},
   "outputs": [
    {
     "data": {
      "image/png": "[encoded data removed]",
      "text/plain": [
       "<Figure size 432x288 with 1 Axes>"
      ]
     },
     "metadata": {
      "needs_background": "light"
     },
     "output_type": "display_data"
    }
   ],
   "source": [
    "plt.plot(Kn, c_calibrated, '-o')\n",
    "plt.plot(Kn, c_heston, '-o')\n",
    "plt.xlabel('Strike')\n",
    "plt.ylabel('Price')\n",
    "plt.grid()"
   ]
  }
 ],
 "metadata": {
  "kernelspec": {
   "display_name": "Python [conda env:ubiquant_kaggle] *",
   "language": "python",
   "name": "conda-env-ubiquant_kaggle-py"
  },
  "language_info": {
   "codemirror_mode": {
    "name": "ipython",
    "version": 3
   },
   "file_extension": ".py",
   "mimetype": "text/x-python",
   "name": "python",
   "nbconvert_exporter": "python",
   "pygments_lexer": "ipython3",
   "version": "3.8.12"
  }
 },
 "nbformat": 4,
 "nbformat_minor": 5
}
