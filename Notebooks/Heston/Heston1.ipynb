{
 "cells": [
  {
   "cell_type": "markdown",
   "id": "27bb19de",
   "metadata": {},
   "source": [
    "A bit of theory.\n",
    "\n",
    "Let us consider following model:\n",
    "\n",
    "$$\n",
    "    \\begin{cases}\n",
    "        \\dfrac{dS_t}{S_t} = r dt + \\sqrt{v_t} dW_t^1 \\\\\n",
    "        dv_t = k(\\theta - v_t) + \\sigma \\sqrt{v_t} dW_t^2, dW_t^1 dW_t^2 = \\rho dt\n",
    "    \\end{cases}\n",
    "$$\n",
    "For volatility $v_t$ we have Cos-Ingersoll-Rox(CIR) process. There $\\theta$ is a mean-reversion level, $k$ is a rate of mean-reverting and $\\sigma$ is a vol of vol. If $k\\theta > \\sigma^2$ solution exists and never richs zero. \n",
    "\n",
    "We want to price vanila eurocall option:\n",
    "$$\n",
    "C_T = (S_T - K)^{+} = S_T I_{S_T \\geq K} - K I_{S_T \\geq K}\n",
    "$$General fomula for nonarbitrage price:\n",
    "$$\n",
    "C_t = N_t \\mathbb{E}^{P_N}\\left[ \\dfrac{C_T}{N_T} | F_t \\right]\n",
    "$$\n",
    "where $N_t$ is numerare and $P_N$ is corresponding martingale measure. It is straitforward that $P_B = P$, i.e. initial measure is risk-neutral. Let us price first term in $P_S$ measure:\n",
    "$$\n",
    "C_t = S_t \\mathbb{P}_S(S_T \\geq K) - Ke^{-r(T-t)} \\mathbb{P}(S_T \\geq K)\n",
    "$$It's easy to see that:\n",
    "$$\n",
    "d \\mathbb{P}_S = e^{-rT} \\dfrac{S_T}{S_0} d\\mathbb{P} = Z_T d \\mathbb{P}\n",
    "$$where\n",
    "$$\n",
    "Z_T = e^{-rT} \\dfrac{S_T}{S_0}\n",
    "$$\n",
    "We need to check that both $B_t^* = B_t / S_t$ and $S_t^* = S_t / S_t$ are martingales w.r.t. $\\mathbb{P}_S$. It's sufficient to check that $Z_t B_t^*$ is martingale:\n",
    "$$\n",
    "Z_t B_t^* = e^{-rt} \\dfrac{S_t}{S_0} \\dfrac{B_t}{S_t} = \\dfrac{1}{S_0}\n",
    "$$is constant, therefore it is martingale.\n",
    "\n",
    "Let us consider characteristic function of the process $X_t = \\ln S_t$:\n",
    "$$\n",
    "\\phi(x, t, v; u) = \\mathbb{E}^P e^{iuX_T}\n",
    "$$where $X_t = x, v_t = v$. \n",
    "$$\n",
    "\\tilde{\\phi}(x, t, v; u) = \\mathbb{E}^{P_S} e^{iuX_T}\n",
    "$$Using Baessian formula for conditional expectation:\n",
    "$$\n",
    "\\mathbb{E}^{P_S} e^{iuX_T} = \\dfrac{1}{Z_t} \\mathbb{E}^{P} Z_Te^{iuX_T} = e^{rt-x} \\mathbb{E}^P e^{-rT} e^{iuX_T + X_T} = e^{-r(T-t)-x}\\phi(x, t, v; u-i)\n",
    "$$But\n",
    "$$\n",
    "\\phi(x, t, v; -i) = \\mathbb{E}^{P} e^{X_T} = \\mathbb{E}^P S_T = S_te^{r(T-t)} = e^{x+r(T-t)}\n",
    "$$then:\n",
    "$$\n",
    "\\tilde{\\phi}(x, t, v; u) = \\dfrac{\\phi(x, t, v; u-i)}{ \\phi(x, t, v; -i)}\n",
    "$$\n",
    "\n",
    "According to Feyman-Kac formula, we have following eqation for $\\phi:$\n",
    "$$\n",
    "\\phi_t + \\phi_x(r-v/2) + \\phi_v (k\\theta - kv) + \\dfrac{1}{2} \\phi_{xx} v + \\dfrac{1}{2} \\phi_{vv}\\sigma^2 v + \\phi_{xv} \\sigma\\rho v = 0\n",
    "$$\n",
    "along with terminal condition:\n",
    "$$\n",
    "\\phi(x, T, v; u) = e^{iux}\n",
    "$$\n",
    "\n",
    "Let \n",
    "$$\n",
    "\\phi = e^{iux} e^{C(\\tau, u) + v D(\\tau, u)}\n",
    "$$where $\\tau = T - t$ is time for expiration.\n",
    "Then\n",
    "$$\n",
    "\\begin{cases}\n",
    "    \\phi_t = -\\phi C_{\\tau} -\\phi vD_{\\tau}\\\\\n",
    "    \\phi_x = iu \\phi \\\\\n",
    "    \\phi_v = D \\phi \\\\\n",
    "    \\phi_{xx} = -u^2 \\phi \\\\\n",
    "    \\phi_{vv} = D^2 \\phi \\\\\n",
    "    \\phi_{vx} = iuD \\phi\n",
    "\\end{cases}\n",
    "$$\n",
    "$$\n",
    "-C_{\\tau} - vD_{\\tau} + iu (r - v/2) + D(k\\theta - kv) - \\dfrac{1}{2}u^2 v + \\dfrac{1}{2} v\\sigma^2 D^2 + iuDv\\rho \\sigma = 0\n",
    "$$Since this equation should be right for all $v$ we have:\n",
    "$$\n",
    "\\begin{cases}\n",
    "    C_{\\tau} = iur - Dk\\theta, C(0) = 0 \\\\\n",
    "    D_{\\tau} = -iu/2 - u^2/2 + D(-k + \\rho \\sigma iu) + D^2 \\sigma^2/2, D(0) = 0\n",
    "\\end{cases}\n",
    "$$For $D$ we have Riccati equation:\n",
    "$$\n",
    "D' = \\alpha + D \\beta + D^2 \\gamma\n",
    "$$ where $\\alpha = -iu/2 - u^2/2, \\beta = \\rho \\sigma iu - k, \\gamma = \\sigma^2/2$\n",
    "\n",
    "Let $d = \\sqrt{\\beta^2 - 4\\alpha\\gamma}$ and $r_{\\pm} = \\dfrac{\\beta \\pm d}{2}$ and $g = \\dfrac{r_{+}}{r_-}$\n",
    "\n",
    "Then:\n",
    "\n",
    "$$\n",
    "\\begin{cases}\n",
    "D = \\dfrac{-r_+}{\\sigma^2} \\dfrac{1-e^{-d\\tau}}{1-ge^{-d\\tau}}\\\\\n",
    "C = riu\\tau + \\dfrac{k\\theta}{\\sigma^2} \\left[ -r_+ \\tau - 2\\ln\\left( \\dfrac{1-ge^{-d\\tau}}{1-g} \\right) \\right]\n",
    "\\end{cases}\n",
    "$$\n",
    "\n",
    "If $\\phi(u)$ is characteristic function for $X_T$ then:\n",
    "$$\n",
    "F_{X_T}(x) = \\dfrac{1}{2} - \\dfrac{1}{\\pi} \\int\\limits_{0}^{\\infty} \\Re \\left( \\dfrac{e^{-iux}\\phi(u)}{iu} \\right) du\n",
    "$$Then our probabilities can be computed as follow:\n",
    "$$\n",
    "p = \\dfrac{1}{2} + \\dfrac{1}{\\pi} \\int\\limits_{0}^{\\infty} \\Re \\left( \\dfrac{e^{-iu\\ln K}\\phi(u)}{iu} \\right) \\\\\n",
    "\\tilde{p} = \\dfrac{1}{2} + \\dfrac{1}{\\pi} \\int\\limits_{0}^{\\infty} \\Re \\left( \\dfrac{e^{-iu\\ln K}\\tilde{\\phi}(u)}{iu} \\right)\n",
    "$$"
   ]
  },
  {
   "cell_type": "markdown",
   "id": "98df1ccc",
   "metadata": {},
   "source": [
    "Formaly, this integral doesn't have "
   ]
  },
  {
   "cell_type": "markdown",
   "id": "a6bbfc5b",
   "metadata": {},
   "source": [
    "Let $c(k) = e^{\\alpha k}e^{-rT} \\mathbb{E} \\left( e^{X_T} - e^{k} \\right)^+$ Let $\\phi(u)$ -- characteristic function of $X_T$. Let $\\psi(u) = \\int_{\\mathbb{R}} c(k)e^{iku}du$ -- fourier transform of $c(k)$. Then we can express $\\psi(u)$ in terms of $\\phi(u)$. We add multiplier $e^{\\alpha k}$ in order for $c(k)$ to be integrable over negative part of real line. Let also $p_T(x)$ be the probability density of the process $X_T$. We can express the expectation as integral with this density as follow:\n",
    "$$\n",
    "\\psi(u) = \\int_{\\mathbb{R}} c(k)e^{iku}du = e^{-rT}\\int_{\\mathbb{R}} du e^{iku + \\alpha k} \\int_{k}^{\\infty} dk p_T(x) (e^{x}-e^{k})\n",
    "$$Let us change the order of integration\n",
    "$$\n",
    "k \\in (-\\infty, \\infty), x \\in (k, \\infty) \\to x \\in (-\\infty, \\infty), k \\in (-\\infty, x)\n",
    "$$Then:\n",
    "$$\n",
    "\\psi(u) =e^{-rT}\\int_{\\mathbb{R}} dx p_T(x) \\int_{-\\infty}^{x} dk e^{iku + \\alpha k} (e^{x}-e^{k})\n",
    "$$\n",
    "$$\n",
    "\\int_{-\\infty}^{x} dk e^{iku + \\alpha k} (e^{x}-e^{k}) = e^{x(iu + \\alpha + 1)} \\left( \\dfrac{1}{iu + \\alpha} - \\dfrac{1}{iu + \\alpha + 1}  \\right)\n",
    "= \\dfrac{e^{x(iu + \\alpha + 1)}}{\\alpha^2 + \\alpha - u^2 + iu(2\\alpha + 1)}\n",
    "$$So we have:\n",
    "$$\n",
    "\\psi(u) =\\dfrac{e^{-rT}}{\\alpha^2 + \\alpha - u^2 + iu(2\\alpha + 1)}\\int_{\\mathbb{R}} dx p_T(x) e^{x(iu + \\alpha + 1)} = \\dfrac{e^{-rT} \\phi(u - i(\\alpha + 1))}{\\alpha^2 + \\alpha - u^2 + iu(2\\alpha + 1)}\n",
    "$$since $x(iu + \\alpha + 1) = ix(u -i(\\alpha - 1))$. So for option price we have following formula:\n",
    "$$\n",
    "c(k) = \\dfrac{1}{2\\pi} \\int_{-\\infty}^{\\infty} e^{-iku} \\psi(u) du\n",
    "$$\n",
    "\n",
    "Since $c(k) \\in \\mathbb{R}$, then \\psi(-u) = \\phi(u)^*$ and we can show that\n",
    "\n",
    "$$\n",
    "c(k) = \\dfrac{1}{\\pi} \\Re \\int_{0}^{\\infty} e^{-iku} \\psi(u) du\n",
    "$$\n",
    "\n",
    "In order to calculate this integral consider the finite interval $u \\in [0, U]$ with $N+1$ points and constant step $h$. We are going to use mid-point rule for integration, so let us consider points;\n",
    "$$\n",
    "u_j = (j + 0.5) h, j=0, \\ldots, N-1; u_{N-1} = U-h/2 \\to (N-0.5) h = U-0.5h \\to h = \\dfrac{U}{N}\n",
    "$$\n",
    "\n",
    "$$I \\sim \\int_{0}^{U} e^{-iku} \\psi(u) du \\sim \\sum_{j=0}^{N-1} e^{-ikh*j}e^{-ikh*0.5}\\psi(u_j) h = z^{0.5} \\sum_{j=0}^{N-1} z^{j} \\psi(u_j) h$$\n",
    "where $z = e^{-ikh} = z(k)$. That is the polynomial representation of function $c(k)$, we can evaluate this for arbitrary $k$ using for example Horner scheme. It is well known that we can calculate the values of polynomial at $N$ points at unit circle with FFT. Consider points:\n",
    "$$\n",
    "k_l = -Nh_k + (l+0.5)h_k\n",
    "$$Then:\n",
    "$$\n",
    "z_l = e^{-ik_l h} = e^{i N h_k h}e^{-i h h_k l}e^{-0.5 i h h_k}\n",
    "$$\n",
    "Let $h h_k = \\dfrac{2\\pi}{N}$. Then\n",
    "$$\n",
    "z_l = e^{-\\frac{2\\pi i}{N} l}e^{-i \\frac{\\pi}{N}}\n",
    "$$\n",
    "$$\n",
    "I_l = \\sqrt{z_l} \\sum_{j=0}^{N-1} z^{j}_l \\psi(u_j) h\n",
    "= \\sqrt{z_l} \\sum_{j=0}^{N-1} e^{-\\frac{2\\pi i}{N} lj} e^{-i \\frac{\\pi}{N}j}\\psi(u_j) h\n",
    "= \\sqrt{z_l} \\text{DFT}\\left( e^{-i \\frac{\\pi}{N}j}\\psi(u_j) h \\right)\n",
    "$$\n",
    "\n",
    "Finaly, we have:\n",
    "\n",
    "$$\n",
    "C(k_l) = \\exp(-\\alpha k_l) \\dfrac{h}{\\pi} \\Re \\left[ \\sqrt{z_l} \\text{DFT}\\left( e^{-i \\frac{\\pi}{N}j}\\psi(u_j)  \\right) \\right]\n",
    "$$"
   ]
  },
  {
   "cell_type": "code",
   "execution_count": 8,
   "id": "469d70a0",
   "metadata": {},
   "outputs": [],
   "source": [
    "from sys import path\n",
    "path.append('../../heston/')"
   ]
  },
  {
   "cell_type": "code",
   "execution_count": 9,
   "id": "4bf15618",
   "metadata": {},
   "outputs": [],
   "source": [
    "from montecarlo import *\n",
    "from heston import *\n",
    "\n",
    "from matplotlib import pyplot as plt"
   ]
  },
  {
   "cell_type": "code",
   "execution_count": 10,
   "id": "ce8566dc",
   "metadata": {},
   "outputs": [],
   "source": [
    "r = 0.025\n",
    "k = 2.5\n",
    "sig = 0.1\n",
    "theta = 0.015\n",
    "rho = -0.05\n",
    "\n",
    "\n",
    "S0 = 1.0\n",
    "K = 1.0\n",
    "T = 15.5\n",
    "\n",
    "Kn = K * np.exp( np.linspace(-np.log(15), np.log(15), 100) )\n",
    "\n",
    "Kn = Kn.reshape(-1, 1)\n",
    "\n",
    "\n",
    "\n",
    "\n",
    "Nt = 100\n",
    "Nu = 100\n",
    "tn = np.linspace(0, T, Nt)\n",
    "\n",
    "v0 = 0.0175\n",
    "x0 = np.log(S0)"
   ]
  },
  {
   "cell_type": "code",
   "execution_count": 11,
   "id": "ca561d1b",
   "metadata": {},
   "outputs": [],
   "source": [
    "C1 = getOptionPrice(S0, Kn, Nu, T, r, k, sig, theta, rho, v0)\n",
    "\n",
    "C2 = getOptionPrice(S0, Kn, 2 * Nu, T, r, k, sig, theta, rho, v0)\n",
    "\n",
    "C3 = getOptionPrice(S0, Kn, 4 * Nu, T, r, k, sig, theta, rho, v0)\n",
    "\n",
    "\n",
    "R1 = (C2 - C1) / 3.0\n",
    "R2 = (C3 - C2) / 3.0\n",
    "\n",
    "C22 = C2 + R1\n",
    "C32 = C3 + R2\n",
    "\n",
    "R = (C32 - C22) / 15.0\n",
    "\n",
    "C = C32 + R"
   ]
  },
  {
   "cell_type": "code",
   "execution_count": 12,
   "id": "a78e42c6",
   "metadata": {},
   "outputs": [],
   "source": [
    "Npath = 5000\n",
    "\n",
    "v, x = generate_path_chi(r, k, sig, theta, rho, x0, v0, tn, Npath)\n",
    "\n",
    "S = np.exp(x)\n",
    "S = (S - np.mean(S)) + S0 * np.exp(r * T)\n",
    "\n",
    "S = S.reshape(1, -1)\n",
    "\n",
    "payoffs = np.maximum( S - Kn.reshape(-1, 1), 0.0 )\n",
    "\n",
    "C2 = np.exp(-r * T) * np.mean(payoffs, axis=1)"
   ]
  },
  {
   "cell_type": "code",
   "execution_count": 13,
   "id": "1a5af833",
   "metadata": {},
   "outputs": [],
   "source": [
    "C3 = BlackSholes(Kn, S0, T, r, theta, k, v0).reshape(-1)"
   ]
  },
  {
   "cell_type": "code",
   "execution_count": 14,
   "id": "471b34c0",
   "metadata": {},
   "outputs": [],
   "source": [
    "C4, Knfft = getOptionPriceFFT(S0, Kn, Nu, T, r, k, sig, theta, rho, v0)"
   ]
  },
  {
   "cell_type": "code",
   "execution_count": 15,
   "id": "6b32c7d7",
   "metadata": {},
   "outputs": [
    {
     "data": {
      "text/plain": [
       "(68,)"
      ]
     },
     "execution_count": 15,
     "metadata": {},
     "output_type": "execute_result"
    }
   ],
   "source": [
    "C4.shape"
   ]
  },
  {
   "cell_type": "code",
   "execution_count": 16,
   "id": "2565345e",
   "metadata": {},
   "outputs": [
    {
     "data": {
      "image/png": "[encoded data removed]",
      "text/plain": [
       "<Figure size 432x288 with 1 Axes>"
      ]
     },
     "metadata": {
      "needs_background": "light"
     },
     "output_type": "display_data"
    }
   ],
   "source": [
    "plt.plot(Knfft, C4, label='DFT')\n",
    "plt.grid()"
   ]
  },
  {
   "cell_type": "code",
   "execution_count": 17,
   "id": "b0e95c17",
   "metadata": {},
   "outputs": [
    {
     "data": {
      "text/plain": [
       "Text(0, 0.5, 'Call price')"
      ]
     },
     "execution_count": 17,
     "metadata": {},
     "output_type": "execute_result"
    },
    {
     "data": {
      "image/png": "[encoded data removed]",
      "text/plain": [
       "<Figure size 432x288 with 1 Axes>"
      ]
     },
     "metadata": {
      "needs_background": "light"
     },
     "output_type": "display_data"
    }
   ],
   "source": [
    "plt.plot(Kn, C1, label='Heston')\n",
    "plt.plot(Kn, C2, label='Monte Carlo')\n",
    "plt.plot(Kn, C3, label='BlackSholes')\n",
    "plt.plot(Knfft, C4, '.r', label='DFT')\n",
    "\n",
    "plt.legend()\n",
    "plt.grid()\n",
    "plt.xlabel(\"Strike\")\n",
    "plt.ylabel(\"Call price\")"
   ]
  }
 ],
 "metadata": {
  "kernelspec": {
   "display_name": "ubiquant_kaggle",
   "language": "python",
   "name": "ubiquant_kaggle"
  },
  "language_info": {
   "codemirror_mode": {
    "name": "ipython",
    "version": 3
   },
   "file_extension": ".py",
   "mimetype": "text/x-python",
   "name": "python",
   "nbconvert_exporter": "python",
   "pygments_lexer": "ipython3",
   "version": "3.8.12"
  }
 },
 "nbformat": 4,
 "nbformat_minor": 5
}
