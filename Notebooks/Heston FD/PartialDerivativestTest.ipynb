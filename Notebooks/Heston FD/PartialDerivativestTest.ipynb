{
 "cells": [
  {
   "cell_type": "code",
   "execution_count": 1,
   "id": "fb4b8277",
   "metadata": {},
   "outputs": [],
   "source": [
    "from sys import path\n",
    "path.append('../../finite differences/')"
   ]
  },
  {
   "cell_type": "code",
   "execution_count": 2,
   "id": "14e4a2d3",
   "metadata": {},
   "outputs": [],
   "source": [
    "from derivatives import *\n",
    "\n",
    "from matplotlib import pyplot as plt"
   ]
  },
  {
   "cell_type": "code",
   "execution_count": 3,
   "id": "5eab9871",
   "metadata": {},
   "outputs": [],
   "source": [
    "def get_error(N, der, f, fx, fy, fxx, fyy, fxy, xi, dxi=None):\n",
    "    tnx = np.linspace(0, 1, N + 1)\n",
    "    tny = np.linspace(0, 1, 2 * N + 1)\n",
    "    xn = xi(tnx).reshape(-1, 1)\n",
    "    yn = xi(tny).reshape(1, -1)\n",
    "    \n",
    "    taux = tnx[1] - tnx[0]\n",
    "    tauy = tny[1] - tny[0]\n",
    "    hx = np.diff(xn)\n",
    "    hy = np.diff(yn)\n",
    "    if not dxi is None:\n",
    "        hx = taux * dxi( tnx[:-1] + taux / 2.0 ).reshape(-1, 1)\n",
    "        hy = tauy * dxi( tny[:-1] + tauy / 2.0 ).reshape(1, -1)\n",
    "    h1 = hx[:-1]\n",
    "    h2 = hx[1:]\n",
    "    \n",
    "    d1 = hy[0, :-1]\n",
    "    d2 = hy[0, 1:]\n",
    "    \n",
    "    u = f(xn, yn)\n",
    "    ux = der.Dx(u, h1, h2)\n",
    "    uy = der.Dy(u, d1, d2)\n",
    "    uxx = der.D2x(u, h1, h2)\n",
    "    uyy = der.D2y(u, d1, d2)\n",
    "    uxy = der.Dxy(u, h1, h2, d1, d2)\n",
    "    \n",
    "    ux_ = fx(xn, yn)\n",
    "    uy_ = fy(xn, yn)\n",
    "    \n",
    "    uxx_ = fxx(xn, yn)\n",
    "    uyy_ = fyy(xn, yn)\n",
    "    uxy_ = fxy(xn, yn)\n",
    "    \n",
    "    ux_[0, :] = 0.0\n",
    "    ux_[:, 0] = 0.0\n",
    "    ux_[-1, :] = 0.0\n",
    "    ux_[:, -1] = 0.0\n",
    "\n",
    "    uy_[0, :] = 0.0\n",
    "    uy_[:, 0] = 0.0\n",
    "    uy_[-1, :] = 0.0\n",
    "    uy_[:, -1] = 0.0\n",
    "    \n",
    "    uxx_[0, :] = 0.0\n",
    "    uxx_[:, 0] = 0.0\n",
    "    uxx_[-1, :] = 0.0\n",
    "    uxx_[:, -1] = 0.0\n",
    "    \n",
    "    uyy_[0, :] = 0.0\n",
    "    uyy_[:, 0] = 0.0\n",
    "    uyy_[-1, :] = 0.0\n",
    "    uyy_[:, -1] = 0.0\n",
    "    \n",
    "    uxy_[0, :] = 0.0\n",
    "    uxy_[:, 0] = 0.0\n",
    "    uxy_[-1, :] = 0.0\n",
    "    uxy_[:, -1] = 0.0\n",
    "    \n",
    "    errx = np.linalg.norm(ux - ux_) / np.linalg.norm(ux_)\n",
    "\n",
    "    erry = np.linalg.norm(uy - uy_) / np.linalg.norm(uy_)\n",
    "    \n",
    "    errxx = np.linalg.norm(uxx - uxx_) / np.linalg.norm(uxx_)\n",
    "    erryy = np.linalg.norm(uyy - uyy_) / np.linalg.norm(uyy_)\n",
    "    errxy = np.linalg.norm(uxy - uxy_) / np.linalg.norm(uxy_)\n",
    "    \n",
    "    return errx, erry, errxx, erryy, errxy"
   ]
  },
  {
   "cell_type": "code",
   "execution_count": 4,
   "id": "83d40cd6",
   "metadata": {},
   "outputs": [],
   "source": [
    "n = 1\n",
    "xi = lambda t: t ** n\n",
    "dxi = lambda t: n * (t ** (n-1))\n",
    "f = lambda x, y: np.sin(x ** 2 + y ** 2)\n",
    "fx = lambda x, y: 2 * x * np.cos(x ** 2 + y ** 2)\n",
    "fy = lambda x, y: 2 * y * np.cos(x ** 2 + y ** 2)\n",
    "\n",
    "fxx = lambda x, y: 2 * np.cos(x ** 2 + y ** 2) - 4 * x ** 2 * np.sin(x ** 2 + y ** 2)\n",
    "fyy = lambda x, y: 2 * np.cos(x ** 2 + y ** 2) - 4 * y ** 2 * np.sin(x ** 2 + y ** 2)\n",
    "fxy = lambda x, y: -4 * x * y * np.sin(x ** 2 + y ** 2)\n",
    "\n",
    "aa = 0.999\n",
    "#xi = lambda t: 1 / (1 - aa * t) - 1.0\n",
    "#dxi = lambda t: aa / (1 - aa * t) ** 2\n",
    "#f = lambda x, y: np.exp(-x - y)\n",
    "#fx = lambda x, y: -np.exp(-x - y)\n",
    "#fy = lambda x, y: -np.exp(-x - y)\n",
    "\n",
    "#fxx = lambda x, y: np.exp(-x - y)\n",
    "#fyy = lambda x, y: np.exp(-x - y)\n",
    "#fxy = lambda x, y: np.exp(-x - y)\n",
    "\n",
    "N = 2\n",
    "\n",
    "errx = []\n",
    "erry = []\n",
    "errxx = []\n",
    "erryy = []\n",
    "errxy = []\n",
    "\n",
    "Ns = []\n",
    "der = DerFwdXY()\n",
    "for i in range(10):\n",
    "    _errx, _erry, _errxx, _erryy, _errxy = get_error(N, der, f, fx, fy, fxx, fyy, fxy, xi, dxi)\n",
    "    \n",
    "    errx.append(_errx)\n",
    "    erry.append(_erry)\n",
    "    errxx.append(_errxx)\n",
    "    erryy.append(_erryy)\n",
    "    errxy.append(_errxy)\n",
    "    \n",
    "    Ns.append(N)\n",
    "    \n",
    "    N *= 2\n",
    "errx = np.asarray(errx)\n",
    "erry = np.asarray(erry)\n",
    "errxx = np.asarray(errxx)\n",
    "erryy = np.asarray(erryy)\n",
    "errxy = np.asarray(errxy)"
   ]
  },
  {
   "cell_type": "code",
   "execution_count": 5,
   "id": "12b68e6a",
   "metadata": {},
   "outputs": [
    {
     "data": {
      "text/plain": [
       "<matplotlib.legend.Legend at 0x7f41754d18e0>"
      ]
     },
     "execution_count": 5,
     "metadata": {},
     "output_type": "execute_result"
    },
    {
     "data": {
      "image/png": "[encoded data removed]",
      "text/plain": [
       "<Figure size 432x288 with 1 Axes>"
      ]
     },
     "metadata": {
      "needs_background": "light"
     },
     "output_type": "display_data"
    }
   ],
   "source": [
    "plt.loglog(Ns, errx, '-o', label='x')\n",
    "plt.loglog(Ns, erry, '-o', label='y')\n",
    "plt.loglog(Ns, errxx, '-o', label='xx')\n",
    "plt.loglog(Ns, erryy, '-o', label='yy')\n",
    "plt.loglog(Ns, errxy, '-o', label='xy')\n",
    "plt.grid()\n",
    "plt.legend()"
   ]
  },
  {
   "cell_type": "code",
   "execution_count": 6,
   "id": "3c8e3493",
   "metadata": {},
   "outputs": [
    {
     "name": "stdout",
     "output_type": "stream",
     "text": [
      "0.9890695015795464 0.01191688121440083\n",
      "0.9932520754363456 0.007228655302771185\n",
      "2.016223048177571 0.016779200293082462\n",
      "2.0093039549104414 0.009717075299387666\n",
      "1.9893709283321235 0.010048802834250008\n"
     ]
    }
   ],
   "source": [
    "for err in [errx, erry, errxx, erryy, errxy]:\n",
    "    peff = np.log(err[:-1] / err[1:]) / np.log(2.0)\n",
    "    peff = peff[3:]\n",
    "    print(np.mean(peff), np.std(peff))"
   ]
  },
  {
   "cell_type": "code",
   "execution_count": 7,
   "id": "ee05a908",
   "metadata": {},
   "outputs": [],
   "source": [
    "from solver import *\n",
    "from boundary_conditions import Neuman, Dirichle, Boundary2D"
   ]
  },
  {
   "cell_type": "code",
   "execution_count": 8,
   "id": "9d5bbdaa",
   "metadata": {},
   "outputs": [],
   "source": [
    "T = 1.0"
   ]
  },
  {
   "cell_type": "code",
   "execution_count": 9,
   "id": "899fa8c2",
   "metadata": {},
   "outputs": [],
   "source": [
    "def gridX(Nx):\n",
    "    xn = np.linspace(0, np.pi, Nx + 1)\n",
    "    hx = np.diff(xn)\n",
    "    return xn, hx\n",
    "\n",
    "def gridY(Ny):\n",
    "    xn = np.linspace(0, np.pi, Ny + 1)\n",
    "    hx = np.diff(xn)\n",
    "    return xn, hx\n",
    "\n",
    "def gridT(Nt):\n",
    "    return np.linspace(0, T, Nt + 1)"
   ]
  },
  {
   "cell_type": "code",
   "execution_count": 10,
   "id": "821678de",
   "metadata": {},
   "outputs": [],
   "source": [
    "init = lambda x, y: np.cos(x) * np.cos(y)\n",
    "\n",
    "mux = lambda x, y: 0.0\n",
    "muy = lambda x, y: 0.0 \n",
    "\n",
    "sigmax = lambda x, y: 1.0\n",
    "sigmay = lambda x, y: 1.0\n",
    "sigmaxy = lambda x, y: 0.0"
   ]
  },
  {
   "cell_type": "code",
   "execution_count": 11,
   "id": "60881a3f",
   "metadata": {},
   "outputs": [],
   "source": [
    "Xleft = Neuman(lambda x, t: 0.0)\n",
    "\n",
    "Xright = Neuman(lambda x, t: 0.0)\n",
    "\n",
    "Yleft = Neuman(lambda x, t: 0.0)\n",
    "\n",
    "Yright = Neuman(lambda x, t: 0.0)\n",
    "\n",
    "boundary = Boundary2D(Xleft, Xright, Yleft, Yright)"
   ]
  },
  {
   "cell_type": "code",
   "execution_count": 12,
   "id": "d0d23c4f",
   "metadata": {},
   "outputs": [],
   "source": [
    "problem = Problem(boundary, init, mux, muy, sigmax, sigmay, sigmaxy)"
   ]
  },
  {
   "cell_type": "code",
   "execution_count": 13,
   "id": "1834412f",
   "metadata": {},
   "outputs": [],
   "source": [
    "der = DerCntrl()"
   ]
  },
  {
   "cell_type": "code",
   "execution_count": 14,
   "id": "77921bc3",
   "metadata": {},
   "outputs": [],
   "source": [
    "solver = ADI_MCS(problem, der, gridX, gridY, gridT)"
   ]
  },
  {
   "cell_type": "code",
   "execution_count": 15,
   "id": "d96dad8a",
   "metadata": {},
   "outputs": [],
   "source": [
    "def get_error(Nx, Ny, M, solver):\n",
    "    xn, _ = gridX(Nx)\n",
    "    yn, _ = gridY(Ny)\n",
    "    res = solver.solve(Nx, Ny, M)\n",
    "    \n",
    "    xgrid, ygrid = np.meshgrid(xn, yn, indexing='ij')\n",
    "    analit = np.exp(-2 * T) * np.cos(xgrid) * np.cos(ygrid)\n",
    "    res = solver.solve(Nx, Ny, M)\n",
    "    \n",
    "    \n",
    "    error = np.linalg.norm(res[-1] - analit) / np.linalg.norm(analit) * 100\n",
    "    return error"
   ]
  },
  {
   "cell_type": "code",
   "execution_count": 16,
   "id": "6c0db7f8",
   "metadata": {},
   "outputs": [
    {
     "data": {
      "text/plain": [
       "0.027153513834754978"
      ]
     },
     "execution_count": 16,
     "metadata": {},
     "output_type": "execute_result"
    }
   ],
   "source": [
    "get_error(100, 100, 20, solver)"
   ]
  },
  {
   "cell_type": "code",
   "execution_count": 17,
   "id": "4fe17d97",
   "metadata": {},
   "outputs": [],
   "source": [
    "Nx = 400\n",
    "Ny = 400\n",
    "M = 2\n",
    "err = []\n",
    "Ms = []\n",
    "for i in range(6):\n",
    "    error = get_error(Nx, Ny, M, solver)\n",
    "    \n",
    "    err.append(error)\n",
    "    \n",
    "    Ms.append(M)\n",
    "    \n",
    "    M *= 2"
   ]
  },
  {
   "cell_type": "code",
   "execution_count": 18,
   "id": "38e95d23",
   "metadata": {},
   "outputs": [],
   "source": [
    "err = np.asarray(err)\n",
    "Ms = np.asarray(Ms)"
   ]
  },
  {
   "cell_type": "code",
   "execution_count": 19,
   "id": "b6b1f931",
   "metadata": {},
   "outputs": [
    {
     "data": {
      "image/png": "[encoded data removed]",
      "text/plain": [
       "<Figure size 720x360 with 1 Axes>"
      ]
     },
     "metadata": {
      "needs_background": "light"
     },
     "output_type": "display_data"
    }
   ],
   "source": [
    "plt.figure(figsize=(10, 5))\n",
    "plt.loglog(Ms, err, '-ok')\n",
    "plt.grid()"
   ]
  }
 ],
 "metadata": {
  "kernelspec": {
   "display_name": "Python [conda env:ubiquant_kaggle] *",
   "language": "python",
   "name": "conda-env-ubiquant_kaggle-py"
  },
  "language_info": {
   "codemirror_mode": {
    "name": "ipython",
    "version": 3
   },
   "file_extension": ".py",
   "mimetype": "text/x-python",
   "name": "python",
   "nbconvert_exporter": "python",
   "pygments_lexer": "ipython3",
   "version": "3.8.12"
  }
 },
 "nbformat": 4,
 "nbformat_minor": 5
}
