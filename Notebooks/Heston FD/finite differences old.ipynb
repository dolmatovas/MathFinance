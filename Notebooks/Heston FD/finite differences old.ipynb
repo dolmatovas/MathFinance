{
 "cells": [
  {
   "cell_type": "markdown",
   "id": "5d7be56a",
   "metadata": {},
   "source": [
    "Вторая версия, код в отдельном файле. Для каждой схемы ADI своя функция"
   ]
  },
  {
   "cell_type": "markdown",
   "id": "42538e64",
   "metadata": {},
   "source": [
    "Heston model:\n",
    "$$\n",
    "\\begin{cases}\n",
    "&\\dfrac{dS_t}{S_t} = r dt + \\sqrt{v} dW^1_t\\\\\n",
    "&d v_t = \\kappa(\\theta - v_t) dt + \\sigma \\sqrt{v} dW^2_t\\\\\n",
    "&S_t = s, v_t = v; dW^1dW^2 = \\rho dt\n",
    "\\end{cases}\n",
    "$$\n",
    "In this variables PDE for put option price read as follow:\n",
    "$$\n",
    "\\begin{cases}\n",
    "&V_t + s r V_s + \\kappa (\\theta - v) V_v + 0.5 s^2 v V_{ss} + 0.5 \\sigma^2 v V_{vv} + \\rho S \\sigma v V_{sv} = rV, s \\geq 0, v \\geq 0, 0 \\leq t \\leq T\\\\\n",
    "&V(T, s, v) = G(s, v) = (K-s)^+\\\\\n",
    "&V(t, 0, v) = K\\\\\n",
    "&V(t, \\infty, v) = 0\\\\\n",
    "&V_v(t, s, 0) = V_v(t, s, \\infty) = 0\n",
    "\\end{cases}\n",
    "$$\n",
    "Consider the following variable transformition:\n",
    "$$\n",
    "X_t = \\log S_t - \\log K, v_t = y_t \\sigma\n",
    "$$\n",
    "In new variables:\n",
    "$$\n",
    "\\begin{cases}\n",
    "&d X_t = (r - 0.5 y_t \\sigma) dt + \\sqrt{\\sigma y_t} dW^1_t \\\\\n",
    "&d y_t = \\kappa \\dfrac{\\theta - y_t \\sigma}{\\sigma} + \\sqrt{\\sigma y_t} dW^2_t\n",
    "\\end{cases}\n",
    "$$In this variables PDE reads as follow:\n",
    "$$\n",
    "V_t + (r-0.5 y\\sigma) V_x + \\kappa \\dfrac{\\theta - y \\sigma}{\\sigma} V_y + 0.5 \\sigma y (V_{xx} + V_{yy}) + \\rho \\sigma y_t V_{xy} = r V\n",
    "$$\n",
    "Consider change $t = T-t, H = e^{rt}V / K$, then we have:\n",
    "$$\n",
    "\\begin{cases}\n",
    "&H_t = (r-0.5 y\\sigma) H_x + \\kappa \\dfrac{\\theta - y \\sigma}{\\sigma} H_y + 0.5 \\sigma y (H_{xx} + H_{yy}) + \\rho \\sigma y_t H_{xy}\\\\\n",
    "&H(0, x, y) = (1-e^{x})^+\\\\\n",
    "&H(t, -\\infty, v) = 1\\\\\n",
    "&H(t, \\infty, v) = 0\\\\\n",
    "&H_y(t, x, 0) = H_y(t, x, \\infty) = 0\n",
    "\\end{cases}\n",
    "$$"
   ]
  },
  {
   "cell_type": "markdown",
   "id": "1f1a8457",
   "metadata": {},
   "source": [
    "Ограничим области до прямоугольника $x \\in [-X, X], y\\in [0, Y]$. Условия на бесконечности перенесём в конечную точку, при этом положим $H(t, -X, y) = 1-e^{-X}$, что вполне логично, так как если $x = -X$, то опцион глубоко в деньгах, и с вероятностью, близкой к единице он будет исполнен. Для удобства будем обозначать неизвестную функцию на текущем слое через $u$, а на следующем через $\\hat{u}$. Для индексации пространственных переменных $x, y$ будем использовать соответственно индексы $n, m$. По умолчанию подразумеваются индексы $n, m$. \n",
    "\n",
    "Введём сеточные функции $u_{n, m}(t) = u(t) = H(t, x_n, y_m)$. Аппроксимируем производные в правой части конечными разностями, получим выражение:\n",
    "$$\\begin{cases}\n",
    "&\\dfrac{du}{dt} = \\mu_x u_x + \\mu_y u_y + 0.5 \\sigma y (u_{xx} + u_{yy}) + \\rho \\sigma y u_{xy} = F(u)\\\\\n",
    "&u(0) = \\left( 1 - e^{x_n}\\right)^+\\\\\n",
    "&u_{0, m} = 1-e^{-X}, m=\\overline{0, M}\\\\\n",
    "&u_{N, m} = 0, m=\\overline{0, M}\\\\\n",
    "&u_{n, 0} = u_{n, 1}, n=\\overline{0, N}\\\\\n",
    "&u_{n, M-1} = u_{n, M}, n=\\overline{0, N}\n",
    "\\end{cases}\n",
    "$$Получили ОДУ. Построим явную схему, например, схему эйлера. На каждом шаге будем находить значения $u_{n, m}$ при $n\\in \\{1, N-1\\}, m\\in \\{1, M-1\\}$, затем будем восстанавливать граничные условия. Для схемы эйлера получим:\n",
    "$$\n",
    "\\hat{u} = u + \\tau * F(u)\n",
    "$$где $\\tau$ -- шаг по времени. Аналогично можно построить схему более высокого порядка, например схему Рунге-Кутты 4 порядка по времени. Главный недостаток явных схем является их условная устойчивость, они накладывают ограничения на шаг по времени $\\tau \\leq h^2$. Поэтому на практике они не применимы. Неявные схемы применять сложно, так как при переходе со слоя на слой приходится решать слау порядка $N_x N_y$.\n",
    "\n",
    "Запишем правую часть в виде:\n",
    "$$\n",
    "F(u) = \\Lambda_x u + \\Lambda_y y + \\Lambda_{xy}\n",
    "$$где в оператор $\\Lambda_x$ вошли производные по $x$, в $\\Lambda_y$ -- по $y$, а $\\Lambda_{xy}$ соответствует смешанной частной производной. Мы уже знаем, как решать задачу, когда $\\Lambda_{xy} = 0$, это стандартный метод переменных направлений (alternating direction method). Покажем, как адаптировать его для данной задачи. Точное решение можно записать через матричную экспоненту:\n",
    "$$\n",
    "\\hat{u} = \\exp\\left( \\tau(\\Lambda_{x} + \\Lambda_{y} + \\Lambda_{xy}) \\right) u \n",
    "\\approx \\exp(\\tau(\\Lambda_{x} + \\Lambda_{y}))  \\exp(\\tau \\Lambda_{xy}) u\n",
    "$$Это равенство верно лишь приближённо, так как операторы не коммутируют. Видно, что такая запись оператора перехода соответствует тому, что мы вначале делаем шаг для уравнения, у которого в правой части стоит только $\\Lambda_{xy}$, а затем делаем ещё один шаг, в котором в правой части смешанных производных нет. Для решения задачи с оператором $\\Lambda_{xy}$ мы будем использовать явную схему, так как тяжело построить экономичную неявную схему. Это соответствует тому, что экспонента аппроксиммируется следующим образом:\n",
    "$$\n",
    " \\exp(\\tau \\Lambda_{xy}) \\approx I + \\tau \\Lambda_{xy}\n",
    "$$\n",
    "Можно рассмотреть симметричный случай:\n",
    "$$\n",
    "\\exp\\left( \\tau(\\Lambda_{x} + \\Lambda_{y} + \\Lambda_{xy}) \\right) \n",
    "\\approx \\exp(0.5 \\tau \\Lambda_{xy})  \\exp(\\tau(\\Lambda_{x} + \\Lambda_{y}))  \\exp(0.5 \\tau \\Lambda_{xy}) u + O(\\tau^3)\n",
    "$$Нетрудно показать, что он даёт глобальную ошибку порядка $O(\\tau^2)$. \n",
    "\n",
    "Его мы и будем использовать. Таким образом, все вычисления, соответствующие смешанным производным, будут производиться по явным схемам. \n",
    "\n",
    "Запишем это всё так:\n",
    "\n",
    "$$\n",
    "\\begin{aligned}\n",
    "&y_1 = (I+ 0.5 \\tau \\Lambda_{xy}) u\\\\\n",
    "&(I - 0.5 \\tau \\Lambda_x) y_2 = (I + 0.5 \\tau \\Lambda_y) y_1\\\\\n",
    "&(I - 0.5 \\tau \\Lambda_y) y_3 = (I + 0.5 \\tau \\Lambda_x) y_2\\\\\n",
    "&\\hat{u} = (I + 0.5 \\tau \\Lambda_{xy}) y_3\n",
    "\\end{aligned}\n",
    "$$Матрицы $\\Lambda_x, \\Lambda_y$ трехдиагональны и не зависят от времени, так что для них можно один раз найти $LU$ разложение, а затем решать СЛАУ. Рассмотрим подробнее метод прогонки:\n",
    "\n",
    "$$\n",
    "\\Lambda_x = \\sigma_x \\dfrac{u_{n+1} - 2u_{n} + u_{n + 1}}{2 h_x^2} + \\mu_x \\dfrac{u_{n+1} - u_n}{2h_x}\n",
    "$$\n",
    "Таким образом, \n",
    "$$\\left[\\left(I - 0.5 \\tau \\Lambda_x\\right) z \\right]_n = \n",
    "    z_n     \\left(1 + \\dfrac{\\tau \\sigma_x}{2 h_x^2} \\right)\n",
    "  + z_{n-1} \\left( -\\dfrac{\\tau \\sigma_x }{4 h_x^2} + \\dfrac{\\tau \\mu_x}{4 h_x} \\right)\n",
    "  + z_{n+1} \\left( -\\dfrac{\\tau \\sigma_x }{4 h_x^2} - \\dfrac{\\tau \\mu_x}{4 h_x} \\right)\n",
    "$$То есть\n",
    "$$\n",
    "\\begin{aligned}\n",
    "&A^x_n = 1 + \\dfrac{\\tau \\sigma_x}{2 h_x^2} \\\\\n",
    "&B^x_n =  -\\dfrac{\\tau \\sigma_x }{4 h_x^2} - \\dfrac{\\tau \\mu_x}{4 h_x} \\\\\n",
    "&C^x_n =  -\\dfrac{\\tau \\sigma_x }{4 h_x^2} + \\dfrac{\\tau \\mu_x}{4 h_x}\n",
    "&\n",
    "\\end{aligned}\n",
    "$$коэффициенты трёхдиагональной системы, соответствующие направлению $x$. Так как по $x$ у нас условия Дирихле, их нужно дополнить граничными значениями \n",
    "$$\\begin{aligned}\n",
    "&A^x_0 = A^x_N = 1.0, \\\\\n",
    "&B^x_0 = C^x_{N} = 0.0, \\\\\n",
    "&F_0 = 1 - e^{-X}, F_N = 0.0\n",
    "\\end{aligned}\n",
    "$$Аналогично для направления $y$ имеем:\n",
    "$$\n",
    "\\begin{aligned}\n",
    "&A^y_n = 1 + \\dfrac{\\tau \\sigma_y}{2 h_y^2} \\\\\n",
    "&B^y_n =  -\\dfrac{\\tau \\sigma_y }{4 h_y^2} - \\dfrac{\\tau \\mu_y}{4 h_y} \\\\\n",
    "&C^y_n =  -\\dfrac{\\tau \\sigma_y }{4 h_y^2} + \\dfrac{\\tau \\mu_y}{4 h_y}\n",
    "\\end{aligned}\n",
    "$$И граничные условия:\n",
    "$$\\begin{aligned}\n",
    "&A^y_0 = A^y_N = 1.0, \\\\\n",
    "&B^y_0 = C^y_{N} = -1.0, \\\\\n",
    "&F_0 = F_N = 0.0\n",
    "\\end{aligned}\n",
    "$$\n",
    "\n",
    "На каждом шаге нам нужно будет лишь вызвать солвер прогонки с соответствующей правой частью и коэффициентами. Такой подход хорош тем, что он требует минимальных изменений при использовании неравномерной сетки: достаточно только поменять соответствующие коэффициенты $A, B, C$ и функцию вычисления правой части $F$."
   ]
  },
  {
   "cell_type": "code",
   "execution_count": null,
   "id": "408a17f9",
   "metadata": {},
   "outputs": [],
   "source": []
  },
  {
   "cell_type": "markdown",
   "id": "afba13b9",
   "metadata": {},
   "source": [
    "Во избежания путаницы с индексами, будем обозначать шаги по $x$ буквой $k$, шаги по $y$ буквой $\\delta$.\n",
    "\n",
    "Неравномерные сетки:\n",
    "\n",
    "$$\n",
    "u_x = \\dfrac{1}{h_1 + h_2} \\left( \\dfrac{h_1}{h_2} (\\hat{u} - u) + \\dfrac{h_2}{h_1} (u - \\check{u})  \\right)\n",
    "$$\n",
    "\n",
    "$$\n",
    "u_{xx} = \\dfrac{1}{h_1 + h_2} \\left( \\dfrac{\\hat{u} - u}{h_2} - \\dfrac{u - \\check{u}}{h_1} \\right)\n",
    "$$\n",
    "\n",
    "$$\n",
    "u_{xy} = \\dfrac{1}{h_1 + h_2} \\left( \\dfrac{h_1}{h_2} (\\hat{u}_y - u_y) + \\dfrac{h_2}{h_1} (u_y - \\check{u_y})  \\right)\n",
    "$$"
   ]
  },
  {
   "cell_type": "markdown",
   "id": "4494762d",
   "metadata": {},
   "source": [
    "Посчитаем теперь коэффициенты матрицы перехода $A_n, B_n, C_n:$\n",
    "$$\n",
    "    \\Lambda_x = \\sigma_x \\dfrac{0.5}{h_1 + h_2} \\left( \\dfrac{\\hat{u} - u}{h_2} - \\dfrac{u - \\check{u}}{h_1} \\right) + \\mu_x \\dfrac{1}{h_1 + h_2} \\left( \\dfrac{h_1}{h_2} (\\hat{u} - u) + \\dfrac{h_2}{h_1} (u - \\check{u})  \\right)\n",
    "    $$\n",
    "    Таким образом, \n",
    "    $$\\left[\\left(I - 0.5 \\tau \\Lambda_x\\right) z \\right]_n = \n",
    "        z_n     \\left(1 + \\dfrac{\\tau \\sigma_x}{2 h_x^2} \\right)\n",
    "      + z_{n-1} \\left( -\\dfrac{\\tau \\sigma_x }{4 h_x^2} + \\dfrac{\\tau \\mu_x}{4 h_x} \\right)\n",
    "      + z_{n+1} \\left( -\\dfrac{\\tau \\sigma_x }{4 h_x^2} - \\dfrac{\\tau \\mu_x}{4 h_x} \\right)\n",
    "    $$То есть\n",
    "    $$\n",
    "    \\begin{aligned}\n",
    "    &A = 1 + \\dfrac{\\tau}{2 h_1 h_2} \\left( \\sigma_x - \\mu(h_2 - h_1)  \\right) \\\\\n",
    "    &B =  -\\dfrac{\\tau}{2 h_2 (h_1+h_2)} \\left( \\sigma_x + h_1 \\mu_x \\right)\\\\\n",
    "    &C =  -\\dfrac{\\tau}{2 h_1 (h_1+h_2)} \\left( \\sigma_x - h_2 \\mu_x \\right)\n",
    "    &\n",
    "    \\end{aligned}\n",
    "$$\n",
    "\n",
    "Аналогично происходят вычисления для $y$."
   ]
  },
  {
   "cell_type": "code",
   "execution_count": null,
   "id": "ae05f986",
   "metadata": {},
   "outputs": [],
   "source": []
  },
  {
   "cell_type": "code",
   "execution_count": null,
   "id": "f952aabd",
   "metadata": {},
   "outputs": [],
   "source": []
  },
  {
   "cell_type": "code",
   "execution_count": null,
   "id": "f83e0165",
   "metadata": {},
   "outputs": [],
   "source": []
  },
  {
   "cell_type": "markdown",
   "id": "67ab0957",
   "metadata": {},
   "source": [
    "Допустим, мы знаем функцию $F(S) = (1-\\dfrac{S}{K_0})^+$, т.е. выплату опциона для фиксированного страйка, как функцию от переменной $S$. Хотим узнать, какому страйку это соответствует, при $S = S_0$. Имеем:\n",
    "$$\n",
    "\\dfrac{S}{K_0} = \\dfrac{S_0}{K}\n",
    "$$откуда $K = K_0 \\dfrac{S_0}{S}$. Таким образом, если есть ряд цен\n",
    "$$\n",
    "F(S_1), F(S_2), \\ldots, F(S_n)\n",
    "$$опционов со страйком $K_0$, их можно интепретировать, как ряд цен с ценой $S_0$ и страйком \n",
    "$$\n",
    "K_i = K_0 \\dfrac{S_0}{S_i}\n",
    "$$"
   ]
  },
  {
   "cell_type": "code",
   "execution_count": 2,
   "id": "7c75eb3c",
   "metadata": {},
   "outputs": [],
   "source": [
    "from sys import path\n",
    "path.append('../../heston/')"
   ]
  },
  {
   "cell_type": "code",
   "execution_count": 3,
   "id": "60c4ed79",
   "metadata": {},
   "outputs": [],
   "source": [
    "from explicit_schemes import *\n",
    "from utils import *\n",
    "from SLAE_solvers import *\n",
    "from ADI import *\n",
    "\n",
    "from matplotlib import pyplot as plt"
   ]
  },
  {
   "cell_type": "code",
   "execution_count": 4,
   "id": "7beaa49f",
   "metadata": {},
   "outputs": [],
   "source": [
    "from montecarlo import *\n",
    "from heston import *"
   ]
  },
  {
   "cell_type": "code",
   "execution_count": 5,
   "id": "8d355521",
   "metadata": {},
   "outputs": [],
   "source": [
    "#model params\n",
    "r = 0.025\n",
    "sigma = 0.3\n",
    "kappa = 1.5\n",
    "theta =  0.04\n",
    "rho = -0.9\n",
    "\n",
    "#Option params:\n",
    "K = 1.0\n",
    "T = 1.5\n",
    "\n",
    "#initial price\n",
    "S0 = 1.0\n",
    "#initial vol\n",
    "v0 = 0.0175\n",
    "\n",
    "#Grid params:\n",
    "Nx = 20\n",
    "\n",
    "Ny = 21\n",
    "\n",
    "M = 500"
   ]
  },
  {
   "cell_type": "code",
   "execution_count": 6,
   "id": "d1b82149",
   "metadata": {},
   "outputs": [],
   "source": [
    "def gridX(Nx):\n",
    "    \n",
    "    Smin = 0.1 * K\n",
    "    Smax = 3 * K\n",
    "    tn = np.linspace(0, 1, Nx + 1)\n",
    "    Sn = Smin + Smax * tn\n",
    "    xn = np.log(Sn / K)\n",
    "    hx = np.diff(xn)\n",
    "    return xn, hx\n",
    "\n",
    "def gridY(Ny):\n",
    "    Y = max(2.5, theta / sigma * 5.0)\n",
    "    yn = yn = Y * (np.linspace(0, 1, gridParams.Ny + 1) ** 3 )\n",
    "    hy = np.diff(yn)\n",
    "    return yn, hy\n",
    "\n",
    "def gridT(Nt):\n",
    "    return T * (np.linspace(0, 1.0, Nt + 1) ** 3)"
   ]
  },
  {
   "cell_type": "code",
   "execution_count": 7,
   "id": "67eb06e4",
   "metadata": {},
   "outputs": [],
   "source": [
    "hestonParams = HestonParams(r, sigma, kappa, theta, rho)\n",
    "\n",
    "optionParams = OptionParams(K, T)\n",
    "\n",
    "gridParams   = GridParams(Nx, Ny, M, S0, v0, gridX, gridY, gridT, 3.0)"
   ]
  },
  {
   "cell_type": "code",
   "execution_count": 8,
   "id": "84d80428",
   "metadata": {},
   "outputs": [],
   "source": [
    "def GetPFromU(u):\n",
    "    vn = yn * sigma\n",
    "\n",
    "    iy = np.where( vn <= v0 )[0][-1]\n",
    "    \n",
    "    H = 0.5 * (u[-1, :, iy] + u[-1, :, iy + 1])\n",
    "    return np.exp(-r * T) * K * H"
   ]
  },
  {
   "cell_type": "code",
   "execution_count": 9,
   "id": "c90358d7",
   "metadata": {},
   "outputs": [],
   "source": [
    "uDO = solve_alternating_direction_DO(hestonParams, optionParams, gridParams)\n",
    "uCS = solve_alternating_direction_CS(hestonParams, optionParams, gridParams)\n",
    "uMCS = solve_alternating_direction_MCS(hestonParams, optionParams, gridParams)\n",
    "\n",
    "xn, hx = gridX(Nx)\n",
    "yn, hy = gridY(Ny)\n",
    "tn = gridT(M)"
   ]
  },
  {
   "cell_type": "code",
   "execution_count": 10,
   "id": "dd3a0856",
   "metadata": {},
   "outputs": [],
   "source": [
    "Sn = K * np.exp(xn)\n",
    "\n",
    "pDO = GetPFromU(uDO)\n",
    "pCS = GetPFromU(uCS)\n",
    "pMCS = GetPFromU(uMCS)"
   ]
  },
  {
   "cell_type": "code",
   "execution_count": 11,
   "id": "5798af97",
   "metadata": {},
   "outputs": [],
   "source": [
    "Nu = 200\n",
    "P_exact = getOptionPrice(Sn, K, Nu, T, r, kappa, sigma, theta, rho, v0, False)\n",
    "#P_exact = P_exact[0]"
   ]
  },
  {
   "cell_type": "code",
   "execution_count": 12,
   "id": "ccd12a6b",
   "metadata": {},
   "outputs": [
    {
     "data": {
      "text/plain": [
       "array([8.63194413e-01, 7.13194415e-01, 5.63194425e-01, 4.13194414e-01,\n",
       "       2.63328231e-01, 1.33796530e-01, 6.43766207e-02, 3.27444885e-02,\n",
       "       1.77628791e-02, 1.02004598e-02, 6.14866242e-03, 3.86210945e-03,\n",
       "       2.51292025e-03, 1.68545187e-03, 1.16074877e-03, 8.18218149e-04,\n",
       "       5.88648725e-04, 4.31261345e-04, 3.21238214e-04, 2.42834273e-04,\n",
       "       1.85936897e-04])"
      ]
     },
     "execution_count": 12,
     "metadata": {},
     "output_type": "execute_result"
    }
   ],
   "source": [
    "P_exact"
   ]
  },
  {
   "cell_type": "code",
   "execution_count": 13,
   "id": "627f6bea",
   "metadata": {},
   "outputs": [
    {
     "data": {
      "image/png": "[encoded data removed]",
      "text/plain": [
       "<Figure size 720x432 with 1 Axes>"
      ]
     },
     "metadata": {
      "needs_background": "light"
     },
     "output_type": "display_data"
    }
   ],
   "source": [
    "plt.figure(figsize=(10, 6))\n",
    "plt.plot(Sn, P_exact, '-or',label=\"Heston exact\")\n",
    "plt.plot(Sn, pDO, '-ob', label=\"DO\")\n",
    "plt.plot(Sn, pCS, '-ok', label=\"CS\")\n",
    "plt.plot(Sn, pMCS, '-oy', label=\"MCS\")\n",
    "plt.legend(fontsize=14)\n",
    "plt.xlabel(\"Stock price, S\")\n",
    "plt.ylabel(\"Call option price\")\n",
    "plt.grid()"
   ]
  },
  {
   "cell_type": "code",
   "execution_count": 14,
   "id": "35a2b3fc",
   "metadata": {},
   "outputs": [
    {
     "name": "stdout",
     "output_type": "stream",
     "text": [
      "DO, error = 0.4171%,\n",
      "CS, error = 0.4174%,\n",
      "MCS, error = 0.4174%,\n"
     ]
    }
   ],
   "source": [
    "names = [\"DO\", \"CS\", \"MCS\"]\n",
    "prices = [pDO, pCS, pMCS]\n",
    "\n",
    "for name, price in zip(names, prices):\n",
    "    err = np.linalg.norm(P_exact - price) / np.linalg.norm(P_exact) * 100\n",
    "    print(f'{name}, error = {err:1.4}%,')"
   ]
  },
  {
   "cell_type": "code",
   "execution_count": 15,
   "id": "37077279",
   "metadata": {},
   "outputs": [
    {
     "data": {
      "text/plain": [
       "[<matplotlib.lines.Line2D at 0x7f372a66dca0>]"
      ]
     },
     "execution_count": 15,
     "metadata": {},
     "output_type": "execute_result"
    },
    {
     "data": {
      "image/png": "[encoded data removed]",
      "text/plain": [
       "<Figure size 432x288 with 1 Axes>"
      ]
     },
     "metadata": {
      "needs_background": "light"
     },
     "output_type": "display_data"
    }
   ],
   "source": [
    "plt.plot(Sn, np.abs(P_exact - pMCS))"
   ]
  },
  {
   "cell_type": "code",
   "execution_count": 16,
   "id": "52946319",
   "metadata": {},
   "outputs": [
    {
     "data": {
      "text/plain": [
       "[<matplotlib.lines.Line2D at 0x7f372a5d4910>]"
      ]
     },
     "execution_count": 16,
     "metadata": {},
     "output_type": "execute_result"
    },
    {
     "data": {
      "image/png": "[encoded data removed]",
      "text/plain": [
       "<Figure size 432x288 with 1 Axes>"
      ]
     },
     "metadata": {
      "needs_background": "light"
     },
     "output_type": "display_data"
    }
   ],
   "source": [
    "plt.plot(Sn, np.abs(P_exact - pDO), '-ok')"
   ]
  },
  {
   "cell_type": "code",
   "execution_count": 17,
   "id": "2fc92d42",
   "metadata": {},
   "outputs": [],
   "source": [
    "from solver import *"
   ]
  },
  {
   "cell_type": "code",
   "execution_count": 18,
   "id": "5f6dcc1d",
   "metadata": {},
   "outputs": [],
   "source": [
    "Xleft = Dirichle(lambda x: 1 - Sn[0])\n",
    "\n",
    "Xright = Dirichle(lambda x: 0.0)\n",
    "\n",
    "Yleft = Neuman(lambda x: 0.0)\n",
    "\n",
    "Yright = Neuman(lambda x: 0.0)"
   ]
  },
  {
   "cell_type": "code",
   "execution_count": 19,
   "id": "37b0cdcc",
   "metadata": {},
   "outputs": [],
   "source": [
    "boundary = Boundary2D(Xleft, Xright, Yleft, Yright)"
   ]
  },
  {
   "cell_type": "code",
   "execution_count": 20,
   "id": "0dba2282",
   "metadata": {},
   "outputs": [],
   "source": [
    "init = lambda x, y: np.maximum(0, 1.0 - np.exp(x))\n",
    "\n",
    "mux = lambda x, y: (r - 0.5 * y * sigma)\n",
    "muy = lambda x, y:kappa * (theta - y * sigma) / sigma \n",
    "\n",
    "sigmax = lambda x, y: 0.5 * sigma * y\n",
    "sigmay = lambda x, y: 0.5 * sigma * y\n",
    "sigmaxy = lambda x, y: sigma * y * rho"
   ]
  },
  {
   "cell_type": "code",
   "execution_count": 21,
   "id": "26673d06",
   "metadata": {},
   "outputs": [],
   "source": [
    "problem = Problem(boundary, init, mux, muy, sigmax, sigmay, sigmaxy)"
   ]
  },
  {
   "cell_type": "code",
   "execution_count": 22,
   "id": "7446e70d",
   "metadata": {},
   "outputs": [],
   "source": [
    "der = DerFwdXY()"
   ]
  },
  {
   "cell_type": "code",
   "execution_count": 23,
   "id": "0fcaccab",
   "metadata": {},
   "outputs": [],
   "source": [
    "solver = ADI_DO(problem, der, gridX, gridY, gridT, th=0.5)"
   ]
  },
  {
   "cell_type": "code",
   "execution_count": 24,
   "id": "0aaa1eec",
   "metadata": {},
   "outputs": [],
   "source": [
    "res = solver.solve(Nx, Ny, M)"
   ]
  },
  {
   "cell_type": "code",
   "execution_count": 25,
   "id": "2e026dbe",
   "metadata": {},
   "outputs": [],
   "source": [
    "p_euler = GetPFromU(res)\n",
    "p_rk = GetPFromU(res)"
   ]
  },
  {
   "cell_type": "code",
   "execution_count": 26,
   "id": "3c1de849",
   "metadata": {},
   "outputs": [
    {
     "data": {
      "text/plain": [
       "<matplotlib.legend.Legend at 0x7f372c6f9c10>"
      ]
     },
     "execution_count": 26,
     "metadata": {},
     "output_type": "execute_result"
    },
    {
     "data": {
      "image/png": "[encoded data removed]",
      "text/plain": [
       "<Figure size 720x360 with 1 Axes>"
      ]
     },
     "metadata": {
      "needs_background": "light"
     },
     "output_type": "display_data"
    }
   ],
   "source": [
    "plt.figure(figsize=(10, 5))\n",
    "plt.plot(Sn, p_rk, '-ok', label='rk')\n",
    "plt.plot(Sn, P_exact, '-ob', label='exact')\n",
    "plt.grid()\n",
    "plt.legend(fontsize=15)"
   ]
  },
  {
   "cell_type": "code",
   "execution_count": 27,
   "id": "e65316c4",
   "metadata": {},
   "outputs": [
    {
     "data": {
      "text/plain": [
       "0.39889204552318713"
      ]
     },
     "execution_count": 27,
     "metadata": {},
     "output_type": "execute_result"
    }
   ],
   "source": [
    "np.linalg.norm(P_exact - p_rk) / np.linalg.norm(P_exact) * 100"
   ]
  },
  {
   "cell_type": "code",
   "execution_count": 28,
   "id": "ca78d644",
   "metadata": {},
   "outputs": [
    {
     "data": {
      "image/png": "[encoded data removed]",
      "text/plain": [
       "<Figure size 432x288 with 1 Axes>"
      ]
     },
     "metadata": {
      "needs_background": "light"
     },
     "output_type": "display_data"
    }
   ],
   "source": [
    "plt.plot(Sn, np.abs(P_exact - p_rk), '-ok')\n",
    "plt.grid()"
   ]
  }
 ],
 "metadata": {
  "kernelspec": {
   "display_name": "Python [conda env:ubiquant_kaggle] *",
   "language": "python",
   "name": "conda-env-ubiquant_kaggle-py"
  },
  "language_info": {
   "codemirror_mode": {
    "name": "ipython",
    "version": 3
   },
   "file_extension": ".py",
   "mimetype": "text/x-python",
   "name": "python",
   "nbconvert_exporter": "python",
   "pygments_lexer": "ipython3",
   "version": "3.8.12"
  }
 },
 "nbformat": 4,
 "nbformat_minor": 5
}
